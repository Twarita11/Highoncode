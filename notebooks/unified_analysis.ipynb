{
 "cells": [
  {
   "cell_type": "markdown",
   "id": "a4894dcf",
   "metadata": {},
   "source": [
    "# Crop Market Analysis and Price Prediction\n",
    "\n",
    "This notebook provides an end-to-end analysis of crop market data, including:\n",
    "1. Data Preprocessing and EDA\n",
    "2. Feature Engineering\n",
    "3. Model Training and Evaluation\n",
    "4. Market Trend Analysis\n",
    "5. Seasonal Pattern Analysis\n",
    "6. Region-based Recommendations"
   ]
  },
  {
   "cell_type": "code",
   "execution_count": 1,
   "id": "308c86ea",
   "metadata": {},
   "outputs": [
    {
     "name": "stderr",
     "output_type": "stream",
     "text": [
      "Matplotlib is building the font cache; this may take a moment.\n"
     ]
    }
   ],
   "source": [
    "# Import required libraries\n",
    "import pandas as pd\n",
    "import numpy as np\n",
    "import matplotlib.pyplot as plt\n",
    "import seaborn as sns\n",
    "import plotly.graph_objects as go\n",
    "from plotly.subplots import make_subplots\n",
    "import plotly.express as px\n",
    "from datetime import datetime, timedelta\n",
    "\n",
    "# ML libraries\n",
    "from sklearn.model_selection import train_test_split\n",
    "from sklearn.preprocessing import StandardScaler\n",
    "from sklearn.metrics import mean_squared_error, r2_score, mean_absolute_error\n",
    "import xgboost as xgb\n",
    "import lightgbm as lgb\n",
    "import pickle\n",
    "\n",
    "# Set random seed for reproducibility\n",
    "np.random.seed(42)"
   ]
  },
  {
   "cell_type": "markdown",
   "id": "e0f2354c",
   "metadata": {},
   "source": [
    "## 1. Data Loading and Preprocessing"
   ]
  },
  {
   "cell_type": "code",
   "execution_count": 3,
   "id": "9b047dc4",
   "metadata": {},
   "outputs": [
    {
     "name": "stdout",
     "output_type": "stream",
     "text": [
      "Dataset Info:\n",
      "<class 'pandas.core.frame.DataFrame'>\n",
      "RangeIndex: 365 entries, 0 to 364\n",
      "Data columns (total 14 columns):\n",
      " #   Column         Non-Null Count  Dtype         \n",
      "---  ------         --------------  -----         \n",
      " 0   date           365 non-null    datetime64[ns]\n",
      " 1   market_id      365 non-null    object        \n",
      " 2   market_name    365 non-null    object        \n",
      " 3   price          365 non-null    float64       \n",
      " 4   price_lag_1    364 non-null    float64       \n",
      " 5   price_lag_7    358 non-null    float64       \n",
      " 6   price_lag_14   351 non-null    float64       \n",
      " 7   price_lag_30   335 non-null    float64       \n",
      " 8   price_ma_7     359 non-null    float64       \n",
      " 9   price_ma_30    336 non-null    float64       \n",
      " 10  precipitation  365 non-null    float64       \n",
      " 11  temp_max       365 non-null    float64       \n",
      " 12  temp_min       365 non-null    float64       \n",
      " 13  humidity       365 non-null    float64       \n",
      "dtypes: datetime64[ns](1), float64(11), object(2)\n",
      "memory usage: 40.1+ KB\n",
      "None\n",
      "\n",
      "First few rows:\n",
      "        date market_id market_name      price  price_lag_1  price_lag_7  \\\n",
      "0 2024-01-01  MAH_Pune        Pune  41.490142          NaN          NaN   \n",
      "1 2024-01-02  MAH_Pune        Pune  41.691797    41.490142          NaN   \n",
      "2 2024-01-03  MAH_Pune        Pune  46.065377    41.691797          NaN   \n",
      "3 2024-01-04  MAH_Pune        Pune  50.529360    46.065377          NaN   \n",
      "4 2024-01-05  MAH_Pune        Pune  46.838878    50.529360          NaN   \n",
      "\n",
      "   price_lag_14  price_lag_30  price_ma_7  price_ma_30  precipitation  \\\n",
      "0           NaN           NaN         NaN          NaN       0.092809   \n",
      "1           NaN           NaN         NaN          NaN      12.284443   \n",
      "2           NaN           NaN         NaN          NaN       0.626405   \n",
      "3           NaN           NaN         NaN          NaN       4.296203   \n",
      "4           NaN           NaN         NaN          NaN       1.601407   \n",
      "\n",
      "    temp_max   temp_min   humidity  \n",
      "0  29.197559  19.197559  88.119801  \n",
      "1  30.585892  20.585892  73.579257  \n",
      "2  30.300558  20.300558  73.932632  \n",
      "3  30.608310  20.608310  76.814451  \n",
      "4  29.004400  19.004400  64.205367  \n"
     ]
    }
   ],
   "source": [
    "# Load the dataset\n",
    "data = pd.read_csv('../data/processed/tomato_MAH_Pune_features.csv', parse_dates=['date'])\n",
    "\n",
    "# Display basic information about the dataset\n",
    "print(\"Dataset Info:\")\n",
    "print(data.info())\n",
    "\n",
    "print(\"\\nFirst few rows:\")\n",
    "print(data.head())"
   ]
  },
  {
   "cell_type": "code",
   "execution_count": 4,
   "id": "0195e9d1",
   "metadata": {},
   "outputs": [
    {
     "name": "stdout",
     "output_type": "stream",
     "text": [
      "Features available for modeling:\n",
      "['date', 'market_id', 'market_name', 'price', 'price_lag_1', 'price_lag_7', 'price_lag_14', 'price_lag_30', 'price_ma_7', 'price_ma_30', 'precipitation', 'temp_max', 'temp_min', 'humidity', 'month', 'year', 'day_of_week', 'quarter']\n"
     ]
    }
   ],
   "source": [
    "# Add time-based features\n",
    "data['month'] = data['date'].dt.month\n",
    "data['year'] = data['date'].dt.year\n",
    "data['day_of_week'] = data['date'].dt.dayofweek\n",
    "data['quarter'] = data['date'].dt.quarter\n",
    "\n",
    "# Print available features\n",
    "print(\"Features available for modeling:\")\n",
    "print(data.columns.tolist())"
   ]
  },
  {
   "cell_type": "code",
   "execution_count": 11,
   "id": "b2b067a5",
   "metadata": {},
   "outputs": [
    {
     "name": "stdout",
     "output_type": "stream",
     "text": [
      "New features added for model enhancement:\n",
      "- price_volatility_7d\n",
      "- price_volatility_30d\n",
      "- price_momentum_7d\n",
      "- price_momentum_30d\n",
      "- seasonal_factor\n",
      "- trend\n",
      "- residual\n",
      "- supply_pressure\n",
      "- demand_pressure\n",
      "- temp_humidity_interaction\n",
      "- rain_temp_interaction\n",
      "- day_sin\n",
      "- day_cos\n",
      "- month_sin\n",
      "- month_cos\n"
     ]
    },
    {
     "name": "stderr",
     "output_type": "stream",
     "text": [
      "C:\\Users\\HP\\AppData\\Local\\Temp\\ipykernel_28932\\1580541132.py:37: FutureWarning:\n",
      "\n",
      "DataFrame.fillna with 'method' is deprecated and will raise in a future version. Use obj.ffill() or obj.bfill() instead.\n",
      "\n"
     ]
    }
   ],
   "source": [
    "# Add advanced features for better prediction confidence\n",
    "\n",
    "# 1. Price volatility features\n",
    "data['price_volatility_7d'] = data['price'].rolling(window=7).std()\n",
    "data['price_volatility_30d'] = data['price'].rolling(window=30).std()\n",
    "\n",
    "# 2. Price momentum indicators\n",
    "data['price_momentum_7d'] = data['price'] / data['price'].shift(7) - 1\n",
    "data['price_momentum_30d'] = data['price'] / data['price'].shift(30) - 1\n",
    "\n",
    "# 3. Seasonal decomposition features\n",
    "from statsmodels.tsa.seasonal import seasonal_decompose\n",
    "\n",
    "# Ensure the date index is regular\n",
    "data_temp = data.set_index('date')['price'].asfreq('D')\n",
    "decomposition = seasonal_decompose(data_temp, period=30, extrapolate_trend='freq')\n",
    "\n",
    "data['seasonal_factor'] = decomposition.seasonal\n",
    "data['trend'] = decomposition.trend\n",
    "data['residual'] = decomposition.resid\n",
    "\n",
    "# 4. Market supply-demand indicators\n",
    "data['supply_pressure'] = (data['price'] < data['price_ma_30']).astype(int)\n",
    "data['demand_pressure'] = (data['price'] > data['price_ma_30']).astype(int)\n",
    "\n",
    "# 5. Weather interaction features\n",
    "data['temp_humidity_interaction'] = data['temp_max'] * data['humidity']\n",
    "data['rain_temp_interaction'] = data['precipitation'] * data['temp_max']\n",
    "\n",
    "# 6. Cyclical features\n",
    "data['day_sin'] = np.sin(2 * np.pi * data['day_of_week']/7)\n",
    "data['day_cos'] = np.cos(2 * np.pi * data['day_of_week']/7)\n",
    "data['month_sin'] = np.sin(2 * np.pi * data['month']/12)\n",
    "data['month_cos'] = np.cos(2 * np.pi * data['month']/12)\n",
    "\n",
    "# Handle any missing values from the calculations\n",
    "data = data.fillna(method='bfill')\n",
    "\n",
    "print(\"New features added for model enhancement:\")\n",
    "new_features = ['price_volatility_7d', 'price_volatility_30d', \n",
    "                'price_momentum_7d', 'price_momentum_30d',\n",
    "                'seasonal_factor', 'trend', 'residual',\n",
    "                'supply_pressure', 'demand_pressure',\n",
    "                'temp_humidity_interaction', 'rain_temp_interaction',\n",
    "                'day_sin', 'day_cos', 'month_sin', 'month_cos']\n",
    "print(\"\\n\".join(f\"- {feature}\" for feature in new_features))"
   ]
  },
  {
   "cell_type": "markdown",
   "id": "6755129f",
   "metadata": {},
   "source": [
    "## 2. Data Splitting"
   ]
  },
  {
   "cell_type": "code",
   "execution_count": 5,
   "id": "bc500b96",
   "metadata": {},
   "outputs": [
    {
     "name": "stdout",
     "output_type": "stream",
     "text": [
      "Training set size: 219\n",
      "Validation set size: 73\n",
      "Test set size: 73\n"
     ]
    }
   ],
   "source": [
    "# Define features and target\n",
    "features = ['month', 'year', 'day_of_week', 'quarter', \n",
    "           'price_lag_1', 'price_lag_7', 'price_lag_14', 'price_lag_30',\n",
    "           'price_ma_7', 'price_ma_30',\n",
    "           'temp_max', 'temp_min', 'humidity', 'precipitation']\n",
    "\n",
    "X = data[features]\n",
    "y = data['price']\n",
    "\n",
    "# First split: separate test set\n",
    "X_temp, X_test, y_temp, y_test = train_test_split(X, y, test_size=0.2, random_state=42)\n",
    "\n",
    "# Second split: separate training and validation sets\n",
    "X_train, X_val, y_train, y_val = train_test_split(X_temp, y_temp, test_size=0.25, random_state=42)\n",
    "\n",
    "print(f\"Training set size: {len(X_train)}\")\n",
    "print(f\"Validation set size: {len(X_val)}\")\n",
    "print(f\"Test set size: {len(X_test)}\")"
   ]
  },
  {
   "cell_type": "markdown",
   "id": "f55e3ff2",
   "metadata": {},
   "source": [
    "## 3. Model Training and Evaluation"
   ]
  },
  {
   "cell_type": "code",
   "execution_count": 6,
   "id": "39b923ca",
   "metadata": {},
   "outputs": [
    {
     "name": "stdout",
     "output_type": "stream",
     "text": [
      "[LightGBM] [Info] Auto-choosing col-wise multi-threading, the overhead of testing was 0.000598 seconds.\n",
      "You can set `force_col_wise=true` to remove the overhead.\n",
      "[LightGBM] [Info] Total Bins 756\n",
      "[LightGBM] [Info] Number of data points in the train set: 219, number of used features: 13\n",
      "[LightGBM] [Info] Start training from score 45.189862\n",
      "[LightGBM] [Warning] No further splits with positive gain, best gain: -inf\n",
      "[LightGBM] [Warning] No further splits with positive gain, best gain: -inf\n",
      "[LightGBM] [Warning] No further splits with positive gain, best gain: -inf\n",
      "[LightGBM] [Warning] No further splits with positive gain, best gain: -inf\n",
      "[LightGBM] [Warning] No further splits with positive gain, best gain: -inf\n",
      "[LightGBM] [Warning] No further splits with positive gain, best gain: -inf\n",
      "[LightGBM] [Warning] No further splits with positive gain, best gain: -inf\n",
      "[LightGBM] [Warning] No further splits with positive gain, best gain: -inf\n",
      "[LightGBM] [Warning] No further splits with positive gain, best gain: -inf\n",
      "[LightGBM] [Warning] No further splits with positive gain, best gain: -inf\n",
      "[LightGBM] [Warning] No further splits with positive gain, best gain: -inf\n",
      "[LightGBM] [Warning] No further splits with positive gain, best gain: -inf\n",
      "[LightGBM] [Warning] No further splits with positive gain, best gain: -inf\n",
      "[LightGBM] [Warning] No further splits with positive gain, best gain: -inf\n",
      "[LightGBM] [Warning] No further splits with positive gain, best gain: -inf\n",
      "[LightGBM] [Warning] No further splits with positive gain, best gain: -inf\n",
      "[LightGBM] [Warning] No further splits with positive gain, best gain: -inf\n",
      "[LightGBM] [Warning] No further splits with positive gain, best gain: -inf\n",
      "[LightGBM] [Warning] No further splits with positive gain, best gain: -inf\n",
      "[LightGBM] [Warning] No further splits with positive gain, best gain: -inf\n",
      "[LightGBM] [Warning] No further splits with positive gain, best gain: -inf\n",
      "[LightGBM] [Warning] No further splits with positive gain, best gain: -inf\n",
      "[LightGBM] [Warning] No further splits with positive gain, best gain: -inf\n",
      "[LightGBM] [Warning] No further splits with positive gain, best gain: -inf\n",
      "[LightGBM] [Warning] No further splits with positive gain, best gain: -inf\n",
      "[LightGBM] [Warning] No further splits with positive gain, best gain: -inf\n",
      "[LightGBM] [Warning] No further splits with positive gain, best gain: -inf\n",
      "[LightGBM] [Warning] No further splits with positive gain, best gain: -inf\n",
      "[LightGBM] [Warning] No further splits with positive gain, best gain: -inf\n",
      "[LightGBM] [Warning] No further splits with positive gain, best gain: -inf\n",
      "[LightGBM] [Warning] No further splits with positive gain, best gain: -inf\n",
      "[LightGBM] [Warning] No further splits with positive gain, best gain: -inf\n",
      "[LightGBM] [Warning] No further splits with positive gain, best gain: -inf\n",
      "[LightGBM] [Warning] No further splits with positive gain, best gain: -inf\n",
      "[LightGBM] [Warning] No further splits with positive gain, best gain: -inf\n",
      "[LightGBM] [Warning] No further splits with positive gain, best gain: -inf\n",
      "[LightGBM] [Warning] No further splits with positive gain, best gain: -inf\n",
      "[LightGBM] [Warning] No further splits with positive gain, best gain: -inf\n",
      "[LightGBM] [Warning] No further splits with positive gain, best gain: -inf\n",
      "[LightGBM] [Warning] No further splits with positive gain, best gain: -inf\n",
      "[LightGBM] [Warning] No further splits with positive gain, best gain: -inf\n",
      "[LightGBM] [Warning] No further splits with positive gain, best gain: -inf\n",
      "[LightGBM] [Warning] No further splits with positive gain, best gain: -inf\n",
      "[LightGBM] [Warning] No further splits with positive gain, best gain: -inf\n",
      "[LightGBM] [Warning] No further splits with positive gain, best gain: -inf\n",
      "[LightGBM] [Warning] No further splits with positive gain, best gain: -inf\n",
      "[LightGBM] [Warning] No further splits with positive gain, best gain: -inf\n",
      "[LightGBM] [Warning] No further splits with positive gain, best gain: -inf\n",
      "[LightGBM] [Warning] No further splits with positive gain, best gain: -inf\n",
      "[LightGBM] [Warning] No further splits with positive gain, best gain: -inf\n",
      "[LightGBM] [Warning] No further splits with positive gain, best gain: -inf\n",
      "[LightGBM] [Warning] No further splits with positive gain, best gain: -inf\n",
      "[LightGBM] [Warning] No further splits with positive gain, best gain: -inf\n",
      "[LightGBM] [Warning] No further splits with positive gain, best gain: -inf\n",
      "[LightGBM] [Warning] No further splits with positive gain, best gain: -inf\n",
      "[LightGBM] [Warning] No further splits with positive gain, best gain: -inf\n",
      "[LightGBM] [Warning] No further splits with positive gain, best gain: -inf\n",
      "[LightGBM] [Warning] No further splits with positive gain, best gain: -inf\n",
      "[LightGBM] [Warning] No further splits with positive gain, best gain: -inf\n",
      "[LightGBM] [Warning] No further splits with positive gain, best gain: -inf\n",
      "[LightGBM] [Warning] No further splits with positive gain, best gain: -inf\n",
      "[LightGBM] [Warning] No further splits with positive gain, best gain: -inf\n",
      "[LightGBM] [Warning] No further splits with positive gain, best gain: -inf\n",
      "[LightGBM] [Warning] No further splits with positive gain, best gain: -inf\n",
      "[LightGBM] [Warning] No further splits with positive gain, best gain: -inf\n",
      "[LightGBM] [Warning] No further splits with positive gain, best gain: -inf\n",
      "[LightGBM] [Warning] No further splits with positive gain, best gain: -inf\n",
      "[LightGBM] [Warning] No further splits with positive gain, best gain: -inf\n",
      "[LightGBM] [Warning] No further splits with positive gain, best gain: -inf\n",
      "[LightGBM] [Warning] No further splits with positive gain, best gain: -inf\n",
      "[LightGBM] [Warning] No further splits with positive gain, best gain: -inf\n",
      "[LightGBM] [Warning] No further splits with positive gain, best gain: -inf\n",
      "[LightGBM] [Warning] No further splits with positive gain, best gain: -inf\n",
      "[LightGBM] [Warning] No further splits with positive gain, best gain: -inf\n",
      "[LightGBM] [Warning] No further splits with positive gain, best gain: -inf\n",
      "[LightGBM] [Warning] No further splits with positive gain, best gain: -inf\n",
      "[LightGBM] [Warning] No further splits with positive gain, best gain: -inf\n",
      "[LightGBM] [Warning] No further splits with positive gain, best gain: -inf\n",
      "[LightGBM] [Warning] No further splits with positive gain, best gain: -inf\n",
      "[LightGBM] [Warning] No further splits with positive gain, best gain: -inf\n",
      "[LightGBM] [Warning] No further splits with positive gain, best gain: -inf\n",
      "[LightGBM] [Warning] No further splits with positive gain, best gain: -inf\n",
      "[LightGBM] [Warning] No further splits with positive gain, best gain: -inf\n",
      "[LightGBM] [Warning] No further splits with positive gain, best gain: -inf\n",
      "[LightGBM] [Warning] No further splits with positive gain, best gain: -inf\n",
      "[LightGBM] [Warning] No further splits with positive gain, best gain: -inf\n",
      "[LightGBM] [Warning] No further splits with positive gain, best gain: -inf\n",
      "[LightGBM] [Warning] No further splits with positive gain, best gain: -inf\n",
      "[LightGBM] [Warning] No further splits with positive gain, best gain: -inf\n",
      "[LightGBM] [Warning] No further splits with positive gain, best gain: -inf\n",
      "[LightGBM] [Warning] No further splits with positive gain, best gain: -inf\n",
      "[LightGBM] [Warning] No further splits with positive gain, best gain: -inf\n",
      "[LightGBM] [Warning] No further splits with positive gain, best gain: -inf\n",
      "[LightGBM] [Warning] No further splits with positive gain, best gain: -inf\n",
      "[LightGBM] [Warning] No further splits with positive gain, best gain: -inf\n",
      "[LightGBM] [Warning] No further splits with positive gain, best gain: -inf\n",
      "[LightGBM] [Warning] No further splits with positive gain, best gain: -inf\n",
      "[LightGBM] [Warning] No further splits with positive gain, best gain: -inf\n",
      "[LightGBM] [Warning] No further splits with positive gain, best gain: -inf\n",
      "[LightGBM] [Warning] No further splits with positive gain, best gain: -inf\n"
     ]
    }
   ],
   "source": [
    "# Train XGBoost model\n",
    "xgb_model = xgb.XGBRegressor(\n",
    "    n_estimators=100,\n",
    "    learning_rate=0.1,\n",
    "    max_depth=5,\n",
    "    random_state=42\n",
    ")\n",
    "\n",
    "xgb_model.fit(X_train, y_train)\n",
    "\n",
    "# Train LightGBM model\n",
    "lgb_model = lgb.LGBMRegressor(\n",
    "    n_estimators=100,\n",
    "    learning_rate=0.1,\n",
    "    max_depth=5,\n",
    "    random_state=42\n",
    ")\n",
    "\n",
    "lgb_model.fit(X_train, y_train)\n",
    "\n",
    "# Save models\n",
    "with open('../models/xgb_model.pkl', 'wb') as f:\n",
    "    pickle.dump(xgb_model, f)\n",
    "\n",
    "with open('../models/lgb_model.pkl', 'wb') as f:\n",
    "    pickle.dump(lgb_model, f)"
   ]
  },
  {
   "cell_type": "code",
   "execution_count": 7,
   "id": "553878c0",
   "metadata": {},
   "outputs": [
    {
     "name": "stdout",
     "output_type": "stream",
     "text": [
      "XGBoost Results:\n",
      "Training Metrics:\n",
      "RMSE: 0.27\n",
      "MAE: 0.20\n",
      "R2 Score: 0.9989\n",
      "\n",
      "Validation Metrics:\n",
      "RMSE: 3.80\n",
      "MAE: 3.01\n",
      "R2 Score: 0.7673\n",
      "\n",
      "Test Metrics:\n",
      "RMSE: 3.57\n",
      "MAE: 2.74\n",
      "R2 Score: 0.7953\n",
      "\n",
      "\n",
      "LightGBM Results:\n",
      "Training Metrics:\n",
      "RMSE: 1.44\n",
      "MAE: 1.15\n",
      "R2 Score: 0.9695\n",
      "\n",
      "Validation Metrics:\n",
      "RMSE: 3.51\n",
      "MAE: 2.78\n",
      "R2 Score: 0.8007\n",
      "\n",
      "Test Metrics:\n",
      "RMSE: 3.20\n",
      "MAE: 2.57\n",
      "R2 Score: 0.8359\n",
      "\n"
     ]
    }
   ],
   "source": [
    "# Evaluate models\n",
    "def evaluate_model(model, X, y, dataset_name):\n",
    "    predictions = model.predict(X)\n",
    "    mse = mean_squared_error(y, predictions)\n",
    "    rmse = np.sqrt(mse)\n",
    "    mae = mean_absolute_error(y, predictions)\n",
    "    r2 = r2_score(y, predictions)\n",
    "    \n",
    "    print(f\"{dataset_name} Metrics:\")\n",
    "    print(f\"RMSE: {rmse:.2f}\")\n",
    "    print(f\"MAE: {mae:.2f}\")\n",
    "    print(f\"R2 Score: {r2:.4f}\\n\")\n",
    "    \n",
    "    return predictions\n",
    "\n",
    "print(\"XGBoost Results:\")\n",
    "xgb_train_pred = evaluate_model(xgb_model, X_train, y_train, \"Training\")\n",
    "xgb_val_pred = evaluate_model(xgb_model, X_val, y_val, \"Validation\")\n",
    "xgb_test_pred = evaluate_model(xgb_model, X_test, y_test, \"Test\")\n",
    "\n",
    "print(\"\\nLightGBM Results:\")\n",
    "lgb_train_pred = evaluate_model(lgb_model, X_train, y_train, \"Training\")\n",
    "lgb_val_pred = evaluate_model(lgb_model, X_val, y_val, \"Validation\")\n",
    "lgb_test_pred = evaluate_model(lgb_model, X_test, y_test, \"Test\")"
   ]
  },
  {
   "cell_type": "markdown",
   "id": "80c93ba6",
   "metadata": {},
   "source": [
    "## 4. Market Trend Analysis"
   ]
  },
  {
   "cell_type": "code",
   "execution_count": 8,
   "id": "40ebc452",
   "metadata": {},
   "outputs": [
    {
     "data": {
      "application/vnd.plotly.v1+json": {
       "config": {
        "plotlyServerURL": "https://plot.ly"
       },
       "data": [
        {
         "line": {
          "color": "blue"
         },
         "name": "Actual Price",
         "type": "scatter",
         "x": [
          "2024-01-01T00:00:00.000000000",
          "2024-01-02T00:00:00.000000000",
          "2024-01-03T00:00:00.000000000",
          "2024-01-04T00:00:00.000000000",
          "2024-01-05T00:00:00.000000000",
          "2024-01-06T00:00:00.000000000",
          "2024-01-07T00:00:00.000000000",
          "2024-01-08T00:00:00.000000000",
          "2024-01-09T00:00:00.000000000",
          "2024-01-10T00:00:00.000000000",
          "2024-01-11T00:00:00.000000000",
          "2024-01-12T00:00:00.000000000",
          "2024-01-13T00:00:00.000000000",
          "2024-01-14T00:00:00.000000000",
          "2024-01-15T00:00:00.000000000",
          "2024-01-16T00:00:00.000000000",
          "2024-01-17T00:00:00.000000000",
          "2024-01-18T00:00:00.000000000",
          "2024-01-19T00:00:00.000000000",
          "2024-01-20T00:00:00.000000000",
          "2024-01-21T00:00:00.000000000",
          "2024-01-22T00:00:00.000000000",
          "2024-01-23T00:00:00.000000000",
          "2024-01-24T00:00:00.000000000",
          "2024-01-25T00:00:00.000000000",
          "2024-01-26T00:00:00.000000000",
          "2024-01-27T00:00:00.000000000",
          "2024-01-28T00:00:00.000000000",
          "2024-01-29T00:00:00.000000000",
          "2024-01-30T00:00:00.000000000",
          "2024-01-31T00:00:00.000000000",
          "2024-02-01T00:00:00.000000000",
          "2024-02-02T00:00:00.000000000",
          "2024-02-03T00:00:00.000000000",
          "2024-02-04T00:00:00.000000000",
          "2024-02-05T00:00:00.000000000",
          "2024-02-06T00:00:00.000000000",
          "2024-02-07T00:00:00.000000000",
          "2024-02-08T00:00:00.000000000",
          "2024-02-09T00:00:00.000000000",
          "2024-02-10T00:00:00.000000000",
          "2024-02-11T00:00:00.000000000",
          "2024-02-12T00:00:00.000000000",
          "2024-02-13T00:00:00.000000000",
          "2024-02-14T00:00:00.000000000",
          "2024-02-15T00:00:00.000000000",
          "2024-02-16T00:00:00.000000000",
          "2024-02-17T00:00:00.000000000",
          "2024-02-18T00:00:00.000000000",
          "2024-02-19T00:00:00.000000000",
          "2024-02-20T00:00:00.000000000",
          "2024-02-21T00:00:00.000000000",
          "2024-02-22T00:00:00.000000000",
          "2024-02-23T00:00:00.000000000",
          "2024-02-24T00:00:00.000000000",
          "2024-02-25T00:00:00.000000000",
          "2024-02-26T00:00:00.000000000",
          "2024-02-27T00:00:00.000000000",
          "2024-02-28T00:00:00.000000000",
          "2024-02-29T00:00:00.000000000",
          "2024-03-01T00:00:00.000000000",
          "2024-03-02T00:00:00.000000000",
          "2024-03-03T00:00:00.000000000",
          "2024-03-04T00:00:00.000000000",
          "2024-03-05T00:00:00.000000000",
          "2024-03-06T00:00:00.000000000",
          "2024-03-07T00:00:00.000000000",
          "2024-03-08T00:00:00.000000000",
          "2024-03-09T00:00:00.000000000",
          "2024-03-10T00:00:00.000000000",
          "2024-03-11T00:00:00.000000000",
          "2024-03-12T00:00:00.000000000",
          "2024-03-13T00:00:00.000000000",
          "2024-03-14T00:00:00.000000000",
          "2024-03-15T00:00:00.000000000",
          "2024-03-16T00:00:00.000000000",
          "2024-03-17T00:00:00.000000000",
          "2024-03-18T00:00:00.000000000",
          "2024-03-19T00:00:00.000000000",
          "2024-03-20T00:00:00.000000000",
          "2024-03-21T00:00:00.000000000",
          "2024-03-22T00:00:00.000000000",
          "2024-03-23T00:00:00.000000000",
          "2024-03-24T00:00:00.000000000",
          "2024-03-25T00:00:00.000000000",
          "2024-03-26T00:00:00.000000000",
          "2024-03-27T00:00:00.000000000",
          "2024-03-28T00:00:00.000000000",
          "2024-03-29T00:00:00.000000000",
          "2024-03-30T00:00:00.000000000",
          "2024-03-31T00:00:00.000000000",
          "2024-04-01T00:00:00.000000000",
          "2024-04-02T00:00:00.000000000",
          "2024-04-03T00:00:00.000000000",
          "2024-04-04T00:00:00.000000000",
          "2024-04-05T00:00:00.000000000",
          "2024-04-06T00:00:00.000000000",
          "2024-04-07T00:00:00.000000000",
          "2024-04-08T00:00:00.000000000",
          "2024-04-09T00:00:00.000000000",
          "2024-04-10T00:00:00.000000000",
          "2024-04-11T00:00:00.000000000",
          "2024-04-12T00:00:00.000000000",
          "2024-04-13T00:00:00.000000000",
          "2024-04-14T00:00:00.000000000",
          "2024-04-15T00:00:00.000000000",
          "2024-04-16T00:00:00.000000000",
          "2024-04-17T00:00:00.000000000",
          "2024-04-18T00:00:00.000000000",
          "2024-04-19T00:00:00.000000000",
          "2024-04-20T00:00:00.000000000",
          "2024-04-21T00:00:00.000000000",
          "2024-04-22T00:00:00.000000000",
          "2024-04-23T00:00:00.000000000",
          "2024-04-24T00:00:00.000000000",
          "2024-04-25T00:00:00.000000000",
          "2024-04-26T00:00:00.000000000",
          "2024-04-27T00:00:00.000000000",
          "2024-04-28T00:00:00.000000000",
          "2024-04-29T00:00:00.000000000",
          "2024-04-30T00:00:00.000000000",
          "2024-05-01T00:00:00.000000000",
          "2024-05-02T00:00:00.000000000",
          "2024-05-03T00:00:00.000000000",
          "2024-05-04T00:00:00.000000000",
          "2024-05-05T00:00:00.000000000",
          "2024-05-06T00:00:00.000000000",
          "2024-05-07T00:00:00.000000000",
          "2024-05-08T00:00:00.000000000",
          "2024-05-09T00:00:00.000000000",
          "2024-05-10T00:00:00.000000000",
          "2024-05-11T00:00:00.000000000",
          "2024-05-12T00:00:00.000000000",
          "2024-05-13T00:00:00.000000000",
          "2024-05-14T00:00:00.000000000",
          "2024-05-15T00:00:00.000000000",
          "2024-05-16T00:00:00.000000000",
          "2024-05-17T00:00:00.000000000",
          "2024-05-18T00:00:00.000000000",
          "2024-05-19T00:00:00.000000000",
          "2024-05-20T00:00:00.000000000",
          "2024-05-21T00:00:00.000000000",
          "2024-05-22T00:00:00.000000000",
          "2024-05-23T00:00:00.000000000",
          "2024-05-24T00:00:00.000000000",
          "2024-05-25T00:00:00.000000000",
          "2024-05-26T00:00:00.000000000",
          "2024-05-27T00:00:00.000000000",
          "2024-05-28T00:00:00.000000000",
          "2024-05-29T00:00:00.000000000",
          "2024-05-30T00:00:00.000000000",
          "2024-05-31T00:00:00.000000000",
          "2024-06-01T00:00:00.000000000",
          "2024-06-02T00:00:00.000000000",
          "2024-06-03T00:00:00.000000000",
          "2024-06-04T00:00:00.000000000",
          "2024-06-05T00:00:00.000000000",
          "2024-06-06T00:00:00.000000000",
          "2024-06-07T00:00:00.000000000",
          "2024-06-08T00:00:00.000000000",
          "2024-06-09T00:00:00.000000000",
          "2024-06-10T00:00:00.000000000",
          "2024-06-11T00:00:00.000000000",
          "2024-06-12T00:00:00.000000000",
          "2024-06-13T00:00:00.000000000",
          "2024-06-14T00:00:00.000000000",
          "2024-06-15T00:00:00.000000000",
          "2024-06-16T00:00:00.000000000",
          "2024-06-17T00:00:00.000000000",
          "2024-06-18T00:00:00.000000000",
          "2024-06-19T00:00:00.000000000",
          "2024-06-20T00:00:00.000000000",
          "2024-06-21T00:00:00.000000000",
          "2024-06-22T00:00:00.000000000",
          "2024-06-23T00:00:00.000000000",
          "2024-06-24T00:00:00.000000000",
          "2024-06-25T00:00:00.000000000",
          "2024-06-26T00:00:00.000000000",
          "2024-06-27T00:00:00.000000000",
          "2024-06-28T00:00:00.000000000",
          "2024-06-29T00:00:00.000000000",
          "2024-06-30T00:00:00.000000000",
          "2024-07-01T00:00:00.000000000",
          "2024-07-02T00:00:00.000000000",
          "2024-07-03T00:00:00.000000000",
          "2024-07-04T00:00:00.000000000",
          "2024-07-05T00:00:00.000000000",
          "2024-07-06T00:00:00.000000000",
          "2024-07-07T00:00:00.000000000",
          "2024-07-08T00:00:00.000000000",
          "2024-07-09T00:00:00.000000000",
          "2024-07-10T00:00:00.000000000",
          "2024-07-11T00:00:00.000000000",
          "2024-07-12T00:00:00.000000000",
          "2024-07-13T00:00:00.000000000",
          "2024-07-14T00:00:00.000000000",
          "2024-07-15T00:00:00.000000000",
          "2024-07-16T00:00:00.000000000",
          "2024-07-17T00:00:00.000000000",
          "2024-07-18T00:00:00.000000000",
          "2024-07-19T00:00:00.000000000",
          "2024-07-20T00:00:00.000000000",
          "2024-07-21T00:00:00.000000000",
          "2024-07-22T00:00:00.000000000",
          "2024-07-23T00:00:00.000000000",
          "2024-07-24T00:00:00.000000000",
          "2024-07-25T00:00:00.000000000",
          "2024-07-26T00:00:00.000000000",
          "2024-07-27T00:00:00.000000000",
          "2024-07-28T00:00:00.000000000",
          "2024-07-29T00:00:00.000000000",
          "2024-07-30T00:00:00.000000000",
          "2024-07-31T00:00:00.000000000",
          "2024-08-01T00:00:00.000000000",
          "2024-08-02T00:00:00.000000000",
          "2024-08-03T00:00:00.000000000",
          "2024-08-04T00:00:00.000000000",
          "2024-08-05T00:00:00.000000000",
          "2024-08-06T00:00:00.000000000",
          "2024-08-07T00:00:00.000000000",
          "2024-08-08T00:00:00.000000000",
          "2024-08-09T00:00:00.000000000",
          "2024-08-10T00:00:00.000000000",
          "2024-08-11T00:00:00.000000000",
          "2024-08-12T00:00:00.000000000",
          "2024-08-13T00:00:00.000000000",
          "2024-08-14T00:00:00.000000000",
          "2024-08-15T00:00:00.000000000",
          "2024-08-16T00:00:00.000000000",
          "2024-08-17T00:00:00.000000000",
          "2024-08-18T00:00:00.000000000",
          "2024-08-19T00:00:00.000000000",
          "2024-08-20T00:00:00.000000000",
          "2024-08-21T00:00:00.000000000",
          "2024-08-22T00:00:00.000000000",
          "2024-08-23T00:00:00.000000000",
          "2024-08-24T00:00:00.000000000",
          "2024-08-25T00:00:00.000000000",
          "2024-08-26T00:00:00.000000000",
          "2024-08-27T00:00:00.000000000",
          "2024-08-28T00:00:00.000000000",
          "2024-08-29T00:00:00.000000000",
          "2024-08-30T00:00:00.000000000",
          "2024-08-31T00:00:00.000000000",
          "2024-09-01T00:00:00.000000000",
          "2024-09-02T00:00:00.000000000",
          "2024-09-03T00:00:00.000000000",
          "2024-09-04T00:00:00.000000000",
          "2024-09-05T00:00:00.000000000",
          "2024-09-06T00:00:00.000000000",
          "2024-09-07T00:00:00.000000000",
          "2024-09-08T00:00:00.000000000",
          "2024-09-09T00:00:00.000000000",
          "2024-09-10T00:00:00.000000000",
          "2024-09-11T00:00:00.000000000",
          "2024-09-12T00:00:00.000000000",
          "2024-09-13T00:00:00.000000000",
          "2024-09-14T00:00:00.000000000",
          "2024-09-15T00:00:00.000000000",
          "2024-09-16T00:00:00.000000000",
          "2024-09-17T00:00:00.000000000",
          "2024-09-18T00:00:00.000000000",
          "2024-09-19T00:00:00.000000000",
          "2024-09-20T00:00:00.000000000",
          "2024-09-21T00:00:00.000000000",
          "2024-09-22T00:00:00.000000000",
          "2024-09-23T00:00:00.000000000",
          "2024-09-24T00:00:00.000000000",
          "2024-09-25T00:00:00.000000000",
          "2024-09-26T00:00:00.000000000",
          "2024-09-27T00:00:00.000000000",
          "2024-09-28T00:00:00.000000000",
          "2024-09-29T00:00:00.000000000",
          "2024-09-30T00:00:00.000000000",
          "2024-10-01T00:00:00.000000000",
          "2024-10-02T00:00:00.000000000",
          "2024-10-03T00:00:00.000000000",
          "2024-10-04T00:00:00.000000000",
          "2024-10-05T00:00:00.000000000",
          "2024-10-06T00:00:00.000000000",
          "2024-10-07T00:00:00.000000000",
          "2024-10-08T00:00:00.000000000",
          "2024-10-09T00:00:00.000000000",
          "2024-10-10T00:00:00.000000000",
          "2024-10-11T00:00:00.000000000",
          "2024-10-12T00:00:00.000000000",
          "2024-10-13T00:00:00.000000000",
          "2024-10-14T00:00:00.000000000",
          "2024-10-15T00:00:00.000000000",
          "2024-10-16T00:00:00.000000000",
          "2024-10-17T00:00:00.000000000",
          "2024-10-18T00:00:00.000000000",
          "2024-10-19T00:00:00.000000000",
          "2024-10-20T00:00:00.000000000",
          "2024-10-21T00:00:00.000000000",
          "2024-10-22T00:00:00.000000000",
          "2024-10-23T00:00:00.000000000",
          "2024-10-24T00:00:00.000000000",
          "2024-10-25T00:00:00.000000000",
          "2024-10-26T00:00:00.000000000",
          "2024-10-27T00:00:00.000000000",
          "2024-10-28T00:00:00.000000000",
          "2024-10-29T00:00:00.000000000",
          "2024-10-30T00:00:00.000000000",
          "2024-10-31T00:00:00.000000000",
          "2024-11-01T00:00:00.000000000",
          "2024-11-02T00:00:00.000000000",
          "2024-11-03T00:00:00.000000000",
          "2024-11-04T00:00:00.000000000",
          "2024-11-05T00:00:00.000000000",
          "2024-11-06T00:00:00.000000000",
          "2024-11-07T00:00:00.000000000",
          "2024-11-08T00:00:00.000000000",
          "2024-11-09T00:00:00.000000000",
          "2024-11-10T00:00:00.000000000",
          "2024-11-11T00:00:00.000000000",
          "2024-11-12T00:00:00.000000000",
          "2024-11-13T00:00:00.000000000",
          "2024-11-14T00:00:00.000000000",
          "2024-11-15T00:00:00.000000000",
          "2024-11-16T00:00:00.000000000",
          "2024-11-17T00:00:00.000000000",
          "2024-11-18T00:00:00.000000000",
          "2024-11-19T00:00:00.000000000",
          "2024-11-20T00:00:00.000000000",
          "2024-11-21T00:00:00.000000000",
          "2024-11-22T00:00:00.000000000",
          "2024-11-23T00:00:00.000000000",
          "2024-11-24T00:00:00.000000000",
          "2024-11-25T00:00:00.000000000",
          "2024-11-26T00:00:00.000000000",
          "2024-11-27T00:00:00.000000000",
          "2024-11-28T00:00:00.000000000",
          "2024-11-29T00:00:00.000000000",
          "2024-11-30T00:00:00.000000000",
          "2024-12-01T00:00:00.000000000",
          "2024-12-02T00:00:00.000000000",
          "2024-12-03T00:00:00.000000000",
          "2024-12-04T00:00:00.000000000",
          "2024-12-05T00:00:00.000000000",
          "2024-12-06T00:00:00.000000000",
          "2024-12-07T00:00:00.000000000",
          "2024-12-08T00:00:00.000000000",
          "2024-12-09T00:00:00.000000000",
          "2024-12-10T00:00:00.000000000",
          "2024-12-11T00:00:00.000000000",
          "2024-12-12T00:00:00.000000000",
          "2024-12-13T00:00:00.000000000",
          "2024-12-14T00:00:00.000000000",
          "2024-12-15T00:00:00.000000000",
          "2024-12-16T00:00:00.000000000",
          "2024-12-17T00:00:00.000000000",
          "2024-12-18T00:00:00.000000000",
          "2024-12-19T00:00:00.000000000",
          "2024-12-20T00:00:00.000000000",
          "2024-12-21T00:00:00.000000000",
          "2024-12-22T00:00:00.000000000",
          "2024-12-23T00:00:00.000000000",
          "2024-12-24T00:00:00.000000000",
          "2024-12-25T00:00:00.000000000",
          "2024-12-26T00:00:00.000000000",
          "2024-12-27T00:00:00.000000000",
          "2024-12-28T00:00:00.000000000",
          "2024-12-29T00:00:00.000000000",
          "2024-12-30T00:00:00.000000000"
         ],
         "y": {
          "bdata": "I/fz/Ly+RECjgezJjNhEQPY23UZeCEdAvArNDsJDSUC8H7hcYGtHQIIOLLQvDEhAe9FddN40S0Dgt3JgTDhKQEIYnnvXYEhAZE3z/1exSUCJb9iWucVHQJs6LAQRK0dArmXN93l3R0Dp2xs4o1dDQCxt1UH9pEJAeDD1LtRcQ0BoXMapNalBQMnU9wrUq0JATeP0K4DkP0AJsbHAhto8QKlx71OgJEJAF+/FZ5djPkDfLOFinNw+QEyqYVmTaTpAiGj4JgCEPUAN56hs/i1AQN3hj31x1D1AA4+hFNn+QUBBHT+BMXNBQPerWTXX60JAsoY1bXCCQ0Bg8bGraT5IQAfAPKr3c0ZAOKZRgj/ORUByG72fpGpJQDikGxXJ+kZAcBP6PCaQSUDHZ5mnlYpGQAno80iXgEdAia6CBBeWSUAr3NU2vvxJQF0vGeU0iUhAEPxzA6ZXR0Bty083NSxGQOi/JIwZbUNAG1Y2U9KJQ0CLWir5vuZCQHUGtTWWMkRA+HVcIWA8QkD0/cVYJqA8QBOXBInC10BAIlsXwzu8PkAQUQi13HM9QIsGiPBErEBASi7CC3GIQUBtI8ZxgdJBQAJDAFjglj9AbWcbPlZhQUBz1u3NiUJDQF8GznP0O0VAxwpKcfwaRECWoK/jVplFQGLVsO/POUVA6Fjxa48CRkDipQBNStBJQJK5Tk/hQUtAFANf0smNSUD7xjv18mVLQAPjxCX6ckpA8kMBg0O8SEDY0Pc4cdVJQGxKi3KA/0pAHwrkc8vfR0BSmrI8JmJJQNztB1hdIEJApuyMyVhDRkDBmoNGjSJEQEQFX9dTk0JA11xtHyhFQkCyKR9is8Y8QFZausBzcEBAwJt5Mp3kQEAeN8X7315CQGouCIu6xz5ApQ/bNiRfPkAkAarAthVAQGep++S01kJAoV3QMs+/QkD5HpRUZmFCQGlcoUzv80RACOxB5MJhRUBOQBQuFr5HQOiaPg6NPkZAHrVPaZO5R0CZVk2ONGtIQPy1wLWWcEdAgMUaG6WESkCOmuQHVbJKQIYAeSWRU0pAHvKbGmfDSUBkNrCTqJRHQNyCwsbceEhAU39krnHTR0BvOjAJvz5GQPftUlToOUZAviNx5GIMRkAE+KVp6j5HQOXdJsCtskNAhEiXf1DuQkAr6Kbte6tBQNZiAyz8mjxAZLy9xsu6QEC67B+N/KdAQEJu/3NCRkRAMQ/fAKmFQEBv4F5hrbNBQExSBn5b00FA7GVahErqQEBIqlqGKk1FQKIgBK0TuUVAiPBn+rvVRkBqewGsalZFQEw3fpFO0ElAxAcE8JSGRkBkE1JZn0xKQJalBzo1VU1AatlqNRAASUAJvsaDH95JQMUAwDFd4UpATClV4aTFSUAypJlbM8pHQM6BloA2nklA6zM3x50oR0By/Gm5LJJIQEUGnN9GgEVA+HcNbOYtSEAgDKN0WKdDQAstHrZ2XUNAGvHP2kwtREA1XJ/36VhAQGnsTMkj70FAumqsJmokQ0DaIAV8KCI9QFc9oL3EREFA9dSg99CcQUByarr6mNVCQOpXVjAxb0BAXhxZq4AZQUCFFQgCPshEQPnJlQbfc0VAB6aLaqlvRkDM5jfvJqJHQHWBNbj/GUdAfeG2kJJjSUAa4y29TUVKQKRwH6tBY0lALN0flWGyTUAUh5McB9dLQCdGzsIhW0lAAoeB/ZbsS0CL+iFD3xBJQKOgWqWeG0tAfrLZp+/mSkAeE8nuqgpHQICSGEbEvEhAjKCsR7riRkAB7VrIR3lGQH1y1JP/GkdAAdh40SwAQ0DTm6IqoHlBQK8p81S3q0BALiQK+LFeQEBEbAl2PUZBQEa+57Bd6kFA84fW2sMMQkBrM+mtglBDQB9rdR+ruEJAfZm/pDWsRUDIUxTVrgNEQGj++Vjef0lApzTUKTlpR0CblUJEdj1GQK9rc3Jm7UZA5ePYqCYtSkDA2K7ZcuhJQLuG3fc88UtAt+nVOiQFTECLTP+omm5LQLaRLwvrSEpAWpk2MkQUSUBtebfBLkVKQMyp/Bm7n0tANnrR8L3lSUCORKDG8NBGQLoFmITT9kdA73zKGK1BR0B8bEjas1NEQIYvVqAn50RAYQfjMUDeQ0DieNl8p01BQE/tLq4s9EJA/mqxVs3YQkDjgve6O21DQEf0O6OEZUNANiTlc/j1P0DSX93lPRRBQGi775rx4kNAPAu2PNesRECTzLN/lZhFQOxMAVlEnEtAUv9/+a69R0AMIGuFKaRJQBLE9z50YEpAXjx1poLXSkB/3WWAsC5KQOHf1CoAbExA8Eql3CWQSkBgVyFpIJlLQBGDJqszPUtAiF3z4ubiS0CZU2/A99JOQFyEXqFW80dAvk1qYowES0A5550NhK1GQHIGiPGYaEdAVpxopl25SEDo1YUmSClGQJzN483Dd0NAC3QubLceQ0CpWnTPA3NEQLIFP2LRu0FAjGuuUBO+QkDcBNDyVUhCQMb7gVojQEFAYFZSgsesRUA9VDg4SdlDQHWoDI4CfUBA7kRH0qOYREDFxX2WLD5EQIRNlKGlhUdAIoDgyaAbRkCybDJrii1IQECkY+uGHUpAz8ugE1KTS0AKZIFiVURJQPm4sD2aMUtAmn7HPQdsS0BaP/BXrmJLQP3JX6cCB09ATV0kP3jITECWCY82dN9JQLr8sVxSikxA8T+DTG2VTUDZoVaIwg5LQDRVkC7gP0ZAYNnM5cHGRkBwq8oxlmBIQJdx+kdeb0RAGr72dFBFRUBWdEfaAAFFQDHZKPfU2UFA6sUwlZe9QkAkcc80Xoc7QPYV/3Z7GkFAvE74XAN+QkC7g6P1NHBBQGFPcVMBY0ZAkxGCl1yVQkC0N/9N0fxEQO/lkvAC2kZADygjRebeSUAcPQQSuZtGQMoOluTCg0tASvYbbEu0SkAaHZSw1wFKQKPSiEP+zExAz+IQOVfYTEDaBQoYkuBLQJ27lNtf5UxAEPBtpn0CTECMfK7zt1hMQCpWaYydkUxAPFwgPwsxTUAYujpydxBIQClpH6LkI0xApWQrmZj8REBOU7ZFTalGQLsKY4yFykZA7/Qlc0hwRUDO4Wr361FDQK6zQUhZV0NA9Lv7yqGAQkCpQ/1TgidCQGp+176WU0RAVr9pd5bRQ0DgeJPYxa5CQEyA658Zs0VA5WtKkwiaRUB8SgihbUdHQHHbvz4UA0hAQkKUaJzgRkBJ06WeelVIQPE5ksmPTUtA6o9I5z0ETECnVJ/MNdxLQNOtBf0XskxAa7WcBQXgTkDO7MmSYk1MQEur6XwmBk5ATLrMw02yTEA6rzZnCENMQLUKLTXIok1A1TWMxXd2TECuinOBq41LQHpKcE2bT0tAAQwP/sFbSEDFTBCn81JIQEhXb7712kVA6oGLRFvqRUACNabUjnhEQKO1eTcCNkRA+neaqvqLRECFZfB3HzlCQNd21BdQmkZAZYoTeq0vQkB2aXqgGFBCQI+GHOLcf0ZA1JqRAYa9RkBXd2UZcmhHQDemia4UbEhAmibnnryDSEDm9W2OiT1IQLxxT1I0tUpA48AR9FJ/SkA6qfVFLcRNQMGJeYAQtkxAVXh1XuYhTEA57KB8oR5NQEHKuAggPE5AnmWJU/iQTEDkzjVgYsRLQEvssBHsw0xABEOC1BEBTEAV6E9OHPxJQECSWyjrDklA5yvfQksWSUCdPdkOg4pFQGrdTXshn0RAF/tBEn3DRECjIE9MEMJEQMp0FC2l8URAUzt0XHhHRkAQHrDMJyZFQBcp7QzqokNAtprPOy4UREDJ9MYr3gpDQB1VSaGIJUVAST70sCyIRUDZHlS+M15HQJKhnkmipkZAwt7q9Vy5SUBaBak1JkxMQDhZTHfT10pAeBLuHhuHTED7+oKcPcBNQA==",
          "dtype": "f8"
         }
        },
        {
         "line": {
          "color": "red",
          "dash": "dash"
         },
         "name": "7-Day MA",
         "type": "scatter",
         "x": [
          "2024-01-01T00:00:00.000000000",
          "2024-01-02T00:00:00.000000000",
          "2024-01-03T00:00:00.000000000",
          "2024-01-04T00:00:00.000000000",
          "2024-01-05T00:00:00.000000000",
          "2024-01-06T00:00:00.000000000",
          "2024-01-07T00:00:00.000000000",
          "2024-01-08T00:00:00.000000000",
          "2024-01-09T00:00:00.000000000",
          "2024-01-10T00:00:00.000000000",
          "2024-01-11T00:00:00.000000000",
          "2024-01-12T00:00:00.000000000",
          "2024-01-13T00:00:00.000000000",
          "2024-01-14T00:00:00.000000000",
          "2024-01-15T00:00:00.000000000",
          "2024-01-16T00:00:00.000000000",
          "2024-01-17T00:00:00.000000000",
          "2024-01-18T00:00:00.000000000",
          "2024-01-19T00:00:00.000000000",
          "2024-01-20T00:00:00.000000000",
          "2024-01-21T00:00:00.000000000",
          "2024-01-22T00:00:00.000000000",
          "2024-01-23T00:00:00.000000000",
          "2024-01-24T00:00:00.000000000",
          "2024-01-25T00:00:00.000000000",
          "2024-01-26T00:00:00.000000000",
          "2024-01-27T00:00:00.000000000",
          "2024-01-28T00:00:00.000000000",
          "2024-01-29T00:00:00.000000000",
          "2024-01-30T00:00:00.000000000",
          "2024-01-31T00:00:00.000000000",
          "2024-02-01T00:00:00.000000000",
          "2024-02-02T00:00:00.000000000",
          "2024-02-03T00:00:00.000000000",
          "2024-02-04T00:00:00.000000000",
          "2024-02-05T00:00:00.000000000",
          "2024-02-06T00:00:00.000000000",
          "2024-02-07T00:00:00.000000000",
          "2024-02-08T00:00:00.000000000",
          "2024-02-09T00:00:00.000000000",
          "2024-02-10T00:00:00.000000000",
          "2024-02-11T00:00:00.000000000",
          "2024-02-12T00:00:00.000000000",
          "2024-02-13T00:00:00.000000000",
          "2024-02-14T00:00:00.000000000",
          "2024-02-15T00:00:00.000000000",
          "2024-02-16T00:00:00.000000000",
          "2024-02-17T00:00:00.000000000",
          "2024-02-18T00:00:00.000000000",
          "2024-02-19T00:00:00.000000000",
          "2024-02-20T00:00:00.000000000",
          "2024-02-21T00:00:00.000000000",
          "2024-02-22T00:00:00.000000000",
          "2024-02-23T00:00:00.000000000",
          "2024-02-24T00:00:00.000000000",
          "2024-02-25T00:00:00.000000000",
          "2024-02-26T00:00:00.000000000",
          "2024-02-27T00:00:00.000000000",
          "2024-02-28T00:00:00.000000000",
          "2024-02-29T00:00:00.000000000",
          "2024-03-01T00:00:00.000000000",
          "2024-03-02T00:00:00.000000000",
          "2024-03-03T00:00:00.000000000",
          "2024-03-04T00:00:00.000000000",
          "2024-03-05T00:00:00.000000000",
          "2024-03-06T00:00:00.000000000",
          "2024-03-07T00:00:00.000000000",
          "2024-03-08T00:00:00.000000000",
          "2024-03-09T00:00:00.000000000",
          "2024-03-10T00:00:00.000000000",
          "2024-03-11T00:00:00.000000000",
          "2024-03-12T00:00:00.000000000",
          "2024-03-13T00:00:00.000000000",
          "2024-03-14T00:00:00.000000000",
          "2024-03-15T00:00:00.000000000",
          "2024-03-16T00:00:00.000000000",
          "2024-03-17T00:00:00.000000000",
          "2024-03-18T00:00:00.000000000",
          "2024-03-19T00:00:00.000000000",
          "2024-03-20T00:00:00.000000000",
          "2024-03-21T00:00:00.000000000",
          "2024-03-22T00:00:00.000000000",
          "2024-03-23T00:00:00.000000000",
          "2024-03-24T00:00:00.000000000",
          "2024-03-25T00:00:00.000000000",
          "2024-03-26T00:00:00.000000000",
          "2024-03-27T00:00:00.000000000",
          "2024-03-28T00:00:00.000000000",
          "2024-03-29T00:00:00.000000000",
          "2024-03-30T00:00:00.000000000",
          "2024-03-31T00:00:00.000000000",
          "2024-04-01T00:00:00.000000000",
          "2024-04-02T00:00:00.000000000",
          "2024-04-03T00:00:00.000000000",
          "2024-04-04T00:00:00.000000000",
          "2024-04-05T00:00:00.000000000",
          "2024-04-06T00:00:00.000000000",
          "2024-04-07T00:00:00.000000000",
          "2024-04-08T00:00:00.000000000",
          "2024-04-09T00:00:00.000000000",
          "2024-04-10T00:00:00.000000000",
          "2024-04-11T00:00:00.000000000",
          "2024-04-12T00:00:00.000000000",
          "2024-04-13T00:00:00.000000000",
          "2024-04-14T00:00:00.000000000",
          "2024-04-15T00:00:00.000000000",
          "2024-04-16T00:00:00.000000000",
          "2024-04-17T00:00:00.000000000",
          "2024-04-18T00:00:00.000000000",
          "2024-04-19T00:00:00.000000000",
          "2024-04-20T00:00:00.000000000",
          "2024-04-21T00:00:00.000000000",
          "2024-04-22T00:00:00.000000000",
          "2024-04-23T00:00:00.000000000",
          "2024-04-24T00:00:00.000000000",
          "2024-04-25T00:00:00.000000000",
          "2024-04-26T00:00:00.000000000",
          "2024-04-27T00:00:00.000000000",
          "2024-04-28T00:00:00.000000000",
          "2024-04-29T00:00:00.000000000",
          "2024-04-30T00:00:00.000000000",
          "2024-05-01T00:00:00.000000000",
          "2024-05-02T00:00:00.000000000",
          "2024-05-03T00:00:00.000000000",
          "2024-05-04T00:00:00.000000000",
          "2024-05-05T00:00:00.000000000",
          "2024-05-06T00:00:00.000000000",
          "2024-05-07T00:00:00.000000000",
          "2024-05-08T00:00:00.000000000",
          "2024-05-09T00:00:00.000000000",
          "2024-05-10T00:00:00.000000000",
          "2024-05-11T00:00:00.000000000",
          "2024-05-12T00:00:00.000000000",
          "2024-05-13T00:00:00.000000000",
          "2024-05-14T00:00:00.000000000",
          "2024-05-15T00:00:00.000000000",
          "2024-05-16T00:00:00.000000000",
          "2024-05-17T00:00:00.000000000",
          "2024-05-18T00:00:00.000000000",
          "2024-05-19T00:00:00.000000000",
          "2024-05-20T00:00:00.000000000",
          "2024-05-21T00:00:00.000000000",
          "2024-05-22T00:00:00.000000000",
          "2024-05-23T00:00:00.000000000",
          "2024-05-24T00:00:00.000000000",
          "2024-05-25T00:00:00.000000000",
          "2024-05-26T00:00:00.000000000",
          "2024-05-27T00:00:00.000000000",
          "2024-05-28T00:00:00.000000000",
          "2024-05-29T00:00:00.000000000",
          "2024-05-30T00:00:00.000000000",
          "2024-05-31T00:00:00.000000000",
          "2024-06-01T00:00:00.000000000",
          "2024-06-02T00:00:00.000000000",
          "2024-06-03T00:00:00.000000000",
          "2024-06-04T00:00:00.000000000",
          "2024-06-05T00:00:00.000000000",
          "2024-06-06T00:00:00.000000000",
          "2024-06-07T00:00:00.000000000",
          "2024-06-08T00:00:00.000000000",
          "2024-06-09T00:00:00.000000000",
          "2024-06-10T00:00:00.000000000",
          "2024-06-11T00:00:00.000000000",
          "2024-06-12T00:00:00.000000000",
          "2024-06-13T00:00:00.000000000",
          "2024-06-14T00:00:00.000000000",
          "2024-06-15T00:00:00.000000000",
          "2024-06-16T00:00:00.000000000",
          "2024-06-17T00:00:00.000000000",
          "2024-06-18T00:00:00.000000000",
          "2024-06-19T00:00:00.000000000",
          "2024-06-20T00:00:00.000000000",
          "2024-06-21T00:00:00.000000000",
          "2024-06-22T00:00:00.000000000",
          "2024-06-23T00:00:00.000000000",
          "2024-06-24T00:00:00.000000000",
          "2024-06-25T00:00:00.000000000",
          "2024-06-26T00:00:00.000000000",
          "2024-06-27T00:00:00.000000000",
          "2024-06-28T00:00:00.000000000",
          "2024-06-29T00:00:00.000000000",
          "2024-06-30T00:00:00.000000000",
          "2024-07-01T00:00:00.000000000",
          "2024-07-02T00:00:00.000000000",
          "2024-07-03T00:00:00.000000000",
          "2024-07-04T00:00:00.000000000",
          "2024-07-05T00:00:00.000000000",
          "2024-07-06T00:00:00.000000000",
          "2024-07-07T00:00:00.000000000",
          "2024-07-08T00:00:00.000000000",
          "2024-07-09T00:00:00.000000000",
          "2024-07-10T00:00:00.000000000",
          "2024-07-11T00:00:00.000000000",
          "2024-07-12T00:00:00.000000000",
          "2024-07-13T00:00:00.000000000",
          "2024-07-14T00:00:00.000000000",
          "2024-07-15T00:00:00.000000000",
          "2024-07-16T00:00:00.000000000",
          "2024-07-17T00:00:00.000000000",
          "2024-07-18T00:00:00.000000000",
          "2024-07-19T00:00:00.000000000",
          "2024-07-20T00:00:00.000000000",
          "2024-07-21T00:00:00.000000000",
          "2024-07-22T00:00:00.000000000",
          "2024-07-23T00:00:00.000000000",
          "2024-07-24T00:00:00.000000000",
          "2024-07-25T00:00:00.000000000",
          "2024-07-26T00:00:00.000000000",
          "2024-07-27T00:00:00.000000000",
          "2024-07-28T00:00:00.000000000",
          "2024-07-29T00:00:00.000000000",
          "2024-07-30T00:00:00.000000000",
          "2024-07-31T00:00:00.000000000",
          "2024-08-01T00:00:00.000000000",
          "2024-08-02T00:00:00.000000000",
          "2024-08-03T00:00:00.000000000",
          "2024-08-04T00:00:00.000000000",
          "2024-08-05T00:00:00.000000000",
          "2024-08-06T00:00:00.000000000",
          "2024-08-07T00:00:00.000000000",
          "2024-08-08T00:00:00.000000000",
          "2024-08-09T00:00:00.000000000",
          "2024-08-10T00:00:00.000000000",
          "2024-08-11T00:00:00.000000000",
          "2024-08-12T00:00:00.000000000",
          "2024-08-13T00:00:00.000000000",
          "2024-08-14T00:00:00.000000000",
          "2024-08-15T00:00:00.000000000",
          "2024-08-16T00:00:00.000000000",
          "2024-08-17T00:00:00.000000000",
          "2024-08-18T00:00:00.000000000",
          "2024-08-19T00:00:00.000000000",
          "2024-08-20T00:00:00.000000000",
          "2024-08-21T00:00:00.000000000",
          "2024-08-22T00:00:00.000000000",
          "2024-08-23T00:00:00.000000000",
          "2024-08-24T00:00:00.000000000",
          "2024-08-25T00:00:00.000000000",
          "2024-08-26T00:00:00.000000000",
          "2024-08-27T00:00:00.000000000",
          "2024-08-28T00:00:00.000000000",
          "2024-08-29T00:00:00.000000000",
          "2024-08-30T00:00:00.000000000",
          "2024-08-31T00:00:00.000000000",
          "2024-09-01T00:00:00.000000000",
          "2024-09-02T00:00:00.000000000",
          "2024-09-03T00:00:00.000000000",
          "2024-09-04T00:00:00.000000000",
          "2024-09-05T00:00:00.000000000",
          "2024-09-06T00:00:00.000000000",
          "2024-09-07T00:00:00.000000000",
          "2024-09-08T00:00:00.000000000",
          "2024-09-09T00:00:00.000000000",
          "2024-09-10T00:00:00.000000000",
          "2024-09-11T00:00:00.000000000",
          "2024-09-12T00:00:00.000000000",
          "2024-09-13T00:00:00.000000000",
          "2024-09-14T00:00:00.000000000",
          "2024-09-15T00:00:00.000000000",
          "2024-09-16T00:00:00.000000000",
          "2024-09-17T00:00:00.000000000",
          "2024-09-18T00:00:00.000000000",
          "2024-09-19T00:00:00.000000000",
          "2024-09-20T00:00:00.000000000",
          "2024-09-21T00:00:00.000000000",
          "2024-09-22T00:00:00.000000000",
          "2024-09-23T00:00:00.000000000",
          "2024-09-24T00:00:00.000000000",
          "2024-09-25T00:00:00.000000000",
          "2024-09-26T00:00:00.000000000",
          "2024-09-27T00:00:00.000000000",
          "2024-09-28T00:00:00.000000000",
          "2024-09-29T00:00:00.000000000",
          "2024-09-30T00:00:00.000000000",
          "2024-10-01T00:00:00.000000000",
          "2024-10-02T00:00:00.000000000",
          "2024-10-03T00:00:00.000000000",
          "2024-10-04T00:00:00.000000000",
          "2024-10-05T00:00:00.000000000",
          "2024-10-06T00:00:00.000000000",
          "2024-10-07T00:00:00.000000000",
          "2024-10-08T00:00:00.000000000",
          "2024-10-09T00:00:00.000000000",
          "2024-10-10T00:00:00.000000000",
          "2024-10-11T00:00:00.000000000",
          "2024-10-12T00:00:00.000000000",
          "2024-10-13T00:00:00.000000000",
          "2024-10-14T00:00:00.000000000",
          "2024-10-15T00:00:00.000000000",
          "2024-10-16T00:00:00.000000000",
          "2024-10-17T00:00:00.000000000",
          "2024-10-18T00:00:00.000000000",
          "2024-10-19T00:00:00.000000000",
          "2024-10-20T00:00:00.000000000",
          "2024-10-21T00:00:00.000000000",
          "2024-10-22T00:00:00.000000000",
          "2024-10-23T00:00:00.000000000",
          "2024-10-24T00:00:00.000000000",
          "2024-10-25T00:00:00.000000000",
          "2024-10-26T00:00:00.000000000",
          "2024-10-27T00:00:00.000000000",
          "2024-10-28T00:00:00.000000000",
          "2024-10-29T00:00:00.000000000",
          "2024-10-30T00:00:00.000000000",
          "2024-10-31T00:00:00.000000000",
          "2024-11-01T00:00:00.000000000",
          "2024-11-02T00:00:00.000000000",
          "2024-11-03T00:00:00.000000000",
          "2024-11-04T00:00:00.000000000",
          "2024-11-05T00:00:00.000000000",
          "2024-11-06T00:00:00.000000000",
          "2024-11-07T00:00:00.000000000",
          "2024-11-08T00:00:00.000000000",
          "2024-11-09T00:00:00.000000000",
          "2024-11-10T00:00:00.000000000",
          "2024-11-11T00:00:00.000000000",
          "2024-11-12T00:00:00.000000000",
          "2024-11-13T00:00:00.000000000",
          "2024-11-14T00:00:00.000000000",
          "2024-11-15T00:00:00.000000000",
          "2024-11-16T00:00:00.000000000",
          "2024-11-17T00:00:00.000000000",
          "2024-11-18T00:00:00.000000000",
          "2024-11-19T00:00:00.000000000",
          "2024-11-20T00:00:00.000000000",
          "2024-11-21T00:00:00.000000000",
          "2024-11-22T00:00:00.000000000",
          "2024-11-23T00:00:00.000000000",
          "2024-11-24T00:00:00.000000000",
          "2024-11-25T00:00:00.000000000",
          "2024-11-26T00:00:00.000000000",
          "2024-11-27T00:00:00.000000000",
          "2024-11-28T00:00:00.000000000",
          "2024-11-29T00:00:00.000000000",
          "2024-11-30T00:00:00.000000000",
          "2024-12-01T00:00:00.000000000",
          "2024-12-02T00:00:00.000000000",
          "2024-12-03T00:00:00.000000000",
          "2024-12-04T00:00:00.000000000",
          "2024-12-05T00:00:00.000000000",
          "2024-12-06T00:00:00.000000000",
          "2024-12-07T00:00:00.000000000",
          "2024-12-08T00:00:00.000000000",
          "2024-12-09T00:00:00.000000000",
          "2024-12-10T00:00:00.000000000",
          "2024-12-11T00:00:00.000000000",
          "2024-12-12T00:00:00.000000000",
          "2024-12-13T00:00:00.000000000",
          "2024-12-14T00:00:00.000000000",
          "2024-12-15T00:00:00.000000000",
          "2024-12-16T00:00:00.000000000",
          "2024-12-17T00:00:00.000000000",
          "2024-12-18T00:00:00.000000000",
          "2024-12-19T00:00:00.000000000",
          "2024-12-20T00:00:00.000000000",
          "2024-12-21T00:00:00.000000000",
          "2024-12-22T00:00:00.000000000",
          "2024-12-23T00:00:00.000000000",
          "2024-12-24T00:00:00.000000000",
          "2024-12-25T00:00:00.000000000",
          "2024-12-26T00:00:00.000000000",
          "2024-12-27T00:00:00.000000000",
          "2024-12-28T00:00:00.000000000",
          "2024-12-29T00:00:00.000000000",
          "2024-12-30T00:00:00.000000000"
         ],
         "y": {
          "bdata": "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",
          "dtype": "f8"
         }
        },
        {
         "line": {
          "color": "green",
          "dash": "dot"
         },
         "name": "30-Day MA",
         "type": "scatter",
         "x": [
          "2024-01-01T00:00:00.000000000",
          "2024-01-02T00:00:00.000000000",
          "2024-01-03T00:00:00.000000000",
          "2024-01-04T00:00:00.000000000",
          "2024-01-05T00:00:00.000000000",
          "2024-01-06T00:00:00.000000000",
          "2024-01-07T00:00:00.000000000",
          "2024-01-08T00:00:00.000000000",
          "2024-01-09T00:00:00.000000000",
          "2024-01-10T00:00:00.000000000",
          "2024-01-11T00:00:00.000000000",
          "2024-01-12T00:00:00.000000000",
          "2024-01-13T00:00:00.000000000",
          "2024-01-14T00:00:00.000000000",
          "2024-01-15T00:00:00.000000000",
          "2024-01-16T00:00:00.000000000",
          "2024-01-17T00:00:00.000000000",
          "2024-01-18T00:00:00.000000000",
          "2024-01-19T00:00:00.000000000",
          "2024-01-20T00:00:00.000000000",
          "2024-01-21T00:00:00.000000000",
          "2024-01-22T00:00:00.000000000",
          "2024-01-23T00:00:00.000000000",
          "2024-01-24T00:00:00.000000000",
          "2024-01-25T00:00:00.000000000",
          "2024-01-26T00:00:00.000000000",
          "2024-01-27T00:00:00.000000000",
          "2024-01-28T00:00:00.000000000",
          "2024-01-29T00:00:00.000000000",
          "2024-01-30T00:00:00.000000000",
          "2024-01-31T00:00:00.000000000",
          "2024-02-01T00:00:00.000000000",
          "2024-02-02T00:00:00.000000000",
          "2024-02-03T00:00:00.000000000",
          "2024-02-04T00:00:00.000000000",
          "2024-02-05T00:00:00.000000000",
          "2024-02-06T00:00:00.000000000",
          "2024-02-07T00:00:00.000000000",
          "2024-02-08T00:00:00.000000000",
          "2024-02-09T00:00:00.000000000",
          "2024-02-10T00:00:00.000000000",
          "2024-02-11T00:00:00.000000000",
          "2024-02-12T00:00:00.000000000",
          "2024-02-13T00:00:00.000000000",
          "2024-02-14T00:00:00.000000000",
          "2024-02-15T00:00:00.000000000",
          "2024-02-16T00:00:00.000000000",
          "2024-02-17T00:00:00.000000000",
          "2024-02-18T00:00:00.000000000",
          "2024-02-19T00:00:00.000000000",
          "2024-02-20T00:00:00.000000000",
          "2024-02-21T00:00:00.000000000",
          "2024-02-22T00:00:00.000000000",
          "2024-02-23T00:00:00.000000000",
          "2024-02-24T00:00:00.000000000",
          "2024-02-25T00:00:00.000000000",
          "2024-02-26T00:00:00.000000000",
          "2024-02-27T00:00:00.000000000",
          "2024-02-28T00:00:00.000000000",
          "2024-02-29T00:00:00.000000000",
          "2024-03-01T00:00:00.000000000",
          "2024-03-02T00:00:00.000000000",
          "2024-03-03T00:00:00.000000000",
          "2024-03-04T00:00:00.000000000",
          "2024-03-05T00:00:00.000000000",
          "2024-03-06T00:00:00.000000000",
          "2024-03-07T00:00:00.000000000",
          "2024-03-08T00:00:00.000000000",
          "2024-03-09T00:00:00.000000000",
          "2024-03-10T00:00:00.000000000",
          "2024-03-11T00:00:00.000000000",
          "2024-03-12T00:00:00.000000000",
          "2024-03-13T00:00:00.000000000",
          "2024-03-14T00:00:00.000000000",
          "2024-03-15T00:00:00.000000000",
          "2024-03-16T00:00:00.000000000",
          "2024-03-17T00:00:00.000000000",
          "2024-03-18T00:00:00.000000000",
          "2024-03-19T00:00:00.000000000",
          "2024-03-20T00:00:00.000000000",
          "2024-03-21T00:00:00.000000000",
          "2024-03-22T00:00:00.000000000",
          "2024-03-23T00:00:00.000000000",
          "2024-03-24T00:00:00.000000000",
          "2024-03-25T00:00:00.000000000",
          "2024-03-26T00:00:00.000000000",
          "2024-03-27T00:00:00.000000000",
          "2024-03-28T00:00:00.000000000",
          "2024-03-29T00:00:00.000000000",
          "2024-03-30T00:00:00.000000000",
          "2024-03-31T00:00:00.000000000",
          "2024-04-01T00:00:00.000000000",
          "2024-04-02T00:00:00.000000000",
          "2024-04-03T00:00:00.000000000",
          "2024-04-04T00:00:00.000000000",
          "2024-04-05T00:00:00.000000000",
          "2024-04-06T00:00:00.000000000",
          "2024-04-07T00:00:00.000000000",
          "2024-04-08T00:00:00.000000000",
          "2024-04-09T00:00:00.000000000",
          "2024-04-10T00:00:00.000000000",
          "2024-04-11T00:00:00.000000000",
          "2024-04-12T00:00:00.000000000",
          "2024-04-13T00:00:00.000000000",
          "2024-04-14T00:00:00.000000000",
          "2024-04-15T00:00:00.000000000",
          "2024-04-16T00:00:00.000000000",
          "2024-04-17T00:00:00.000000000",
          "2024-04-18T00:00:00.000000000",
          "2024-04-19T00:00:00.000000000",
          "2024-04-20T00:00:00.000000000",
          "2024-04-21T00:00:00.000000000",
          "2024-04-22T00:00:00.000000000",
          "2024-04-23T00:00:00.000000000",
          "2024-04-24T00:00:00.000000000",
          "2024-04-25T00:00:00.000000000",
          "2024-04-26T00:00:00.000000000",
          "2024-04-27T00:00:00.000000000",
          "2024-04-28T00:00:00.000000000",
          "2024-04-29T00:00:00.000000000",
          "2024-04-30T00:00:00.000000000",
          "2024-05-01T00:00:00.000000000",
          "2024-05-02T00:00:00.000000000",
          "2024-05-03T00:00:00.000000000",
          "2024-05-04T00:00:00.000000000",
          "2024-05-05T00:00:00.000000000",
          "2024-05-06T00:00:00.000000000",
          "2024-05-07T00:00:00.000000000",
          "2024-05-08T00:00:00.000000000",
          "2024-05-09T00:00:00.000000000",
          "2024-05-10T00:00:00.000000000",
          "2024-05-11T00:00:00.000000000",
          "2024-05-12T00:00:00.000000000",
          "2024-05-13T00:00:00.000000000",
          "2024-05-14T00:00:00.000000000",
          "2024-05-15T00:00:00.000000000",
          "2024-05-16T00:00:00.000000000",
          "2024-05-17T00:00:00.000000000",
          "2024-05-18T00:00:00.000000000",
          "2024-05-19T00:00:00.000000000",
          "2024-05-20T00:00:00.000000000",
          "2024-05-21T00:00:00.000000000",
          "2024-05-22T00:00:00.000000000",
          "2024-05-23T00:00:00.000000000",
          "2024-05-24T00:00:00.000000000",
          "2024-05-25T00:00:00.000000000",
          "2024-05-26T00:00:00.000000000",
          "2024-05-27T00:00:00.000000000",
          "2024-05-28T00:00:00.000000000",
          "2024-05-29T00:00:00.000000000",
          "2024-05-30T00:00:00.000000000",
          "2024-05-31T00:00:00.000000000",
          "2024-06-01T00:00:00.000000000",
          "2024-06-02T00:00:00.000000000",
          "2024-06-03T00:00:00.000000000",
          "2024-06-04T00:00:00.000000000",
          "2024-06-05T00:00:00.000000000",
          "2024-06-06T00:00:00.000000000",
          "2024-06-07T00:00:00.000000000",
          "2024-06-08T00:00:00.000000000",
          "2024-06-09T00:00:00.000000000",
          "2024-06-10T00:00:00.000000000",
          "2024-06-11T00:00:00.000000000",
          "2024-06-12T00:00:00.000000000",
          "2024-06-13T00:00:00.000000000",
          "2024-06-14T00:00:00.000000000",
          "2024-06-15T00:00:00.000000000",
          "2024-06-16T00:00:00.000000000",
          "2024-06-17T00:00:00.000000000",
          "2024-06-18T00:00:00.000000000",
          "2024-06-19T00:00:00.000000000",
          "2024-06-20T00:00:00.000000000",
          "2024-06-21T00:00:00.000000000",
          "2024-06-22T00:00:00.000000000",
          "2024-06-23T00:00:00.000000000",
          "2024-06-24T00:00:00.000000000",
          "2024-06-25T00:00:00.000000000",
          "2024-06-26T00:00:00.000000000",
          "2024-06-27T00:00:00.000000000",
          "2024-06-28T00:00:00.000000000",
          "2024-06-29T00:00:00.000000000",
          "2024-06-30T00:00:00.000000000",
          "2024-07-01T00:00:00.000000000",
          "2024-07-02T00:00:00.000000000",
          "2024-07-03T00:00:00.000000000",
          "2024-07-04T00:00:00.000000000",
          "2024-07-05T00:00:00.000000000",
          "2024-07-06T00:00:00.000000000",
          "2024-07-07T00:00:00.000000000",
          "2024-07-08T00:00:00.000000000",
          "2024-07-09T00:00:00.000000000",
          "2024-07-10T00:00:00.000000000",
          "2024-07-11T00:00:00.000000000",
          "2024-07-12T00:00:00.000000000",
          "2024-07-13T00:00:00.000000000",
          "2024-07-14T00:00:00.000000000",
          "2024-07-15T00:00:00.000000000",
          "2024-07-16T00:00:00.000000000",
          "2024-07-17T00:00:00.000000000",
          "2024-07-18T00:00:00.000000000",
          "2024-07-19T00:00:00.000000000",
          "2024-07-20T00:00:00.000000000",
          "2024-07-21T00:00:00.000000000",
          "2024-07-22T00:00:00.000000000",
          "2024-07-23T00:00:00.000000000",
          "2024-07-24T00:00:00.000000000",
          "2024-07-25T00:00:00.000000000",
          "2024-07-26T00:00:00.000000000",
          "2024-07-27T00:00:00.000000000",
          "2024-07-28T00:00:00.000000000",
          "2024-07-29T00:00:00.000000000",
          "2024-07-30T00:00:00.000000000",
          "2024-07-31T00:00:00.000000000",
          "2024-08-01T00:00:00.000000000",
          "2024-08-02T00:00:00.000000000",
          "2024-08-03T00:00:00.000000000",
          "2024-08-04T00:00:00.000000000",
          "2024-08-05T00:00:00.000000000",
          "2024-08-06T00:00:00.000000000",
          "2024-08-07T00:00:00.000000000",
          "2024-08-08T00:00:00.000000000",
          "2024-08-09T00:00:00.000000000",
          "2024-08-10T00:00:00.000000000",
          "2024-08-11T00:00:00.000000000",
          "2024-08-12T00:00:00.000000000",
          "2024-08-13T00:00:00.000000000",
          "2024-08-14T00:00:00.000000000",
          "2024-08-15T00:00:00.000000000",
          "2024-08-16T00:00:00.000000000",
          "2024-08-17T00:00:00.000000000",
          "2024-08-18T00:00:00.000000000",
          "2024-08-19T00:00:00.000000000",
          "2024-08-20T00:00:00.000000000",
          "2024-08-21T00:00:00.000000000",
          "2024-08-22T00:00:00.000000000",
          "2024-08-23T00:00:00.000000000",
          "2024-08-24T00:00:00.000000000",
          "2024-08-25T00:00:00.000000000",
          "2024-08-26T00:00:00.000000000",
          "2024-08-27T00:00:00.000000000",
          "2024-08-28T00:00:00.000000000",
          "2024-08-29T00:00:00.000000000",
          "2024-08-30T00:00:00.000000000",
          "2024-08-31T00:00:00.000000000",
          "2024-09-01T00:00:00.000000000",
          "2024-09-02T00:00:00.000000000",
          "2024-09-03T00:00:00.000000000",
          "2024-09-04T00:00:00.000000000",
          "2024-09-05T00:00:00.000000000",
          "2024-09-06T00:00:00.000000000",
          "2024-09-07T00:00:00.000000000",
          "2024-09-08T00:00:00.000000000",
          "2024-09-09T00:00:00.000000000",
          "2024-09-10T00:00:00.000000000",
          "2024-09-11T00:00:00.000000000",
          "2024-09-12T00:00:00.000000000",
          "2024-09-13T00:00:00.000000000",
          "2024-09-14T00:00:00.000000000",
          "2024-09-15T00:00:00.000000000",
          "2024-09-16T00:00:00.000000000",
          "2024-09-17T00:00:00.000000000",
          "2024-09-18T00:00:00.000000000",
          "2024-09-19T00:00:00.000000000",
          "2024-09-20T00:00:00.000000000",
          "2024-09-21T00:00:00.000000000",
          "2024-09-22T00:00:00.000000000",
          "2024-09-23T00:00:00.000000000",
          "2024-09-24T00:00:00.000000000",
          "2024-09-25T00:00:00.000000000",
          "2024-09-26T00:00:00.000000000",
          "2024-09-27T00:00:00.000000000",
          "2024-09-28T00:00:00.000000000",
          "2024-09-29T00:00:00.000000000",
          "2024-09-30T00:00:00.000000000",
          "2024-10-01T00:00:00.000000000",
          "2024-10-02T00:00:00.000000000",
          "2024-10-03T00:00:00.000000000",
          "2024-10-04T00:00:00.000000000",
          "2024-10-05T00:00:00.000000000",
          "2024-10-06T00:00:00.000000000",
          "2024-10-07T00:00:00.000000000",
          "2024-10-08T00:00:00.000000000",
          "2024-10-09T00:00:00.000000000",
          "2024-10-10T00:00:00.000000000",
          "2024-10-11T00:00:00.000000000",
          "2024-10-12T00:00:00.000000000",
          "2024-10-13T00:00:00.000000000",
          "2024-10-14T00:00:00.000000000",
          "2024-10-15T00:00:00.000000000",
          "2024-10-16T00:00:00.000000000",
          "2024-10-17T00:00:00.000000000",
          "2024-10-18T00:00:00.000000000",
          "2024-10-19T00:00:00.000000000",
          "2024-10-20T00:00:00.000000000",
          "2024-10-21T00:00:00.000000000",
          "2024-10-22T00:00:00.000000000",
          "2024-10-23T00:00:00.000000000",
          "2024-10-24T00:00:00.000000000",
          "2024-10-25T00:00:00.000000000",
          "2024-10-26T00:00:00.000000000",
          "2024-10-27T00:00:00.000000000",
          "2024-10-28T00:00:00.000000000",
          "2024-10-29T00:00:00.000000000",
          "2024-10-30T00:00:00.000000000",
          "2024-10-31T00:00:00.000000000",
          "2024-11-01T00:00:00.000000000",
          "2024-11-02T00:00:00.000000000",
          "2024-11-03T00:00:00.000000000",
          "2024-11-04T00:00:00.000000000",
          "2024-11-05T00:00:00.000000000",
          "2024-11-06T00:00:00.000000000",
          "2024-11-07T00:00:00.000000000",
          "2024-11-08T00:00:00.000000000",
          "2024-11-09T00:00:00.000000000",
          "2024-11-10T00:00:00.000000000",
          "2024-11-11T00:00:00.000000000",
          "2024-11-12T00:00:00.000000000",
          "2024-11-13T00:00:00.000000000",
          "2024-11-14T00:00:00.000000000",
          "2024-11-15T00:00:00.000000000",
          "2024-11-16T00:00:00.000000000",
          "2024-11-17T00:00:00.000000000",
          "2024-11-18T00:00:00.000000000",
          "2024-11-19T00:00:00.000000000",
          "2024-11-20T00:00:00.000000000",
          "2024-11-21T00:00:00.000000000",
          "2024-11-22T00:00:00.000000000",
          "2024-11-23T00:00:00.000000000",
          "2024-11-24T00:00:00.000000000",
          "2024-11-25T00:00:00.000000000",
          "2024-11-26T00:00:00.000000000",
          "2024-11-27T00:00:00.000000000",
          "2024-11-28T00:00:00.000000000",
          "2024-11-29T00:00:00.000000000",
          "2024-11-30T00:00:00.000000000",
          "2024-12-01T00:00:00.000000000",
          "2024-12-02T00:00:00.000000000",
          "2024-12-03T00:00:00.000000000",
          "2024-12-04T00:00:00.000000000",
          "2024-12-05T00:00:00.000000000",
          "2024-12-06T00:00:00.000000000",
          "2024-12-07T00:00:00.000000000",
          "2024-12-08T00:00:00.000000000",
          "2024-12-09T00:00:00.000000000",
          "2024-12-10T00:00:00.000000000",
          "2024-12-11T00:00:00.000000000",
          "2024-12-12T00:00:00.000000000",
          "2024-12-13T00:00:00.000000000",
          "2024-12-14T00:00:00.000000000",
          "2024-12-15T00:00:00.000000000",
          "2024-12-16T00:00:00.000000000",
          "2024-12-17T00:00:00.000000000",
          "2024-12-18T00:00:00.000000000",
          "2024-12-19T00:00:00.000000000",
          "2024-12-20T00:00:00.000000000",
          "2024-12-21T00:00:00.000000000",
          "2024-12-22T00:00:00.000000000",
          "2024-12-23T00:00:00.000000000",
          "2024-12-24T00:00:00.000000000",
          "2024-12-25T00:00:00.000000000",
          "2024-12-26T00:00:00.000000000",
          "2024-12-27T00:00:00.000000000",
          "2024-12-28T00:00:00.000000000",
          "2024-12-29T00:00:00.000000000",
          "2024-12-30T00:00:00.000000000"
         ],
         "y": {
          "bdata": "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",
          "dtype": "f8"
         }
        }
       ],
       "layout": {
        "template": {
         "data": {
          "bar": [
           {
            "error_x": {
             "color": "#2a3f5f"
            },
            "error_y": {
             "color": "#2a3f5f"
            },
            "marker": {
             "line": {
              "color": "white",
              "width": 0.5
             },
             "pattern": {
              "fillmode": "overlay",
              "size": 10,
              "solidity": 0.2
             }
            },
            "type": "bar"
           }
          ],
          "barpolar": [
           {
            "marker": {
             "line": {
              "color": "white",
              "width": 0.5
             },
             "pattern": {
              "fillmode": "overlay",
              "size": 10,
              "solidity": 0.2
             }
            },
            "type": "barpolar"
           }
          ],
          "carpet": [
           {
            "aaxis": {
             "endlinecolor": "#2a3f5f",
             "gridcolor": "#C8D4E3",
             "linecolor": "#C8D4E3",
             "minorgridcolor": "#C8D4E3",
             "startlinecolor": "#2a3f5f"
            },
            "baxis": {
             "endlinecolor": "#2a3f5f",
             "gridcolor": "#C8D4E3",
             "linecolor": "#C8D4E3",
             "minorgridcolor": "#C8D4E3",
             "startlinecolor": "#2a3f5f"
            },
            "type": "carpet"
           }
          ],
          "choropleth": [
           {
            "colorbar": {
             "outlinewidth": 0,
             "ticks": ""
            },
            "type": "choropleth"
           }
          ],
          "contour": [
           {
            "colorbar": {
             "outlinewidth": 0,
             "ticks": ""
            },
            "colorscale": [
             [
              0,
              "#0d0887"
             ],
             [
              0.1111111111111111,
              "#46039f"
             ],
             [
              0.2222222222222222,
              "#7201a8"
             ],
             [
              0.3333333333333333,
              "#9c179e"
             ],
             [
              0.4444444444444444,
              "#bd3786"
             ],
             [
              0.5555555555555556,
              "#d8576b"
             ],
             [
              0.6666666666666666,
              "#ed7953"
             ],
             [
              0.7777777777777778,
              "#fb9f3a"
             ],
             [
              0.8888888888888888,
              "#fdca26"
             ],
             [
              1,
              "#f0f921"
             ]
            ],
            "type": "contour"
           }
          ],
          "contourcarpet": [
           {
            "colorbar": {
             "outlinewidth": 0,
             "ticks": ""
            },
            "type": "contourcarpet"
           }
          ],
          "heatmap": [
           {
            "colorbar": {
             "outlinewidth": 0,
             "ticks": ""
            },
            "colorscale": [
             [
              0,
              "#0d0887"
             ],
             [
              0.1111111111111111,
              "#46039f"
             ],
             [
              0.2222222222222222,
              "#7201a8"
             ],
             [
              0.3333333333333333,
              "#9c179e"
             ],
             [
              0.4444444444444444,
              "#bd3786"
             ],
             [
              0.5555555555555556,
              "#d8576b"
             ],
             [
              0.6666666666666666,
              "#ed7953"
             ],
             [
              0.7777777777777778,
              "#fb9f3a"
             ],
             [
              0.8888888888888888,
              "#fdca26"
             ],
             [
              1,
              "#f0f921"
             ]
            ],
            "type": "heatmap"
           }
          ],
          "histogram": [
           {
            "marker": {
             "pattern": {
              "fillmode": "overlay",
              "size": 10,
              "solidity": 0.2
             }
            },
            "type": "histogram"
           }
          ],
          "histogram2d": [
           {
            "colorbar": {
             "outlinewidth": 0,
             "ticks": ""
            },
            "colorscale": [
             [
              0,
              "#0d0887"
             ],
             [
              0.1111111111111111,
              "#46039f"
             ],
             [
              0.2222222222222222,
              "#7201a8"
             ],
             [
              0.3333333333333333,
              "#9c179e"
             ],
             [
              0.4444444444444444,
              "#bd3786"
             ],
             [
              0.5555555555555556,
              "#d8576b"
             ],
             [
              0.6666666666666666,
              "#ed7953"
             ],
             [
              0.7777777777777778,
              "#fb9f3a"
             ],
             [
              0.8888888888888888,
              "#fdca26"
             ],
             [
              1,
              "#f0f921"
             ]
            ],
            "type": "histogram2d"
           }
          ],
          "histogram2dcontour": [
           {
            "colorbar": {
             "outlinewidth": 0,
             "ticks": ""
            },
            "colorscale": [
             [
              0,
              "#0d0887"
             ],
             [
              0.1111111111111111,
              "#46039f"
             ],
             [
              0.2222222222222222,
              "#7201a8"
             ],
             [
              0.3333333333333333,
              "#9c179e"
             ],
             [
              0.4444444444444444,
              "#bd3786"
             ],
             [
              0.5555555555555556,
              "#d8576b"
             ],
             [
              0.6666666666666666,
              "#ed7953"
             ],
             [
              0.7777777777777778,
              "#fb9f3a"
             ],
             [
              0.8888888888888888,
              "#fdca26"
             ],
             [
              1,
              "#f0f921"
             ]
            ],
            "type": "histogram2dcontour"
           }
          ],
          "mesh3d": [
           {
            "colorbar": {
             "outlinewidth": 0,
             "ticks": ""
            },
            "type": "mesh3d"
           }
          ],
          "parcoords": [
           {
            "line": {
             "colorbar": {
              "outlinewidth": 0,
              "ticks": ""
             }
            },
            "type": "parcoords"
           }
          ],
          "pie": [
           {
            "automargin": true,
            "type": "pie"
           }
          ],
          "scatter": [
           {
            "fillpattern": {
             "fillmode": "overlay",
             "size": 10,
             "solidity": 0.2
            },
            "type": "scatter"
           }
          ],
          "scatter3d": [
           {
            "line": {
             "colorbar": {
              "outlinewidth": 0,
              "ticks": ""
             }
            },
            "marker": {
             "colorbar": {
              "outlinewidth": 0,
              "ticks": ""
             }
            },
            "type": "scatter3d"
           }
          ],
          "scattercarpet": [
           {
            "marker": {
             "colorbar": {
              "outlinewidth": 0,
              "ticks": ""
             }
            },
            "type": "scattercarpet"
           }
          ],
          "scattergeo": [
           {
            "marker": {
             "colorbar": {
              "outlinewidth": 0,
              "ticks": ""
             }
            },
            "type": "scattergeo"
           }
          ],
          "scattergl": [
           {
            "marker": {
             "colorbar": {
              "outlinewidth": 0,
              "ticks": ""
             }
            },
            "type": "scattergl"
           }
          ],
          "scattermap": [
           {
            "marker": {
             "colorbar": {
              "outlinewidth": 0,
              "ticks": ""
             }
            },
            "type": "scattermap"
           }
          ],
          "scattermapbox": [
           {
            "marker": {
             "colorbar": {
              "outlinewidth": 0,
              "ticks": ""
             }
            },
            "type": "scattermapbox"
           }
          ],
          "scatterpolar": [
           {
            "marker": {
             "colorbar": {
              "outlinewidth": 0,
              "ticks": ""
             }
            },
            "type": "scatterpolar"
           }
          ],
          "scatterpolargl": [
           {
            "marker": {
             "colorbar": {
              "outlinewidth": 0,
              "ticks": ""
             }
            },
            "type": "scatterpolargl"
           }
          ],
          "scatterternary": [
           {
            "marker": {
             "colorbar": {
              "outlinewidth": 0,
              "ticks": ""
             }
            },
            "type": "scatterternary"
           }
          ],
          "surface": [
           {
            "colorbar": {
             "outlinewidth": 0,
             "ticks": ""
            },
            "colorscale": [
             [
              0,
              "#0d0887"
             ],
             [
              0.1111111111111111,
              "#46039f"
             ],
             [
              0.2222222222222222,
              "#7201a8"
             ],
             [
              0.3333333333333333,
              "#9c179e"
             ],
             [
              0.4444444444444444,
              "#bd3786"
             ],
             [
              0.5555555555555556,
              "#d8576b"
             ],
             [
              0.6666666666666666,
              "#ed7953"
             ],
             [
              0.7777777777777778,
              "#fb9f3a"
             ],
             [
              0.8888888888888888,
              "#fdca26"
             ],
             [
              1,
              "#f0f921"
             ]
            ],
            "type": "surface"
           }
          ],
          "table": [
           {
            "cells": {
             "fill": {
              "color": "#EBF0F8"
             },
             "line": {
              "color": "white"
             }
            },
            "header": {
             "fill": {
              "color": "#C8D4E3"
             },
             "line": {
              "color": "white"
             }
            },
            "type": "table"
           }
          ]
         },
         "layout": {
          "annotationdefaults": {
           "arrowcolor": "#2a3f5f",
           "arrowhead": 0,
           "arrowwidth": 1
          },
          "autotypenumbers": "strict",
          "coloraxis": {
           "colorbar": {
            "outlinewidth": 0,
            "ticks": ""
           }
          },
          "colorscale": {
           "diverging": [
            [
             0,
             "#8e0152"
            ],
            [
             0.1,
             "#c51b7d"
            ],
            [
             0.2,
             "#de77ae"
            ],
            [
             0.3,
             "#f1b6da"
            ],
            [
             0.4,
             "#fde0ef"
            ],
            [
             0.5,
             "#f7f7f7"
            ],
            [
             0.6,
             "#e6f5d0"
            ],
            [
             0.7,
             "#b8e186"
            ],
            [
             0.8,
             "#7fbc41"
            ],
            [
             0.9,
             "#4d9221"
            ],
            [
             1,
             "#276419"
            ]
           ],
           "sequential": [
            [
             0,
             "#0d0887"
            ],
            [
             0.1111111111111111,
             "#46039f"
            ],
            [
             0.2222222222222222,
             "#7201a8"
            ],
            [
             0.3333333333333333,
             "#9c179e"
            ],
            [
             0.4444444444444444,
             "#bd3786"
            ],
            [
             0.5555555555555556,
             "#d8576b"
            ],
            [
             0.6666666666666666,
             "#ed7953"
            ],
            [
             0.7777777777777778,
             "#fb9f3a"
            ],
            [
             0.8888888888888888,
             "#fdca26"
            ],
            [
             1,
             "#f0f921"
            ]
           ],
           "sequentialminus": [
            [
             0,
             "#0d0887"
            ],
            [
             0.1111111111111111,
             "#46039f"
            ],
            [
             0.2222222222222222,
             "#7201a8"
            ],
            [
             0.3333333333333333,
             "#9c179e"
            ],
            [
             0.4444444444444444,
             "#bd3786"
            ],
            [
             0.5555555555555556,
             "#d8576b"
            ],
            [
             0.6666666666666666,
             "#ed7953"
            ],
            [
             0.7777777777777778,
             "#fb9f3a"
            ],
            [
             0.8888888888888888,
             "#fdca26"
            ],
            [
             1,
             "#f0f921"
            ]
           ]
          },
          "colorway": [
           "#636efa",
           "#EF553B",
           "#00cc96",
           "#ab63fa",
           "#FFA15A",
           "#19d3f3",
           "#FF6692",
           "#B6E880",
           "#FF97FF",
           "#FECB52"
          ],
          "font": {
           "color": "#2a3f5f"
          },
          "geo": {
           "bgcolor": "white",
           "lakecolor": "white",
           "landcolor": "white",
           "showlakes": true,
           "showland": true,
           "subunitcolor": "#C8D4E3"
          },
          "hoverlabel": {
           "align": "left"
          },
          "hovermode": "closest",
          "mapbox": {
           "style": "light"
          },
          "paper_bgcolor": "white",
          "plot_bgcolor": "white",
          "polar": {
           "angularaxis": {
            "gridcolor": "#EBF0F8",
            "linecolor": "#EBF0F8",
            "ticks": ""
           },
           "bgcolor": "white",
           "radialaxis": {
            "gridcolor": "#EBF0F8",
            "linecolor": "#EBF0F8",
            "ticks": ""
           }
          },
          "scene": {
           "xaxis": {
            "backgroundcolor": "white",
            "gridcolor": "#DFE8F3",
            "gridwidth": 2,
            "linecolor": "#EBF0F8",
            "showbackground": true,
            "ticks": "",
            "zerolinecolor": "#EBF0F8"
           },
           "yaxis": {
            "backgroundcolor": "white",
            "gridcolor": "#DFE8F3",
            "gridwidth": 2,
            "linecolor": "#EBF0F8",
            "showbackground": true,
            "ticks": "",
            "zerolinecolor": "#EBF0F8"
           },
           "zaxis": {
            "backgroundcolor": "white",
            "gridcolor": "#DFE8F3",
            "gridwidth": 2,
            "linecolor": "#EBF0F8",
            "showbackground": true,
            "ticks": "",
            "zerolinecolor": "#EBF0F8"
           }
          },
          "shapedefaults": {
           "line": {
            "color": "#2a3f5f"
           }
          },
          "ternary": {
           "aaxis": {
            "gridcolor": "#DFE8F3",
            "linecolor": "#A2B1C6",
            "ticks": ""
           },
           "baxis": {
            "gridcolor": "#DFE8F3",
            "linecolor": "#A2B1C6",
            "ticks": ""
           },
           "bgcolor": "white",
           "caxis": {
            "gridcolor": "#DFE8F3",
            "linecolor": "#A2B1C6",
            "ticks": ""
           }
          },
          "title": {
           "x": 0.05
          },
          "xaxis": {
           "automargin": true,
           "gridcolor": "#EBF0F8",
           "linecolor": "#EBF0F8",
           "ticks": "",
           "title": {
            "standoff": 15
           },
           "zerolinecolor": "#EBF0F8",
           "zerolinewidth": 2
          },
          "yaxis": {
           "automargin": true,
           "gridcolor": "#EBF0F8",
           "linecolor": "#EBF0F8",
           "ticks": "",
           "title": {
            "standoff": 15
           },
           "zerolinecolor": "#EBF0F8",
           "zerolinewidth": 2
          }
         }
        },
        "title": {
         "text": "Tomato Price Trends"
        },
        "xaxis": {
         "title": {
          "text": "Date"
         }
        },
        "yaxis": {
         "title": {
          "text": "Price (₹/Quintal)"
         }
        }
       }
      }
     },
     "metadata": {},
     "output_type": "display_data"
    }
   ],
   "source": [
    "# Create price trend visualization\n",
    "fig = go.Figure()\n",
    "\n",
    "# Historical price\n",
    "fig.add_trace(\n",
    "    go.Scatter(\n",
    "        x=data['date'],\n",
    "        y=data['price'],\n",
    "        name='Actual Price',\n",
    "        line=dict(color='blue')\n",
    "    )\n",
    ")\n",
    "\n",
    "# Moving averages\n",
    "fig.add_trace(\n",
    "    go.Scatter(\n",
    "        x=data['date'],\n",
    "        y=data['price_ma_7'],\n",
    "        name='7-Day MA',\n",
    "        line=dict(color='red', dash='dash')\n",
    "    )\n",
    ")\n",
    "\n",
    "fig.add_trace(\n",
    "    go.Scatter(\n",
    "        x=data['date'],\n",
    "        y=data['price_ma_30'],\n",
    "        name='30-Day MA',\n",
    "        line=dict(color='green', dash='dot')\n",
    "    )\n",
    ")\n",
    "\n",
    "fig.update_layout(\n",
    "    title='Tomato Price Trends',\n",
    "    xaxis_title='Date',\n",
    "    yaxis_title='Price (₹/Quintal)',\n",
    "    template='plotly_white'\n",
    ")\n",
    "\n",
    "fig.show()"
   ]
  },
  {
   "cell_type": "markdown",
   "id": "92ae1d17",
   "metadata": {},
   "source": [
    "## 5. Seasonal Pattern Analysis"
   ]
  },
  {
   "cell_type": "code",
   "execution_count": 9,
   "id": "3d123735",
   "metadata": {},
   "outputs": [
    {
     "data": {
      "application/vnd.plotly.v1+json": {
       "config": {
        "plotlyServerURL": "https://plot.ly"
       },
       "data": [
        {
         "name": "Monthly Prices",
         "type": "box",
         "x": {
          "bdata": "AQAAAAEAAAABAAAAAQAAAAEAAAABAAAAAQAAAAEAAAABAAAAAQAAAAEAAAABAAAAAQAAAAEAAAABAAAAAQAAAAEAAAABAAAAAQAAAAEAAAABAAAAAQAAAAEAAAABAAAAAQAAAAEAAAABAAAAAQAAAAEAAAABAAAAAQAAAAIAAAACAAAAAgAAAAIAAAACAAAAAgAAAAIAAAACAAAAAgAAAAIAAAACAAAAAgAAAAIAAAACAAAAAgAAAAIAAAACAAAAAgAAAAIAAAACAAAAAgAAAAIAAAACAAAAAgAAAAIAAAACAAAAAgAAAAIAAAACAAAAAwAAAAMAAAADAAAAAwAAAAMAAAADAAAAAwAAAAMAAAADAAAAAwAAAAMAAAADAAAAAwAAAAMAAAADAAAAAwAAAAMAAAADAAAAAwAAAAMAAAADAAAAAwAAAAMAAAADAAAAAwAAAAMAAAADAAAAAwAAAAMAAAADAAAAAwAAAAQAAAAEAAAABAAAAAQAAAAEAAAABAAAAAQAAAAEAAAABAAAAAQAAAAEAAAABAAAAAQAAAAEAAAABAAAAAQAAAAEAAAABAAAAAQAAAAEAAAABAAAAAQAAAAEAAAABAAAAAQAAAAEAAAABAAAAAQAAAAEAAAABAAAAAUAAAAFAAAABQAAAAUAAAAFAAAABQAAAAUAAAAFAAAABQAAAAUAAAAFAAAABQAAAAUAAAAFAAAABQAAAAUAAAAFAAAABQAAAAUAAAAFAAAABQAAAAUAAAAFAAAABQAAAAUAAAAFAAAABQAAAAUAAAAFAAAABQAAAAUAAAAGAAAABgAAAAYAAAAGAAAABgAAAAYAAAAGAAAABgAAAAYAAAAGAAAABgAAAAYAAAAGAAAABgAAAAYAAAAGAAAABgAAAAYAAAAGAAAABgAAAAYAAAAGAAAABgAAAAYAAAAGAAAABgAAAAYAAAAGAAAABgAAAAYAAAAHAAAABwAAAAcAAAAHAAAABwAAAAcAAAAHAAAABwAAAAcAAAAHAAAABwAAAAcAAAAHAAAABwAAAAcAAAAHAAAABwAAAAcAAAAHAAAABwAAAAcAAAAHAAAABwAAAAcAAAAHAAAABwAAAAcAAAAHAAAABwAAAAcAAAAHAAAACAAAAAgAAAAIAAAACAAAAAgAAAAIAAAACAAAAAgAAAAIAAAACAAAAAgAAAAIAAAACAAAAAgAAAAIAAAACAAAAAgAAAAIAAAACAAAAAgAAAAIAAAACAAAAAgAAAAIAAAACAAAAAgAAAAIAAAACAAAAAgAAAAIAAAACAAAAAkAAAAJAAAACQAAAAkAAAAJAAAACQAAAAkAAAAJAAAACQAAAAkAAAAJAAAACQAAAAkAAAAJAAAACQAAAAkAAAAJAAAACQAAAAkAAAAJAAAACQAAAAkAAAAJAAAACQAAAAkAAAAJAAAACQAAAAkAAAAJAAAACQAAAAoAAAAKAAAACgAAAAoAAAAKAAAACgAAAAoAAAAKAAAACgAAAAoAAAAKAAAACgAAAAoAAAAKAAAACgAAAAoAAAAKAAAACgAAAAoAAAAKAAAACgAAAAoAAAAKAAAACgAAAAoAAAAKAAAACgAAAAoAAAAKAAAACgAAAAoAAAALAAAACwAAAAsAAAALAAAACwAAAAsAAAALAAAACwAAAAsAAAALAAAACwAAAAsAAAALAAAACwAAAAsAAAALAAAACwAAAAsAAAALAAAACwAAAAsAAAALAAAACwAAAAsAAAALAAAACwAAAAsAAAALAAAACwAAAAsAAAAMAAAADAAAAAwAAAAMAAAADAAAAAwAAAAMAAAADAAAAAwAAAAMAAAADAAAAAwAAAAMAAAADAAAAAwAAAAMAAAADAAAAAwAAAAMAAAADAAAAAwAAAAMAAAADAAAAAwAAAAMAAAADAAAAAwAAAAMAAAADAAAAAwAAAA=",
          "dtype": "i4"
         },
         "xaxis": "x",
         "y": {
          "bdata": "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",
          "dtype": "f8"
         },
         "yaxis": "y"
        },
        {
         "name": "Quarterly Avg",
         "type": "bar",
         "x": {
          "bdata": "AQAAAAIAAAADAAAABAAAAA==",
          "dtype": "i4"
         },
         "xaxis": "x2",
         "y": {
          "bdata": "uADeQSB5REAGut7MfPRFQPX23Mv9L0dAburcqyWLSEA=",
          "dtype": "f8"
         },
         "yaxis": "y2"
        },
        {
         "marker": {
          "size": 5
         },
         "mode": "markers",
         "name": "Price vs Temp",
         "type": "scatter",
         "x": {
          "bdata": "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",
          "dtype": "f8"
         },
         "xaxis": "x3",
         "y": {
          "bdata": "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",
          "dtype": "f8"
         },
         "yaxis": "y3"
        },
        {
         "marker": {
          "size": 5
         },
         "mode": "markers",
         "name": "Price vs Humidity",
         "type": "scatter",
         "x": {
          "bdata": "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",
          "dtype": "f8"
         },
         "xaxis": "x4",
         "y": {
          "bdata": "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",
          "dtype": "f8"
         },
         "yaxis": "y4"
        }
       ],
       "layout": {
        "annotations": [
         {
          "font": {
           "size": 16
          },
          "showarrow": false,
          "text": "Monthly Price Box Plot",
          "x": 0.225,
          "xanchor": "center",
          "xref": "paper",
          "y": 1,
          "yanchor": "bottom",
          "yref": "paper"
         },
         {
          "font": {
           "size": 16
          },
          "showarrow": false,
          "text": "Quarterly Price Trends",
          "x": 0.775,
          "xanchor": "center",
          "xref": "paper",
          "y": 1,
          "yanchor": "bottom",
          "yref": "paper"
         },
         {
          "font": {
           "size": 16
          },
          "showarrow": false,
          "text": "Price vs Temperature",
          "x": 0.225,
          "xanchor": "center",
          "xref": "paper",
          "y": 0.375,
          "yanchor": "bottom",
          "yref": "paper"
         },
         {
          "font": {
           "size": 16
          },
          "showarrow": false,
          "text": "Price vs Humidity",
          "x": 0.775,
          "xanchor": "center",
          "xref": "paper",
          "y": 0.375,
          "yanchor": "bottom",
          "yref": "paper"
         }
        ],
        "height": 800,
        "template": {
         "data": {
          "bar": [
           {
            "error_x": {
             "color": "#2a3f5f"
            },
            "error_y": {
             "color": "#2a3f5f"
            },
            "marker": {
             "line": {
              "color": "#E5ECF6",
              "width": 0.5
             },
             "pattern": {
              "fillmode": "overlay",
              "size": 10,
              "solidity": 0.2
             }
            },
            "type": "bar"
           }
          ],
          "barpolar": [
           {
            "marker": {
             "line": {
              "color": "#E5ECF6",
              "width": 0.5
             },
             "pattern": {
              "fillmode": "overlay",
              "size": 10,
              "solidity": 0.2
             }
            },
            "type": "barpolar"
           }
          ],
          "carpet": [
           {
            "aaxis": {
             "endlinecolor": "#2a3f5f",
             "gridcolor": "white",
             "linecolor": "white",
             "minorgridcolor": "white",
             "startlinecolor": "#2a3f5f"
            },
            "baxis": {
             "endlinecolor": "#2a3f5f",
             "gridcolor": "white",
             "linecolor": "white",
             "minorgridcolor": "white",
             "startlinecolor": "#2a3f5f"
            },
            "type": "carpet"
           }
          ],
          "choropleth": [
           {
            "colorbar": {
             "outlinewidth": 0,
             "ticks": ""
            },
            "type": "choropleth"
           }
          ],
          "contour": [
           {
            "colorbar": {
             "outlinewidth": 0,
             "ticks": ""
            },
            "colorscale": [
             [
              0,
              "#0d0887"
             ],
             [
              0.1111111111111111,
              "#46039f"
             ],
             [
              0.2222222222222222,
              "#7201a8"
             ],
             [
              0.3333333333333333,
              "#9c179e"
             ],
             [
              0.4444444444444444,
              "#bd3786"
             ],
             [
              0.5555555555555556,
              "#d8576b"
             ],
             [
              0.6666666666666666,
              "#ed7953"
             ],
             [
              0.7777777777777778,
              "#fb9f3a"
             ],
             [
              0.8888888888888888,
              "#fdca26"
             ],
             [
              1,
              "#f0f921"
             ]
            ],
            "type": "contour"
           }
          ],
          "contourcarpet": [
           {
            "colorbar": {
             "outlinewidth": 0,
             "ticks": ""
            },
            "type": "contourcarpet"
           }
          ],
          "heatmap": [
           {
            "colorbar": {
             "outlinewidth": 0,
             "ticks": ""
            },
            "colorscale": [
             [
              0,
              "#0d0887"
             ],
             [
              0.1111111111111111,
              "#46039f"
             ],
             [
              0.2222222222222222,
              "#7201a8"
             ],
             [
              0.3333333333333333,
              "#9c179e"
             ],
             [
              0.4444444444444444,
              "#bd3786"
             ],
             [
              0.5555555555555556,
              "#d8576b"
             ],
             [
              0.6666666666666666,
              "#ed7953"
             ],
             [
              0.7777777777777778,
              "#fb9f3a"
             ],
             [
              0.8888888888888888,
              "#fdca26"
             ],
             [
              1,
              "#f0f921"
             ]
            ],
            "type": "heatmap"
           }
          ],
          "histogram": [
           {
            "marker": {
             "pattern": {
              "fillmode": "overlay",
              "size": 10,
              "solidity": 0.2
             }
            },
            "type": "histogram"
           }
          ],
          "histogram2d": [
           {
            "colorbar": {
             "outlinewidth": 0,
             "ticks": ""
            },
            "colorscale": [
             [
              0,
              "#0d0887"
             ],
             [
              0.1111111111111111,
              "#46039f"
             ],
             [
              0.2222222222222222,
              "#7201a8"
             ],
             [
              0.3333333333333333,
              "#9c179e"
             ],
             [
              0.4444444444444444,
              "#bd3786"
             ],
             [
              0.5555555555555556,
              "#d8576b"
             ],
             [
              0.6666666666666666,
              "#ed7953"
             ],
             [
              0.7777777777777778,
              "#fb9f3a"
             ],
             [
              0.8888888888888888,
              "#fdca26"
             ],
             [
              1,
              "#f0f921"
             ]
            ],
            "type": "histogram2d"
           }
          ],
          "histogram2dcontour": [
           {
            "colorbar": {
             "outlinewidth": 0,
             "ticks": ""
            },
            "colorscale": [
             [
              0,
              "#0d0887"
             ],
             [
              0.1111111111111111,
              "#46039f"
             ],
             [
              0.2222222222222222,
              "#7201a8"
             ],
             [
              0.3333333333333333,
              "#9c179e"
             ],
             [
              0.4444444444444444,
              "#bd3786"
             ],
             [
              0.5555555555555556,
              "#d8576b"
             ],
             [
              0.6666666666666666,
              "#ed7953"
             ],
             [
              0.7777777777777778,
              "#fb9f3a"
             ],
             [
              0.8888888888888888,
              "#fdca26"
             ],
             [
              1,
              "#f0f921"
             ]
            ],
            "type": "histogram2dcontour"
           }
          ],
          "mesh3d": [
           {
            "colorbar": {
             "outlinewidth": 0,
             "ticks": ""
            },
            "type": "mesh3d"
           }
          ],
          "parcoords": [
           {
            "line": {
             "colorbar": {
              "outlinewidth": 0,
              "ticks": ""
             }
            },
            "type": "parcoords"
           }
          ],
          "pie": [
           {
            "automargin": true,
            "type": "pie"
           }
          ],
          "scatter": [
           {
            "fillpattern": {
             "fillmode": "overlay",
             "size": 10,
             "solidity": 0.2
            },
            "type": "scatter"
           }
          ],
          "scatter3d": [
           {
            "line": {
             "colorbar": {
              "outlinewidth": 0,
              "ticks": ""
             }
            },
            "marker": {
             "colorbar": {
              "outlinewidth": 0,
              "ticks": ""
             }
            },
            "type": "scatter3d"
           }
          ],
          "scattercarpet": [
           {
            "marker": {
             "colorbar": {
              "outlinewidth": 0,
              "ticks": ""
             }
            },
            "type": "scattercarpet"
           }
          ],
          "scattergeo": [
           {
            "marker": {
             "colorbar": {
              "outlinewidth": 0,
              "ticks": ""
             }
            },
            "type": "scattergeo"
           }
          ],
          "scattergl": [
           {
            "marker": {
             "colorbar": {
              "outlinewidth": 0,
              "ticks": ""
             }
            },
            "type": "scattergl"
           }
          ],
          "scattermap": [
           {
            "marker": {
             "colorbar": {
              "outlinewidth": 0,
              "ticks": ""
             }
            },
            "type": "scattermap"
           }
          ],
          "scattermapbox": [
           {
            "marker": {
             "colorbar": {
              "outlinewidth": 0,
              "ticks": ""
             }
            },
            "type": "scattermapbox"
           }
          ],
          "scatterpolar": [
           {
            "marker": {
             "colorbar": {
              "outlinewidth": 0,
              "ticks": ""
             }
            },
            "type": "scatterpolar"
           }
          ],
          "scatterpolargl": [
           {
            "marker": {
             "colorbar": {
              "outlinewidth": 0,
              "ticks": ""
             }
            },
            "type": "scatterpolargl"
           }
          ],
          "scatterternary": [
           {
            "marker": {
             "colorbar": {
              "outlinewidth": 0,
              "ticks": ""
             }
            },
            "type": "scatterternary"
           }
          ],
          "surface": [
           {
            "colorbar": {
             "outlinewidth": 0,
             "ticks": ""
            },
            "colorscale": [
             [
              0,
              "#0d0887"
             ],
             [
              0.1111111111111111,
              "#46039f"
             ],
             [
              0.2222222222222222,
              "#7201a8"
             ],
             [
              0.3333333333333333,
              "#9c179e"
             ],
             [
              0.4444444444444444,
              "#bd3786"
             ],
             [
              0.5555555555555556,
              "#d8576b"
             ],
             [
              0.6666666666666666,
              "#ed7953"
             ],
             [
              0.7777777777777778,
              "#fb9f3a"
             ],
             [
              0.8888888888888888,
              "#fdca26"
             ],
             [
              1,
              "#f0f921"
             ]
            ],
            "type": "surface"
           }
          ],
          "table": [
           {
            "cells": {
             "fill": {
              "color": "#EBF0F8"
             },
             "line": {
              "color": "white"
             }
            },
            "header": {
             "fill": {
              "color": "#C8D4E3"
             },
             "line": {
              "color": "white"
             }
            },
            "type": "table"
           }
          ]
         },
         "layout": {
          "annotationdefaults": {
           "arrowcolor": "#2a3f5f",
           "arrowhead": 0,
           "arrowwidth": 1
          },
          "autotypenumbers": "strict",
          "coloraxis": {
           "colorbar": {
            "outlinewidth": 0,
            "ticks": ""
           }
          },
          "colorscale": {
           "diverging": [
            [
             0,
             "#8e0152"
            ],
            [
             0.1,
             "#c51b7d"
            ],
            [
             0.2,
             "#de77ae"
            ],
            [
             0.3,
             "#f1b6da"
            ],
            [
             0.4,
             "#fde0ef"
            ],
            [
             0.5,
             "#f7f7f7"
            ],
            [
             0.6,
             "#e6f5d0"
            ],
            [
             0.7,
             "#b8e186"
            ],
            [
             0.8,
             "#7fbc41"
            ],
            [
             0.9,
             "#4d9221"
            ],
            [
             1,
             "#276419"
            ]
           ],
           "sequential": [
            [
             0,
             "#0d0887"
            ],
            [
             0.1111111111111111,
             "#46039f"
            ],
            [
             0.2222222222222222,
             "#7201a8"
            ],
            [
             0.3333333333333333,
             "#9c179e"
            ],
            [
             0.4444444444444444,
             "#bd3786"
            ],
            [
             0.5555555555555556,
             "#d8576b"
            ],
            [
             0.6666666666666666,
             "#ed7953"
            ],
            [
             0.7777777777777778,
             "#fb9f3a"
            ],
            [
             0.8888888888888888,
             "#fdca26"
            ],
            [
             1,
             "#f0f921"
            ]
           ],
           "sequentialminus": [
            [
             0,
             "#0d0887"
            ],
            [
             0.1111111111111111,
             "#46039f"
            ],
            [
             0.2222222222222222,
             "#7201a8"
            ],
            [
             0.3333333333333333,
             "#9c179e"
            ],
            [
             0.4444444444444444,
             "#bd3786"
            ],
            [
             0.5555555555555556,
             "#d8576b"
            ],
            [
             0.6666666666666666,
             "#ed7953"
            ],
            [
             0.7777777777777778,
             "#fb9f3a"
            ],
            [
             0.8888888888888888,
             "#fdca26"
            ],
            [
             1,
             "#f0f921"
            ]
           ]
          },
          "colorway": [
           "#636efa",
           "#EF553B",
           "#00cc96",
           "#ab63fa",
           "#FFA15A",
           "#19d3f3",
           "#FF6692",
           "#B6E880",
           "#FF97FF",
           "#FECB52"
          ],
          "font": {
           "color": "#2a3f5f"
          },
          "geo": {
           "bgcolor": "white",
           "lakecolor": "white",
           "landcolor": "#E5ECF6",
           "showlakes": true,
           "showland": true,
           "subunitcolor": "white"
          },
          "hoverlabel": {
           "align": "left"
          },
          "hovermode": "closest",
          "mapbox": {
           "style": "light"
          },
          "paper_bgcolor": "white",
          "plot_bgcolor": "#E5ECF6",
          "polar": {
           "angularaxis": {
            "gridcolor": "white",
            "linecolor": "white",
            "ticks": ""
           },
           "bgcolor": "#E5ECF6",
           "radialaxis": {
            "gridcolor": "white",
            "linecolor": "white",
            "ticks": ""
           }
          },
          "scene": {
           "xaxis": {
            "backgroundcolor": "#E5ECF6",
            "gridcolor": "white",
            "gridwidth": 2,
            "linecolor": "white",
            "showbackground": true,
            "ticks": "",
            "zerolinecolor": "white"
           },
           "yaxis": {
            "backgroundcolor": "#E5ECF6",
            "gridcolor": "white",
            "gridwidth": 2,
            "linecolor": "white",
            "showbackground": true,
            "ticks": "",
            "zerolinecolor": "white"
           },
           "zaxis": {
            "backgroundcolor": "#E5ECF6",
            "gridcolor": "white",
            "gridwidth": 2,
            "linecolor": "white",
            "showbackground": true,
            "ticks": "",
            "zerolinecolor": "white"
           }
          },
          "shapedefaults": {
           "line": {
            "color": "#2a3f5f"
           }
          },
          "ternary": {
           "aaxis": {
            "gridcolor": "white",
            "linecolor": "white",
            "ticks": ""
           },
           "baxis": {
            "gridcolor": "white",
            "linecolor": "white",
            "ticks": ""
           },
           "bgcolor": "#E5ECF6",
           "caxis": {
            "gridcolor": "white",
            "linecolor": "white",
            "ticks": ""
           }
          },
          "title": {
           "x": 0.05
          },
          "xaxis": {
           "automargin": true,
           "gridcolor": "white",
           "linecolor": "white",
           "ticks": "",
           "title": {
            "standoff": 15
           },
           "zerolinecolor": "white",
           "zerolinewidth": 2
          },
          "yaxis": {
           "automargin": true,
           "gridcolor": "white",
           "linecolor": "white",
           "ticks": "",
           "title": {
            "standoff": 15
           },
           "zerolinecolor": "white",
           "zerolinewidth": 2
          }
         }
        },
        "title": {
         "text": "Seasonal Patterns and Weather Correlations"
        },
        "xaxis": {
         "anchor": "y",
         "domain": [
          0,
          0.45
         ]
        },
        "xaxis2": {
         "anchor": "y2",
         "domain": [
          0.55,
          1
         ]
        },
        "xaxis3": {
         "anchor": "y3",
         "domain": [
          0,
          0.45
         ]
        },
        "xaxis4": {
         "anchor": "y4",
         "domain": [
          0.55,
          1
         ]
        },
        "yaxis": {
         "anchor": "x",
         "domain": [
          0.625,
          1
         ]
        },
        "yaxis2": {
         "anchor": "x2",
         "domain": [
          0.625,
          1
         ]
        },
        "yaxis3": {
         "anchor": "x3",
         "domain": [
          0,
          0.375
         ]
        },
        "yaxis4": {
         "anchor": "x4",
         "domain": [
          0,
          0.375
         ]
        }
       }
      }
     },
     "metadata": {},
     "output_type": "display_data"
    }
   ],
   "source": [
    "# Create seasonal analysis plots\n",
    "fig = make_subplots(rows=2, cols=2,\n",
    "                    subplot_titles=('Monthly Price Box Plot',\n",
    "                                   'Quarterly Price Trends',\n",
    "                                   'Price vs Temperature',\n",
    "                                   'Price vs Humidity'))\n",
    "\n",
    "# Monthly patterns\n",
    "monthly_data = data.groupby('month')['price'].agg(['mean', 'std']).reset_index()\n",
    "fig.add_trace(\n",
    "    go.Box(x=data['month'], y=data['price'], name='Monthly Prices'),\n",
    "    row=1, col=1\n",
    ")\n",
    "\n",
    "# Quarterly patterns\n",
    "quarterly_data = data.groupby('quarter')['price'].mean().reset_index()\n",
    "fig.add_trace(\n",
    "    go.Bar(x=quarterly_data['quarter'], y=quarterly_data['price'], name='Quarterly Avg'),\n",
    "    row=1, col=2\n",
    ")\n",
    "\n",
    "# Temperature correlation\n",
    "fig.add_trace(\n",
    "    go.Scatter(x=data['temp_max'], y=data['price'], mode='markers',\n",
    "               name='Price vs Temp', marker=dict(size=5)),\n",
    "    row=2, col=1\n",
    ")\n",
    "\n",
    "# Humidity correlation\n",
    "fig.add_trace(\n",
    "    go.Scatter(x=data['humidity'], y=data['price'], mode='markers',\n",
    "               name='Price vs Humidity', marker=dict(size=5)),\n",
    "    row=2, col=2\n",
    ")\n",
    "\n",
    "fig.update_layout(height=800, title_text='Seasonal Patterns and Weather Correlations')\n",
    "fig.show()"
   ]
  },
  {
   "cell_type": "markdown",
   "id": "b5ddf9ef",
   "metadata": {},
   "source": [
    "## 6. Region-based Analysis and Recommendations"
   ]
  },
  {
   "cell_type": "code",
   "execution_count": 10,
   "id": "a2c3503e",
   "metadata": {},
   "outputs": [
    {
     "name": "stdout",
     "output_type": "stream",
     "text": [
      "Recommendations for Pune region:\n",
      "- Current prices are above average - consider selling\n",
      "- Best selling month historically: 11\n",
      "- Avoid selling in month: 1\n"
     ]
    }
   ],
   "source": [
    "def generate_recommendations(region_data):\n",
    "    \"\"\"Generate recommendations based on market analysis\"\"\"\n",
    "    \n",
    "    # Calculate key metrics\n",
    "    current_price = region_data['price'].iloc[-1]\n",
    "    avg_price = region_data['price'].mean()\n",
    "    price_volatility = region_data['price'].std()\n",
    "    \n",
    "    # Analyze seasonal patterns\n",
    "    monthly_avg = region_data.groupby('month')['price'].mean()\n",
    "    best_month = monthly_avg.idxmax()\n",
    "    worst_month = monthly_avg.idxmin()\n",
    "    \n",
    "    # Generate recommendations\n",
    "    recommendations = []\n",
    "    \n",
    "    if current_price > avg_price * 1.2:\n",
    "        recommendations.append(\"Current prices are above average - consider selling\")\n",
    "    elif current_price < avg_price * 0.8:\n",
    "        recommendations.append(\"Current prices are below average - consider storing if possible\")\n",
    "    \n",
    "    # Add seasonal recommendations\n",
    "    recommendations.append(f\"Best selling month historically: {best_month}\")\n",
    "    recommendations.append(f\"Avoid selling in month: {worst_month}\")\n",
    "    \n",
    "    return recommendations\n",
    "\n",
    "# Example for Pune region\n",
    "recommendations = generate_recommendations(data)\n",
    "print(\"Recommendations for Pune region:\")\n",
    "for rec in recommendations:\n",
    "    print(f\"- {rec}\")"
   ]
  },
  {
   "cell_type": "code",
   "execution_count": 12,
   "id": "04421036",
   "metadata": {},
   "outputs": [
    {
     "name": "stdout",
     "output_type": "stream",
     "text": [
      "Market Analysis and Recommendations:\n",
      "\n",
      "1. Market Status:\n",
      "- Current Price: 59.50188022990729\n",
      "- Avg Price: 49.33907484902877\n",
      "- Price Trend: Decreasing\n",
      "- Volatility: 7.318850577198946\n",
      "\n",
      "2. Seasonal Insights:\n",
      "- Best Months: [11, 12, 10]\n",
      "- Worst Months: [1, 2, 3]\n",
      "- Current Month Rank: 11.0\n",
      "\n",
      "3. Recommendations:\n",
      "- [HIGH] Current prices are significantly above average. Consider selling now.\n",
      "- [HIGH] Current month historically has high prices. Good time to sell.\n"
     ]
    }
   ],
   "source": [
    "# Enhanced Market Analysis and Recommendations System\n",
    "\n",
    "def analyze_market_conditions(region_data, current_date=None):\n",
    "    \"\"\"\n",
    "    Analyze market conditions and provide comprehensive recommendations\n",
    "    \"\"\"\n",
    "    if current_date is None:\n",
    "        current_date = region_data['date'].max()\n",
    "    \n",
    "    # 1. Market Trend Analysis\n",
    "    recent_data = region_data[region_data['date'] <= current_date].tail(30)\n",
    "    current_price = recent_data['price'].iloc[-1]\n",
    "    avg_price = recent_data['price'].mean()\n",
    "    price_trend = recent_data['price_momentum_30d'].iloc[-1]\n",
    "    volatility = recent_data['price_volatility_30d'].iloc[-1]\n",
    "    \n",
    "    # 2. Seasonal Pattern Analysis\n",
    "    month = pd.to_datetime(current_date).month\n",
    "    monthly_avg = region_data.groupby('month')['price'].mean()\n",
    "    best_months = monthly_avg.nlargest(3).index.tolist()\n",
    "    worst_months = monthly_avg.nsmallest(3).index.tolist()\n",
    "    \n",
    "    # 3. Supply-Demand Analysis\n",
    "    supply_pressure = recent_data['supply_pressure'].mean()\n",
    "    demand_pressure = recent_data['demand_pressure'].mean()\n",
    "    \n",
    "    # 4. Generate Recommendations\n",
    "    recommendations = {\n",
    "        'market_status': {\n",
    "            'current_price': current_price,\n",
    "            'avg_price': avg_price,\n",
    "            'price_trend': 'Increasing' if price_trend > 0 else 'Decreasing',\n",
    "            'volatility': volatility\n",
    "        },\n",
    "        'seasonal_insights': {\n",
    "            'best_months': best_months,\n",
    "            'worst_months': worst_months,\n",
    "            'current_month_rank': monthly_avg.rank()[month]\n",
    "        },\n",
    "        'market_pressure': {\n",
    "            'supply_pressure': supply_pressure,\n",
    "            'demand_pressure': demand_pressure\n",
    "        },\n",
    "        'recommendations': []\n",
    "    }\n",
    "    \n",
    "    # Add specific recommendations\n",
    "    if current_price > avg_price * 1.2:\n",
    "        recommendations['recommendations'].append({\n",
    "            'type': 'sell',\n",
    "            'urgency': 'high',\n",
    "            'message': 'Current prices are significantly above average. Consider selling now.'\n",
    "        })\n",
    "    elif current_price < avg_price * 0.8:\n",
    "        recommendations['recommendations'].append({\n",
    "            'type': 'hold',\n",
    "            'urgency': 'medium',\n",
    "            'message': 'Prices are below average. Consider storing if possible.'\n",
    "        })\n",
    "    \n",
    "    if month in best_months:\n",
    "        recommendations['recommendations'].append({\n",
    "            'type': 'timing',\n",
    "            'urgency': 'high',\n",
    "            'message': 'Current month historically has high prices. Good time to sell.'\n",
    "        })\n",
    "    \n",
    "    if supply_pressure > 0.7:\n",
    "        recommendations['recommendations'].append({\n",
    "            'type': 'distribution',\n",
    "            'urgency': 'high',\n",
    "            'message': 'High supply pressure detected. Consider exploring alternative markets.'\n",
    "        })\n",
    "    \n",
    "    return recommendations\n",
    "\n",
    "# Generate example recommendations\n",
    "example_recommendations = analyze_market_conditions(data)\n",
    "\n",
    "print(\"Market Analysis and Recommendations:\")\n",
    "print(\"\\n1. Market Status:\")\n",
    "for key, value in example_recommendations['market_status'].items():\n",
    "    print(f\"- {key.replace('_', ' ').title()}: {value}\")\n",
    "\n",
    "print(\"\\n2. Seasonal Insights:\")\n",
    "for key, value in example_recommendations['seasonal_insights'].items():\n",
    "    print(f\"- {key.replace('_', ' ').title()}: {value}\")\n",
    "\n",
    "print(\"\\n3. Recommendations:\")\n",
    "for rec in example_recommendations['recommendations']:\n",
    "    print(f\"- [{rec['urgency'].upper()}] {rec['message']}\")"
   ]
  },
  {
   "cell_type": "code",
   "execution_count": 13,
   "id": "78945d73",
   "metadata": {},
   "outputs": [
    {
     "name": "stdout",
     "output_type": "stream",
     "text": [
      "Displaying interactive market analysis dashboard...\n"
     ]
    },
    {
     "data": {
      "application/vnd.plotly.v1+json": {
       "config": {
        "plotlyServerURL": "https://plot.ly"
       },
       "data": [
        {
         "line": {
          "color": "blue"
         },
         "name": "Actual Price",
         "type": "scatter",
         "x": [
          "2024-01-01T00:00:00.000000000",
          "2024-01-02T00:00:00.000000000",
          "2024-01-03T00:00:00.000000000",
          "2024-01-04T00:00:00.000000000",
          "2024-01-05T00:00:00.000000000",
          "2024-01-06T00:00:00.000000000",
          "2024-01-07T00:00:00.000000000",
          "2024-01-08T00:00:00.000000000",
          "2024-01-09T00:00:00.000000000",
          "2024-01-10T00:00:00.000000000",
          "2024-01-11T00:00:00.000000000",
          "2024-01-12T00:00:00.000000000",
          "2024-01-13T00:00:00.000000000",
          "2024-01-14T00:00:00.000000000",
          "2024-01-15T00:00:00.000000000",
          "2024-01-16T00:00:00.000000000",
          "2024-01-17T00:00:00.000000000",
          "2024-01-18T00:00:00.000000000",
          "2024-01-19T00:00:00.000000000",
          "2024-01-20T00:00:00.000000000",
          "2024-01-21T00:00:00.000000000",
          "2024-01-22T00:00:00.000000000",
          "2024-01-23T00:00:00.000000000",
          "2024-01-24T00:00:00.000000000",
          "2024-01-25T00:00:00.000000000",
          "2024-01-26T00:00:00.000000000",
          "2024-01-27T00:00:00.000000000",
          "2024-01-28T00:00:00.000000000",
          "2024-01-29T00:00:00.000000000",
          "2024-01-30T00:00:00.000000000",
          "2024-01-31T00:00:00.000000000",
          "2024-02-01T00:00:00.000000000",
          "2024-02-02T00:00:00.000000000",
          "2024-02-03T00:00:00.000000000",
          "2024-02-04T00:00:00.000000000",
          "2024-02-05T00:00:00.000000000",
          "2024-02-06T00:00:00.000000000",
          "2024-02-07T00:00:00.000000000",
          "2024-02-08T00:00:00.000000000",
          "2024-02-09T00:00:00.000000000",
          "2024-02-10T00:00:00.000000000",
          "2024-02-11T00:00:00.000000000",
          "2024-02-12T00:00:00.000000000",
          "2024-02-13T00:00:00.000000000",
          "2024-02-14T00:00:00.000000000",
          "2024-02-15T00:00:00.000000000",
          "2024-02-16T00:00:00.000000000",
          "2024-02-17T00:00:00.000000000",
          "2024-02-18T00:00:00.000000000",
          "2024-02-19T00:00:00.000000000",
          "2024-02-20T00:00:00.000000000",
          "2024-02-21T00:00:00.000000000",
          "2024-02-22T00:00:00.000000000",
          "2024-02-23T00:00:00.000000000",
          "2024-02-24T00:00:00.000000000",
          "2024-02-25T00:00:00.000000000",
          "2024-02-26T00:00:00.000000000",
          "2024-02-27T00:00:00.000000000",
          "2024-02-28T00:00:00.000000000",
          "2024-02-29T00:00:00.000000000",
          "2024-03-01T00:00:00.000000000",
          "2024-03-02T00:00:00.000000000",
          "2024-03-03T00:00:00.000000000",
          "2024-03-04T00:00:00.000000000",
          "2024-03-05T00:00:00.000000000",
          "2024-03-06T00:00:00.000000000",
          "2024-03-07T00:00:00.000000000",
          "2024-03-08T00:00:00.000000000",
          "2024-03-09T00:00:00.000000000",
          "2024-03-10T00:00:00.000000000",
          "2024-03-11T00:00:00.000000000",
          "2024-03-12T00:00:00.000000000",
          "2024-03-13T00:00:00.000000000",
          "2024-03-14T00:00:00.000000000",
          "2024-03-15T00:00:00.000000000",
          "2024-03-16T00:00:00.000000000",
          "2024-03-17T00:00:00.000000000",
          "2024-03-18T00:00:00.000000000",
          "2024-03-19T00:00:00.000000000",
          "2024-03-20T00:00:00.000000000",
          "2024-03-21T00:00:00.000000000",
          "2024-03-22T00:00:00.000000000",
          "2024-03-23T00:00:00.000000000",
          "2024-03-24T00:00:00.000000000",
          "2024-03-25T00:00:00.000000000",
          "2024-03-26T00:00:00.000000000",
          "2024-03-27T00:00:00.000000000",
          "2024-03-28T00:00:00.000000000",
          "2024-03-29T00:00:00.000000000",
          "2024-03-30T00:00:00.000000000",
          "2024-03-31T00:00:00.000000000",
          "2024-04-01T00:00:00.000000000",
          "2024-04-02T00:00:00.000000000",
          "2024-04-03T00:00:00.000000000",
          "2024-04-04T00:00:00.000000000",
          "2024-04-05T00:00:00.000000000",
          "2024-04-06T00:00:00.000000000",
          "2024-04-07T00:00:00.000000000",
          "2024-04-08T00:00:00.000000000",
          "2024-04-09T00:00:00.000000000",
          "2024-04-10T00:00:00.000000000",
          "2024-04-11T00:00:00.000000000",
          "2024-04-12T00:00:00.000000000",
          "2024-04-13T00:00:00.000000000",
          "2024-04-14T00:00:00.000000000",
          "2024-04-15T00:00:00.000000000",
          "2024-04-16T00:00:00.000000000",
          "2024-04-17T00:00:00.000000000",
          "2024-04-18T00:00:00.000000000",
          "2024-04-19T00:00:00.000000000",
          "2024-04-20T00:00:00.000000000",
          "2024-04-21T00:00:00.000000000",
          "2024-04-22T00:00:00.000000000",
          "2024-04-23T00:00:00.000000000",
          "2024-04-24T00:00:00.000000000",
          "2024-04-25T00:00:00.000000000",
          "2024-04-26T00:00:00.000000000",
          "2024-04-27T00:00:00.000000000",
          "2024-04-28T00:00:00.000000000",
          "2024-04-29T00:00:00.000000000",
          "2024-04-30T00:00:00.000000000",
          "2024-05-01T00:00:00.000000000",
          "2024-05-02T00:00:00.000000000",
          "2024-05-03T00:00:00.000000000",
          "2024-05-04T00:00:00.000000000",
          "2024-05-05T00:00:00.000000000",
          "2024-05-06T00:00:00.000000000",
          "2024-05-07T00:00:00.000000000",
          "2024-05-08T00:00:00.000000000",
          "2024-05-09T00:00:00.000000000",
          "2024-05-10T00:00:00.000000000",
          "2024-05-11T00:00:00.000000000",
          "2024-05-12T00:00:00.000000000",
          "2024-05-13T00:00:00.000000000",
          "2024-05-14T00:00:00.000000000",
          "2024-05-15T00:00:00.000000000",
          "2024-05-16T00:00:00.000000000",
          "2024-05-17T00:00:00.000000000",
          "2024-05-18T00:00:00.000000000",
          "2024-05-19T00:00:00.000000000",
          "2024-05-20T00:00:00.000000000",
          "2024-05-21T00:00:00.000000000",
          "2024-05-22T00:00:00.000000000",
          "2024-05-23T00:00:00.000000000",
          "2024-05-24T00:00:00.000000000",
          "2024-05-25T00:00:00.000000000",
          "2024-05-26T00:00:00.000000000",
          "2024-05-27T00:00:00.000000000",
          "2024-05-28T00:00:00.000000000",
          "2024-05-29T00:00:00.000000000",
          "2024-05-30T00:00:00.000000000",
          "2024-05-31T00:00:00.000000000",
          "2024-06-01T00:00:00.000000000",
          "2024-06-02T00:00:00.000000000",
          "2024-06-03T00:00:00.000000000",
          "2024-06-04T00:00:00.000000000",
          "2024-06-05T00:00:00.000000000",
          "2024-06-06T00:00:00.000000000",
          "2024-06-07T00:00:00.000000000",
          "2024-06-08T00:00:00.000000000",
          "2024-06-09T00:00:00.000000000",
          "2024-06-10T00:00:00.000000000",
          "2024-06-11T00:00:00.000000000",
          "2024-06-12T00:00:00.000000000",
          "2024-06-13T00:00:00.000000000",
          "2024-06-14T00:00:00.000000000",
          "2024-06-15T00:00:00.000000000",
          "2024-06-16T00:00:00.000000000",
          "2024-06-17T00:00:00.000000000",
          "2024-06-18T00:00:00.000000000",
          "2024-06-19T00:00:00.000000000",
          "2024-06-20T00:00:00.000000000",
          "2024-06-21T00:00:00.000000000",
          "2024-06-22T00:00:00.000000000",
          "2024-06-23T00:00:00.000000000",
          "2024-06-24T00:00:00.000000000",
          "2024-06-25T00:00:00.000000000",
          "2024-06-26T00:00:00.000000000",
          "2024-06-27T00:00:00.000000000",
          "2024-06-28T00:00:00.000000000",
          "2024-06-29T00:00:00.000000000",
          "2024-06-30T00:00:00.000000000",
          "2024-07-01T00:00:00.000000000",
          "2024-07-02T00:00:00.000000000",
          "2024-07-03T00:00:00.000000000",
          "2024-07-04T00:00:00.000000000",
          "2024-07-05T00:00:00.000000000",
          "2024-07-06T00:00:00.000000000",
          "2024-07-07T00:00:00.000000000",
          "2024-07-08T00:00:00.000000000",
          "2024-07-09T00:00:00.000000000",
          "2024-07-10T00:00:00.000000000",
          "2024-07-11T00:00:00.000000000",
          "2024-07-12T00:00:00.000000000",
          "2024-07-13T00:00:00.000000000",
          "2024-07-14T00:00:00.000000000",
          "2024-07-15T00:00:00.000000000",
          "2024-07-16T00:00:00.000000000",
          "2024-07-17T00:00:00.000000000",
          "2024-07-18T00:00:00.000000000",
          "2024-07-19T00:00:00.000000000",
          "2024-07-20T00:00:00.000000000",
          "2024-07-21T00:00:00.000000000",
          "2024-07-22T00:00:00.000000000",
          "2024-07-23T00:00:00.000000000",
          "2024-07-24T00:00:00.000000000",
          "2024-07-25T00:00:00.000000000",
          "2024-07-26T00:00:00.000000000",
          "2024-07-27T00:00:00.000000000",
          "2024-07-28T00:00:00.000000000",
          "2024-07-29T00:00:00.000000000",
          "2024-07-30T00:00:00.000000000",
          "2024-07-31T00:00:00.000000000",
          "2024-08-01T00:00:00.000000000",
          "2024-08-02T00:00:00.000000000",
          "2024-08-03T00:00:00.000000000",
          "2024-08-04T00:00:00.000000000",
          "2024-08-05T00:00:00.000000000",
          "2024-08-06T00:00:00.000000000",
          "2024-08-07T00:00:00.000000000",
          "2024-08-08T00:00:00.000000000",
          "2024-08-09T00:00:00.000000000",
          "2024-08-10T00:00:00.000000000",
          "2024-08-11T00:00:00.000000000",
          "2024-08-12T00:00:00.000000000",
          "2024-08-13T00:00:00.000000000",
          "2024-08-14T00:00:00.000000000",
          "2024-08-15T00:00:00.000000000",
          "2024-08-16T00:00:00.000000000",
          "2024-08-17T00:00:00.000000000",
          "2024-08-18T00:00:00.000000000",
          "2024-08-19T00:00:00.000000000",
          "2024-08-20T00:00:00.000000000",
          "2024-08-21T00:00:00.000000000",
          "2024-08-22T00:00:00.000000000",
          "2024-08-23T00:00:00.000000000",
          "2024-08-24T00:00:00.000000000",
          "2024-08-25T00:00:00.000000000",
          "2024-08-26T00:00:00.000000000",
          "2024-08-27T00:00:00.000000000",
          "2024-08-28T00:00:00.000000000",
          "2024-08-29T00:00:00.000000000",
          "2024-08-30T00:00:00.000000000",
          "2024-08-31T00:00:00.000000000",
          "2024-09-01T00:00:00.000000000",
          "2024-09-02T00:00:00.000000000",
          "2024-09-03T00:00:00.000000000",
          "2024-09-04T00:00:00.000000000",
          "2024-09-05T00:00:00.000000000",
          "2024-09-06T00:00:00.000000000",
          "2024-09-07T00:00:00.000000000",
          "2024-09-08T00:00:00.000000000",
          "2024-09-09T00:00:00.000000000",
          "2024-09-10T00:00:00.000000000",
          "2024-09-11T00:00:00.000000000",
          "2024-09-12T00:00:00.000000000",
          "2024-09-13T00:00:00.000000000",
          "2024-09-14T00:00:00.000000000",
          "2024-09-15T00:00:00.000000000",
          "2024-09-16T00:00:00.000000000",
          "2024-09-17T00:00:00.000000000",
          "2024-09-18T00:00:00.000000000",
          "2024-09-19T00:00:00.000000000",
          "2024-09-20T00:00:00.000000000",
          "2024-09-21T00:00:00.000000000",
          "2024-09-22T00:00:00.000000000",
          "2024-09-23T00:00:00.000000000",
          "2024-09-24T00:00:00.000000000",
          "2024-09-25T00:00:00.000000000",
          "2024-09-26T00:00:00.000000000",
          "2024-09-27T00:00:00.000000000",
          "2024-09-28T00:00:00.000000000",
          "2024-09-29T00:00:00.000000000",
          "2024-09-30T00:00:00.000000000",
          "2024-10-01T00:00:00.000000000",
          "2024-10-02T00:00:00.000000000",
          "2024-10-03T00:00:00.000000000",
          "2024-10-04T00:00:00.000000000",
          "2024-10-05T00:00:00.000000000",
          "2024-10-06T00:00:00.000000000",
          "2024-10-07T00:00:00.000000000",
          "2024-10-08T00:00:00.000000000",
          "2024-10-09T00:00:00.000000000",
          "2024-10-10T00:00:00.000000000",
          "2024-10-11T00:00:00.000000000",
          "2024-10-12T00:00:00.000000000",
          "2024-10-13T00:00:00.000000000",
          "2024-10-14T00:00:00.000000000",
          "2024-10-15T00:00:00.000000000",
          "2024-10-16T00:00:00.000000000",
          "2024-10-17T00:00:00.000000000",
          "2024-10-18T00:00:00.000000000",
          "2024-10-19T00:00:00.000000000",
          "2024-10-20T00:00:00.000000000",
          "2024-10-21T00:00:00.000000000",
          "2024-10-22T00:00:00.000000000",
          "2024-10-23T00:00:00.000000000",
          "2024-10-24T00:00:00.000000000",
          "2024-10-25T00:00:00.000000000",
          "2024-10-26T00:00:00.000000000",
          "2024-10-27T00:00:00.000000000",
          "2024-10-28T00:00:00.000000000",
          "2024-10-29T00:00:00.000000000",
          "2024-10-30T00:00:00.000000000",
          "2024-10-31T00:00:00.000000000",
          "2024-11-01T00:00:00.000000000",
          "2024-11-02T00:00:00.000000000",
          "2024-11-03T00:00:00.000000000",
          "2024-11-04T00:00:00.000000000",
          "2024-11-05T00:00:00.000000000",
          "2024-11-06T00:00:00.000000000",
          "2024-11-07T00:00:00.000000000",
          "2024-11-08T00:00:00.000000000",
          "2024-11-09T00:00:00.000000000",
          "2024-11-10T00:00:00.000000000",
          "2024-11-11T00:00:00.000000000",
          "2024-11-12T00:00:00.000000000",
          "2024-11-13T00:00:00.000000000",
          "2024-11-14T00:00:00.000000000",
          "2024-11-15T00:00:00.000000000",
          "2024-11-16T00:00:00.000000000",
          "2024-11-17T00:00:00.000000000",
          "2024-11-18T00:00:00.000000000",
          "2024-11-19T00:00:00.000000000",
          "2024-11-20T00:00:00.000000000",
          "2024-11-21T00:00:00.000000000",
          "2024-11-22T00:00:00.000000000",
          "2024-11-23T00:00:00.000000000",
          "2024-11-24T00:00:00.000000000",
          "2024-11-25T00:00:00.000000000",
          "2024-11-26T00:00:00.000000000",
          "2024-11-27T00:00:00.000000000",
          "2024-11-28T00:00:00.000000000",
          "2024-11-29T00:00:00.000000000",
          "2024-11-30T00:00:00.000000000",
          "2024-12-01T00:00:00.000000000",
          "2024-12-02T00:00:00.000000000",
          "2024-12-03T00:00:00.000000000",
          "2024-12-04T00:00:00.000000000",
          "2024-12-05T00:00:00.000000000",
          "2024-12-06T00:00:00.000000000",
          "2024-12-07T00:00:00.000000000",
          "2024-12-08T00:00:00.000000000",
          "2024-12-09T00:00:00.000000000",
          "2024-12-10T00:00:00.000000000",
          "2024-12-11T00:00:00.000000000",
          "2024-12-12T00:00:00.000000000",
          "2024-12-13T00:00:00.000000000",
          "2024-12-14T00:00:00.000000000",
          "2024-12-15T00:00:00.000000000",
          "2024-12-16T00:00:00.000000000",
          "2024-12-17T00:00:00.000000000",
          "2024-12-18T00:00:00.000000000",
          "2024-12-19T00:00:00.000000000",
          "2024-12-20T00:00:00.000000000",
          "2024-12-21T00:00:00.000000000",
          "2024-12-22T00:00:00.000000000",
          "2024-12-23T00:00:00.000000000",
          "2024-12-24T00:00:00.000000000",
          "2024-12-25T00:00:00.000000000",
          "2024-12-26T00:00:00.000000000",
          "2024-12-27T00:00:00.000000000",
          "2024-12-28T00:00:00.000000000",
          "2024-12-29T00:00:00.000000000",
          "2024-12-30T00:00:00.000000000"
         ],
         "y": {
          "bdata": "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",
          "dtype": "f8"
         }
        },
        {
         "line": {
          "color": "red",
          "dash": "dash"
         },
         "name": "30-Day Trend",
         "type": "scatter",
         "x": [
          "2024-01-01T00:00:00.000000000",
          "2024-01-02T00:00:00.000000000",
          "2024-01-03T00:00:00.000000000",
          "2024-01-04T00:00:00.000000000",
          "2024-01-05T00:00:00.000000000",
          "2024-01-06T00:00:00.000000000",
          "2024-01-07T00:00:00.000000000",
          "2024-01-08T00:00:00.000000000",
          "2024-01-09T00:00:00.000000000",
          "2024-01-10T00:00:00.000000000",
          "2024-01-11T00:00:00.000000000",
          "2024-01-12T00:00:00.000000000",
          "2024-01-13T00:00:00.000000000",
          "2024-01-14T00:00:00.000000000",
          "2024-01-15T00:00:00.000000000",
          "2024-01-16T00:00:00.000000000",
          "2024-01-17T00:00:00.000000000",
          "2024-01-18T00:00:00.000000000",
          "2024-01-19T00:00:00.000000000",
          "2024-01-20T00:00:00.000000000",
          "2024-01-21T00:00:00.000000000",
          "2024-01-22T00:00:00.000000000",
          "2024-01-23T00:00:00.000000000",
          "2024-01-24T00:00:00.000000000",
          "2024-01-25T00:00:00.000000000",
          "2024-01-26T00:00:00.000000000",
          "2024-01-27T00:00:00.000000000",
          "2024-01-28T00:00:00.000000000",
          "2024-01-29T00:00:00.000000000",
          "2024-01-30T00:00:00.000000000",
          "2024-01-31T00:00:00.000000000",
          "2024-02-01T00:00:00.000000000",
          "2024-02-02T00:00:00.000000000",
          "2024-02-03T00:00:00.000000000",
          "2024-02-04T00:00:00.000000000",
          "2024-02-05T00:00:00.000000000",
          "2024-02-06T00:00:00.000000000",
          "2024-02-07T00:00:00.000000000",
          "2024-02-08T00:00:00.000000000",
          "2024-02-09T00:00:00.000000000",
          "2024-02-10T00:00:00.000000000",
          "2024-02-11T00:00:00.000000000",
          "2024-02-12T00:00:00.000000000",
          "2024-02-13T00:00:00.000000000",
          "2024-02-14T00:00:00.000000000",
          "2024-02-15T00:00:00.000000000",
          "2024-02-16T00:00:00.000000000",
          "2024-02-17T00:00:00.000000000",
          "2024-02-18T00:00:00.000000000",
          "2024-02-19T00:00:00.000000000",
          "2024-02-20T00:00:00.000000000",
          "2024-02-21T00:00:00.000000000",
          "2024-02-22T00:00:00.000000000",
          "2024-02-23T00:00:00.000000000",
          "2024-02-24T00:00:00.000000000",
          "2024-02-25T00:00:00.000000000",
          "2024-02-26T00:00:00.000000000",
          "2024-02-27T00:00:00.000000000",
          "2024-02-28T00:00:00.000000000",
          "2024-02-29T00:00:00.000000000",
          "2024-03-01T00:00:00.000000000",
          "2024-03-02T00:00:00.000000000",
          "2024-03-03T00:00:00.000000000",
          "2024-03-04T00:00:00.000000000",
          "2024-03-05T00:00:00.000000000",
          "2024-03-06T00:00:00.000000000",
          "2024-03-07T00:00:00.000000000",
          "2024-03-08T00:00:00.000000000",
          "2024-03-09T00:00:00.000000000",
          "2024-03-10T00:00:00.000000000",
          "2024-03-11T00:00:00.000000000",
          "2024-03-12T00:00:00.000000000",
          "2024-03-13T00:00:00.000000000",
          "2024-03-14T00:00:00.000000000",
          "2024-03-15T00:00:00.000000000",
          "2024-03-16T00:00:00.000000000",
          "2024-03-17T00:00:00.000000000",
          "2024-03-18T00:00:00.000000000",
          "2024-03-19T00:00:00.000000000",
          "2024-03-20T00:00:00.000000000",
          "2024-03-21T00:00:00.000000000",
          "2024-03-22T00:00:00.000000000",
          "2024-03-23T00:00:00.000000000",
          "2024-03-24T00:00:00.000000000",
          "2024-03-25T00:00:00.000000000",
          "2024-03-26T00:00:00.000000000",
          "2024-03-27T00:00:00.000000000",
          "2024-03-28T00:00:00.000000000",
          "2024-03-29T00:00:00.000000000",
          "2024-03-30T00:00:00.000000000",
          "2024-03-31T00:00:00.000000000",
          "2024-04-01T00:00:00.000000000",
          "2024-04-02T00:00:00.000000000",
          "2024-04-03T00:00:00.000000000",
          "2024-04-04T00:00:00.000000000",
          "2024-04-05T00:00:00.000000000",
          "2024-04-06T00:00:00.000000000",
          "2024-04-07T00:00:00.000000000",
          "2024-04-08T00:00:00.000000000",
          "2024-04-09T00:00:00.000000000",
          "2024-04-10T00:00:00.000000000",
          "2024-04-11T00:00:00.000000000",
          "2024-04-12T00:00:00.000000000",
          "2024-04-13T00:00:00.000000000",
          "2024-04-14T00:00:00.000000000",
          "2024-04-15T00:00:00.000000000",
          "2024-04-16T00:00:00.000000000",
          "2024-04-17T00:00:00.000000000",
          "2024-04-18T00:00:00.000000000",
          "2024-04-19T00:00:00.000000000",
          "2024-04-20T00:00:00.000000000",
          "2024-04-21T00:00:00.000000000",
          "2024-04-22T00:00:00.000000000",
          "2024-04-23T00:00:00.000000000",
          "2024-04-24T00:00:00.000000000",
          "2024-04-25T00:00:00.000000000",
          "2024-04-26T00:00:00.000000000",
          "2024-04-27T00:00:00.000000000",
          "2024-04-28T00:00:00.000000000",
          "2024-04-29T00:00:00.000000000",
          "2024-04-30T00:00:00.000000000",
          "2024-05-01T00:00:00.000000000",
          "2024-05-02T00:00:00.000000000",
          "2024-05-03T00:00:00.000000000",
          "2024-05-04T00:00:00.000000000",
          "2024-05-05T00:00:00.000000000",
          "2024-05-06T00:00:00.000000000",
          "2024-05-07T00:00:00.000000000",
          "2024-05-08T00:00:00.000000000",
          "2024-05-09T00:00:00.000000000",
          "2024-05-10T00:00:00.000000000",
          "2024-05-11T00:00:00.000000000",
          "2024-05-12T00:00:00.000000000",
          "2024-05-13T00:00:00.000000000",
          "2024-05-14T00:00:00.000000000",
          "2024-05-15T00:00:00.000000000",
          "2024-05-16T00:00:00.000000000",
          "2024-05-17T00:00:00.000000000",
          "2024-05-18T00:00:00.000000000",
          "2024-05-19T00:00:00.000000000",
          "2024-05-20T00:00:00.000000000",
          "2024-05-21T00:00:00.000000000",
          "2024-05-22T00:00:00.000000000",
          "2024-05-23T00:00:00.000000000",
          "2024-05-24T00:00:00.000000000",
          "2024-05-25T00:00:00.000000000",
          "2024-05-26T00:00:00.000000000",
          "2024-05-27T00:00:00.000000000",
          "2024-05-28T00:00:00.000000000",
          "2024-05-29T00:00:00.000000000",
          "2024-05-30T00:00:00.000000000",
          "2024-05-31T00:00:00.000000000",
          "2024-06-01T00:00:00.000000000",
          "2024-06-02T00:00:00.000000000",
          "2024-06-03T00:00:00.000000000",
          "2024-06-04T00:00:00.000000000",
          "2024-06-05T00:00:00.000000000",
          "2024-06-06T00:00:00.000000000",
          "2024-06-07T00:00:00.000000000",
          "2024-06-08T00:00:00.000000000",
          "2024-06-09T00:00:00.000000000",
          "2024-06-10T00:00:00.000000000",
          "2024-06-11T00:00:00.000000000",
          "2024-06-12T00:00:00.000000000",
          "2024-06-13T00:00:00.000000000",
          "2024-06-14T00:00:00.000000000",
          "2024-06-15T00:00:00.000000000",
          "2024-06-16T00:00:00.000000000",
          "2024-06-17T00:00:00.000000000",
          "2024-06-18T00:00:00.000000000",
          "2024-06-19T00:00:00.000000000",
          "2024-06-20T00:00:00.000000000",
          "2024-06-21T00:00:00.000000000",
          "2024-06-22T00:00:00.000000000",
          "2024-06-23T00:00:00.000000000",
          "2024-06-24T00:00:00.000000000",
          "2024-06-25T00:00:00.000000000",
          "2024-06-26T00:00:00.000000000",
          "2024-06-27T00:00:00.000000000",
          "2024-06-28T00:00:00.000000000",
          "2024-06-29T00:00:00.000000000",
          "2024-06-30T00:00:00.000000000",
          "2024-07-01T00:00:00.000000000",
          "2024-07-02T00:00:00.000000000",
          "2024-07-03T00:00:00.000000000",
          "2024-07-04T00:00:00.000000000",
          "2024-07-05T00:00:00.000000000",
          "2024-07-06T00:00:00.000000000",
          "2024-07-07T00:00:00.000000000",
          "2024-07-08T00:00:00.000000000",
          "2024-07-09T00:00:00.000000000",
          "2024-07-10T00:00:00.000000000",
          "2024-07-11T00:00:00.000000000",
          "2024-07-12T00:00:00.000000000",
          "2024-07-13T00:00:00.000000000",
          "2024-07-14T00:00:00.000000000",
          "2024-07-15T00:00:00.000000000",
          "2024-07-16T00:00:00.000000000",
          "2024-07-17T00:00:00.000000000",
          "2024-07-18T00:00:00.000000000",
          "2024-07-19T00:00:00.000000000",
          "2024-07-20T00:00:00.000000000",
          "2024-07-21T00:00:00.000000000",
          "2024-07-22T00:00:00.000000000",
          "2024-07-23T00:00:00.000000000",
          "2024-07-24T00:00:00.000000000",
          "2024-07-25T00:00:00.000000000",
          "2024-07-26T00:00:00.000000000",
          "2024-07-27T00:00:00.000000000",
          "2024-07-28T00:00:00.000000000",
          "2024-07-29T00:00:00.000000000",
          "2024-07-30T00:00:00.000000000",
          "2024-07-31T00:00:00.000000000",
          "2024-08-01T00:00:00.000000000",
          "2024-08-02T00:00:00.000000000",
          "2024-08-03T00:00:00.000000000",
          "2024-08-04T00:00:00.000000000",
          "2024-08-05T00:00:00.000000000",
          "2024-08-06T00:00:00.000000000",
          "2024-08-07T00:00:00.000000000",
          "2024-08-08T00:00:00.000000000",
          "2024-08-09T00:00:00.000000000",
          "2024-08-10T00:00:00.000000000",
          "2024-08-11T00:00:00.000000000",
          "2024-08-12T00:00:00.000000000",
          "2024-08-13T00:00:00.000000000",
          "2024-08-14T00:00:00.000000000",
          "2024-08-15T00:00:00.000000000",
          "2024-08-16T00:00:00.000000000",
          "2024-08-17T00:00:00.000000000",
          "2024-08-18T00:00:00.000000000",
          "2024-08-19T00:00:00.000000000",
          "2024-08-20T00:00:00.000000000",
          "2024-08-21T00:00:00.000000000",
          "2024-08-22T00:00:00.000000000",
          "2024-08-23T00:00:00.000000000",
          "2024-08-24T00:00:00.000000000",
          "2024-08-25T00:00:00.000000000",
          "2024-08-26T00:00:00.000000000",
          "2024-08-27T00:00:00.000000000",
          "2024-08-28T00:00:00.000000000",
          "2024-08-29T00:00:00.000000000",
          "2024-08-30T00:00:00.000000000",
          "2024-08-31T00:00:00.000000000",
          "2024-09-01T00:00:00.000000000",
          "2024-09-02T00:00:00.000000000",
          "2024-09-03T00:00:00.000000000",
          "2024-09-04T00:00:00.000000000",
          "2024-09-05T00:00:00.000000000",
          "2024-09-06T00:00:00.000000000",
          "2024-09-07T00:00:00.000000000",
          "2024-09-08T00:00:00.000000000",
          "2024-09-09T00:00:00.000000000",
          "2024-09-10T00:00:00.000000000",
          "2024-09-11T00:00:00.000000000",
          "2024-09-12T00:00:00.000000000",
          "2024-09-13T00:00:00.000000000",
          "2024-09-14T00:00:00.000000000",
          "2024-09-15T00:00:00.000000000",
          "2024-09-16T00:00:00.000000000",
          "2024-09-17T00:00:00.000000000",
          "2024-09-18T00:00:00.000000000",
          "2024-09-19T00:00:00.000000000",
          "2024-09-20T00:00:00.000000000",
          "2024-09-21T00:00:00.000000000",
          "2024-09-22T00:00:00.000000000",
          "2024-09-23T00:00:00.000000000",
          "2024-09-24T00:00:00.000000000",
          "2024-09-25T00:00:00.000000000",
          "2024-09-26T00:00:00.000000000",
          "2024-09-27T00:00:00.000000000",
          "2024-09-28T00:00:00.000000000",
          "2024-09-29T00:00:00.000000000",
          "2024-09-30T00:00:00.000000000",
          "2024-10-01T00:00:00.000000000",
          "2024-10-02T00:00:00.000000000",
          "2024-10-03T00:00:00.000000000",
          "2024-10-04T00:00:00.000000000",
          "2024-10-05T00:00:00.000000000",
          "2024-10-06T00:00:00.000000000",
          "2024-10-07T00:00:00.000000000",
          "2024-10-08T00:00:00.000000000",
          "2024-10-09T00:00:00.000000000",
          "2024-10-10T00:00:00.000000000",
          "2024-10-11T00:00:00.000000000",
          "2024-10-12T00:00:00.000000000",
          "2024-10-13T00:00:00.000000000",
          "2024-10-14T00:00:00.000000000",
          "2024-10-15T00:00:00.000000000",
          "2024-10-16T00:00:00.000000000",
          "2024-10-17T00:00:00.000000000",
          "2024-10-18T00:00:00.000000000",
          "2024-10-19T00:00:00.000000000",
          "2024-10-20T00:00:00.000000000",
          "2024-10-21T00:00:00.000000000",
          "2024-10-22T00:00:00.000000000",
          "2024-10-23T00:00:00.000000000",
          "2024-10-24T00:00:00.000000000",
          "2024-10-25T00:00:00.000000000",
          "2024-10-26T00:00:00.000000000",
          "2024-10-27T00:00:00.000000000",
          "2024-10-28T00:00:00.000000000",
          "2024-10-29T00:00:00.000000000",
          "2024-10-30T00:00:00.000000000",
          "2024-10-31T00:00:00.000000000",
          "2024-11-01T00:00:00.000000000",
          "2024-11-02T00:00:00.000000000",
          "2024-11-03T00:00:00.000000000",
          "2024-11-04T00:00:00.000000000",
          "2024-11-05T00:00:00.000000000",
          "2024-11-06T00:00:00.000000000",
          "2024-11-07T00:00:00.000000000",
          "2024-11-08T00:00:00.000000000",
          "2024-11-09T00:00:00.000000000",
          "2024-11-10T00:00:00.000000000",
          "2024-11-11T00:00:00.000000000",
          "2024-11-12T00:00:00.000000000",
          "2024-11-13T00:00:00.000000000",
          "2024-11-14T00:00:00.000000000",
          "2024-11-15T00:00:00.000000000",
          "2024-11-16T00:00:00.000000000",
          "2024-11-17T00:00:00.000000000",
          "2024-11-18T00:00:00.000000000",
          "2024-11-19T00:00:00.000000000",
          "2024-11-20T00:00:00.000000000",
          "2024-11-21T00:00:00.000000000",
          "2024-11-22T00:00:00.000000000",
          "2024-11-23T00:00:00.000000000",
          "2024-11-24T00:00:00.000000000",
          "2024-11-25T00:00:00.000000000",
          "2024-11-26T00:00:00.000000000",
          "2024-11-27T00:00:00.000000000",
          "2024-11-28T00:00:00.000000000",
          "2024-11-29T00:00:00.000000000",
          "2024-11-30T00:00:00.000000000",
          "2024-12-01T00:00:00.000000000",
          "2024-12-02T00:00:00.000000000",
          "2024-12-03T00:00:00.000000000",
          "2024-12-04T00:00:00.000000000",
          "2024-12-05T00:00:00.000000000",
          "2024-12-06T00:00:00.000000000",
          "2024-12-07T00:00:00.000000000",
          "2024-12-08T00:00:00.000000000",
          "2024-12-09T00:00:00.000000000",
          "2024-12-10T00:00:00.000000000",
          "2024-12-11T00:00:00.000000000",
          "2024-12-12T00:00:00.000000000",
          "2024-12-13T00:00:00.000000000",
          "2024-12-14T00:00:00.000000000",
          "2024-12-15T00:00:00.000000000",
          "2024-12-16T00:00:00.000000000",
          "2024-12-17T00:00:00.000000000",
          "2024-12-18T00:00:00.000000000",
          "2024-12-19T00:00:00.000000000",
          "2024-12-20T00:00:00.000000000",
          "2024-12-21T00:00:00.000000000",
          "2024-12-22T00:00:00.000000000",
          "2024-12-23T00:00:00.000000000",
          "2024-12-24T00:00:00.000000000",
          "2024-12-25T00:00:00.000000000",
          "2024-12-26T00:00:00.000000000",
          "2024-12-27T00:00:00.000000000",
          "2024-12-28T00:00:00.000000000",
          "2024-12-29T00:00:00.000000000",
          "2024-12-30T00:00:00.000000000"
         ],
         "y": {
          "bdata": "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",
          "dtype": "f8"
         }
        },
        {
         "line": {
          "color": "gray",
          "dash": "dot"
         },
         "name": "Upper Volatility Band",
         "showlegend": false,
         "type": "scatter",
         "x": [
          "2024-01-01T00:00:00.000000000",
          "2024-01-02T00:00:00.000000000",
          "2024-01-03T00:00:00.000000000",
          "2024-01-04T00:00:00.000000000",
          "2024-01-05T00:00:00.000000000",
          "2024-01-06T00:00:00.000000000",
          "2024-01-07T00:00:00.000000000",
          "2024-01-08T00:00:00.000000000",
          "2024-01-09T00:00:00.000000000",
          "2024-01-10T00:00:00.000000000",
          "2024-01-11T00:00:00.000000000",
          "2024-01-12T00:00:00.000000000",
          "2024-01-13T00:00:00.000000000",
          "2024-01-14T00:00:00.000000000",
          "2024-01-15T00:00:00.000000000",
          "2024-01-16T00:00:00.000000000",
          "2024-01-17T00:00:00.000000000",
          "2024-01-18T00:00:00.000000000",
          "2024-01-19T00:00:00.000000000",
          "2024-01-20T00:00:00.000000000",
          "2024-01-21T00:00:00.000000000",
          "2024-01-22T00:00:00.000000000",
          "2024-01-23T00:00:00.000000000",
          "2024-01-24T00:00:00.000000000",
          "2024-01-25T00:00:00.000000000",
          "2024-01-26T00:00:00.000000000",
          "2024-01-27T00:00:00.000000000",
          "2024-01-28T00:00:00.000000000",
          "2024-01-29T00:00:00.000000000",
          "2024-01-30T00:00:00.000000000",
          "2024-01-31T00:00:00.000000000",
          "2024-02-01T00:00:00.000000000",
          "2024-02-02T00:00:00.000000000",
          "2024-02-03T00:00:00.000000000",
          "2024-02-04T00:00:00.000000000",
          "2024-02-05T00:00:00.000000000",
          "2024-02-06T00:00:00.000000000",
          "2024-02-07T00:00:00.000000000",
          "2024-02-08T00:00:00.000000000",
          "2024-02-09T00:00:00.000000000",
          "2024-02-10T00:00:00.000000000",
          "2024-02-11T00:00:00.000000000",
          "2024-02-12T00:00:00.000000000",
          "2024-02-13T00:00:00.000000000",
          "2024-02-14T00:00:00.000000000",
          "2024-02-15T00:00:00.000000000",
          "2024-02-16T00:00:00.000000000",
          "2024-02-17T00:00:00.000000000",
          "2024-02-18T00:00:00.000000000",
          "2024-02-19T00:00:00.000000000",
          "2024-02-20T00:00:00.000000000",
          "2024-02-21T00:00:00.000000000",
          "2024-02-22T00:00:00.000000000",
          "2024-02-23T00:00:00.000000000",
          "2024-02-24T00:00:00.000000000",
          "2024-02-25T00:00:00.000000000",
          "2024-02-26T00:00:00.000000000",
          "2024-02-27T00:00:00.000000000",
          "2024-02-28T00:00:00.000000000",
          "2024-02-29T00:00:00.000000000",
          "2024-03-01T00:00:00.000000000",
          "2024-03-02T00:00:00.000000000",
          "2024-03-03T00:00:00.000000000",
          "2024-03-04T00:00:00.000000000",
          "2024-03-05T00:00:00.000000000",
          "2024-03-06T00:00:00.000000000",
          "2024-03-07T00:00:00.000000000",
          "2024-03-08T00:00:00.000000000",
          "2024-03-09T00:00:00.000000000",
          "2024-03-10T00:00:00.000000000",
          "2024-03-11T00:00:00.000000000",
          "2024-03-12T00:00:00.000000000",
          "2024-03-13T00:00:00.000000000",
          "2024-03-14T00:00:00.000000000",
          "2024-03-15T00:00:00.000000000",
          "2024-03-16T00:00:00.000000000",
          "2024-03-17T00:00:00.000000000",
          "2024-03-18T00:00:00.000000000",
          "2024-03-19T00:00:00.000000000",
          "2024-03-20T00:00:00.000000000",
          "2024-03-21T00:00:00.000000000",
          "2024-03-22T00:00:00.000000000",
          "2024-03-23T00:00:00.000000000",
          "2024-03-24T00:00:00.000000000",
          "2024-03-25T00:00:00.000000000",
          "2024-03-26T00:00:00.000000000",
          "2024-03-27T00:00:00.000000000",
          "2024-03-28T00:00:00.000000000",
          "2024-03-29T00:00:00.000000000",
          "2024-03-30T00:00:00.000000000",
          "2024-03-31T00:00:00.000000000",
          "2024-04-01T00:00:00.000000000",
          "2024-04-02T00:00:00.000000000",
          "2024-04-03T00:00:00.000000000",
          "2024-04-04T00:00:00.000000000",
          "2024-04-05T00:00:00.000000000",
          "2024-04-06T00:00:00.000000000",
          "2024-04-07T00:00:00.000000000",
          "2024-04-08T00:00:00.000000000",
          "2024-04-09T00:00:00.000000000",
          "2024-04-10T00:00:00.000000000",
          "2024-04-11T00:00:00.000000000",
          "2024-04-12T00:00:00.000000000",
          "2024-04-13T00:00:00.000000000",
          "2024-04-14T00:00:00.000000000",
          "2024-04-15T00:00:00.000000000",
          "2024-04-16T00:00:00.000000000",
          "2024-04-17T00:00:00.000000000",
          "2024-04-18T00:00:00.000000000",
          "2024-04-19T00:00:00.000000000",
          "2024-04-20T00:00:00.000000000",
          "2024-04-21T00:00:00.000000000",
          "2024-04-22T00:00:00.000000000",
          "2024-04-23T00:00:00.000000000",
          "2024-04-24T00:00:00.000000000",
          "2024-04-25T00:00:00.000000000",
          "2024-04-26T00:00:00.000000000",
          "2024-04-27T00:00:00.000000000",
          "2024-04-28T00:00:00.000000000",
          "2024-04-29T00:00:00.000000000",
          "2024-04-30T00:00:00.000000000",
          "2024-05-01T00:00:00.000000000",
          "2024-05-02T00:00:00.000000000",
          "2024-05-03T00:00:00.000000000",
          "2024-05-04T00:00:00.000000000",
          "2024-05-05T00:00:00.000000000",
          "2024-05-06T00:00:00.000000000",
          "2024-05-07T00:00:00.000000000",
          "2024-05-08T00:00:00.000000000",
          "2024-05-09T00:00:00.000000000",
          "2024-05-10T00:00:00.000000000",
          "2024-05-11T00:00:00.000000000",
          "2024-05-12T00:00:00.000000000",
          "2024-05-13T00:00:00.000000000",
          "2024-05-14T00:00:00.000000000",
          "2024-05-15T00:00:00.000000000",
          "2024-05-16T00:00:00.000000000",
          "2024-05-17T00:00:00.000000000",
          "2024-05-18T00:00:00.000000000",
          "2024-05-19T00:00:00.000000000",
          "2024-05-20T00:00:00.000000000",
          "2024-05-21T00:00:00.000000000",
          "2024-05-22T00:00:00.000000000",
          "2024-05-23T00:00:00.000000000",
          "2024-05-24T00:00:00.000000000",
          "2024-05-25T00:00:00.000000000",
          "2024-05-26T00:00:00.000000000",
          "2024-05-27T00:00:00.000000000",
          "2024-05-28T00:00:00.000000000",
          "2024-05-29T00:00:00.000000000",
          "2024-05-30T00:00:00.000000000",
          "2024-05-31T00:00:00.000000000",
          "2024-06-01T00:00:00.000000000",
          "2024-06-02T00:00:00.000000000",
          "2024-06-03T00:00:00.000000000",
          "2024-06-04T00:00:00.000000000",
          "2024-06-05T00:00:00.000000000",
          "2024-06-06T00:00:00.000000000",
          "2024-06-07T00:00:00.000000000",
          "2024-06-08T00:00:00.000000000",
          "2024-06-09T00:00:00.000000000",
          "2024-06-10T00:00:00.000000000",
          "2024-06-11T00:00:00.000000000",
          "2024-06-12T00:00:00.000000000",
          "2024-06-13T00:00:00.000000000",
          "2024-06-14T00:00:00.000000000",
          "2024-06-15T00:00:00.000000000",
          "2024-06-16T00:00:00.000000000",
          "2024-06-17T00:00:00.000000000",
          "2024-06-18T00:00:00.000000000",
          "2024-06-19T00:00:00.000000000",
          "2024-06-20T00:00:00.000000000",
          "2024-06-21T00:00:00.000000000",
          "2024-06-22T00:00:00.000000000",
          "2024-06-23T00:00:00.000000000",
          "2024-06-24T00:00:00.000000000",
          "2024-06-25T00:00:00.000000000",
          "2024-06-26T00:00:00.000000000",
          "2024-06-27T00:00:00.000000000",
          "2024-06-28T00:00:00.000000000",
          "2024-06-29T00:00:00.000000000",
          "2024-06-30T00:00:00.000000000",
          "2024-07-01T00:00:00.000000000",
          "2024-07-02T00:00:00.000000000",
          "2024-07-03T00:00:00.000000000",
          "2024-07-04T00:00:00.000000000",
          "2024-07-05T00:00:00.000000000",
          "2024-07-06T00:00:00.000000000",
          "2024-07-07T00:00:00.000000000",
          "2024-07-08T00:00:00.000000000",
          "2024-07-09T00:00:00.000000000",
          "2024-07-10T00:00:00.000000000",
          "2024-07-11T00:00:00.000000000",
          "2024-07-12T00:00:00.000000000",
          "2024-07-13T00:00:00.000000000",
          "2024-07-14T00:00:00.000000000",
          "2024-07-15T00:00:00.000000000",
          "2024-07-16T00:00:00.000000000",
          "2024-07-17T00:00:00.000000000",
          "2024-07-18T00:00:00.000000000",
          "2024-07-19T00:00:00.000000000",
          "2024-07-20T00:00:00.000000000",
          "2024-07-21T00:00:00.000000000",
          "2024-07-22T00:00:00.000000000",
          "2024-07-23T00:00:00.000000000",
          "2024-07-24T00:00:00.000000000",
          "2024-07-25T00:00:00.000000000",
          "2024-07-26T00:00:00.000000000",
          "2024-07-27T00:00:00.000000000",
          "2024-07-28T00:00:00.000000000",
          "2024-07-29T00:00:00.000000000",
          "2024-07-30T00:00:00.000000000",
          "2024-07-31T00:00:00.000000000",
          "2024-08-01T00:00:00.000000000",
          "2024-08-02T00:00:00.000000000",
          "2024-08-03T00:00:00.000000000",
          "2024-08-04T00:00:00.000000000",
          "2024-08-05T00:00:00.000000000",
          "2024-08-06T00:00:00.000000000",
          "2024-08-07T00:00:00.000000000",
          "2024-08-08T00:00:00.000000000",
          "2024-08-09T00:00:00.000000000",
          "2024-08-10T00:00:00.000000000",
          "2024-08-11T00:00:00.000000000",
          "2024-08-12T00:00:00.000000000",
          "2024-08-13T00:00:00.000000000",
          "2024-08-14T00:00:00.000000000",
          "2024-08-15T00:00:00.000000000",
          "2024-08-16T00:00:00.000000000",
          "2024-08-17T00:00:00.000000000",
          "2024-08-18T00:00:00.000000000",
          "2024-08-19T00:00:00.000000000",
          "2024-08-20T00:00:00.000000000",
          "2024-08-21T00:00:00.000000000",
          "2024-08-22T00:00:00.000000000",
          "2024-08-23T00:00:00.000000000",
          "2024-08-24T00:00:00.000000000",
          "2024-08-25T00:00:00.000000000",
          "2024-08-26T00:00:00.000000000",
          "2024-08-27T00:00:00.000000000",
          "2024-08-28T00:00:00.000000000",
          "2024-08-29T00:00:00.000000000",
          "2024-08-30T00:00:00.000000000",
          "2024-08-31T00:00:00.000000000",
          "2024-09-01T00:00:00.000000000",
          "2024-09-02T00:00:00.000000000",
          "2024-09-03T00:00:00.000000000",
          "2024-09-04T00:00:00.000000000",
          "2024-09-05T00:00:00.000000000",
          "2024-09-06T00:00:00.000000000",
          "2024-09-07T00:00:00.000000000",
          "2024-09-08T00:00:00.000000000",
          "2024-09-09T00:00:00.000000000",
          "2024-09-10T00:00:00.000000000",
          "2024-09-11T00:00:00.000000000",
          "2024-09-12T00:00:00.000000000",
          "2024-09-13T00:00:00.000000000",
          "2024-09-14T00:00:00.000000000",
          "2024-09-15T00:00:00.000000000",
          "2024-09-16T00:00:00.000000000",
          "2024-09-17T00:00:00.000000000",
          "2024-09-18T00:00:00.000000000",
          "2024-09-19T00:00:00.000000000",
          "2024-09-20T00:00:00.000000000",
          "2024-09-21T00:00:00.000000000",
          "2024-09-22T00:00:00.000000000",
          "2024-09-23T00:00:00.000000000",
          "2024-09-24T00:00:00.000000000",
          "2024-09-25T00:00:00.000000000",
          "2024-09-26T00:00:00.000000000",
          "2024-09-27T00:00:00.000000000",
          "2024-09-28T00:00:00.000000000",
          "2024-09-29T00:00:00.000000000",
          "2024-09-30T00:00:00.000000000",
          "2024-10-01T00:00:00.000000000",
          "2024-10-02T00:00:00.000000000",
          "2024-10-03T00:00:00.000000000",
          "2024-10-04T00:00:00.000000000",
          "2024-10-05T00:00:00.000000000",
          "2024-10-06T00:00:00.000000000",
          "2024-10-07T00:00:00.000000000",
          "2024-10-08T00:00:00.000000000",
          "2024-10-09T00:00:00.000000000",
          "2024-10-10T00:00:00.000000000",
          "2024-10-11T00:00:00.000000000",
          "2024-10-12T00:00:00.000000000",
          "2024-10-13T00:00:00.000000000",
          "2024-10-14T00:00:00.000000000",
          "2024-10-15T00:00:00.000000000",
          "2024-10-16T00:00:00.000000000",
          "2024-10-17T00:00:00.000000000",
          "2024-10-18T00:00:00.000000000",
          "2024-10-19T00:00:00.000000000",
          "2024-10-20T00:00:00.000000000",
          "2024-10-21T00:00:00.000000000",
          "2024-10-22T00:00:00.000000000",
          "2024-10-23T00:00:00.000000000",
          "2024-10-24T00:00:00.000000000",
          "2024-10-25T00:00:00.000000000",
          "2024-10-26T00:00:00.000000000",
          "2024-10-27T00:00:00.000000000",
          "2024-10-28T00:00:00.000000000",
          "2024-10-29T00:00:00.000000000",
          "2024-10-30T00:00:00.000000000",
          "2024-10-31T00:00:00.000000000",
          "2024-11-01T00:00:00.000000000",
          "2024-11-02T00:00:00.000000000",
          "2024-11-03T00:00:00.000000000",
          "2024-11-04T00:00:00.000000000",
          "2024-11-05T00:00:00.000000000",
          "2024-11-06T00:00:00.000000000",
          "2024-11-07T00:00:00.000000000",
          "2024-11-08T00:00:00.000000000",
          "2024-11-09T00:00:00.000000000",
          "2024-11-10T00:00:00.000000000",
          "2024-11-11T00:00:00.000000000",
          "2024-11-12T00:00:00.000000000",
          "2024-11-13T00:00:00.000000000",
          "2024-11-14T00:00:00.000000000",
          "2024-11-15T00:00:00.000000000",
          "2024-11-16T00:00:00.000000000",
          "2024-11-17T00:00:00.000000000",
          "2024-11-18T00:00:00.000000000",
          "2024-11-19T00:00:00.000000000",
          "2024-11-20T00:00:00.000000000",
          "2024-11-21T00:00:00.000000000",
          "2024-11-22T00:00:00.000000000",
          "2024-11-23T00:00:00.000000000",
          "2024-11-24T00:00:00.000000000",
          "2024-11-25T00:00:00.000000000",
          "2024-11-26T00:00:00.000000000",
          "2024-11-27T00:00:00.000000000",
          "2024-11-28T00:00:00.000000000",
          "2024-11-29T00:00:00.000000000",
          "2024-11-30T00:00:00.000000000",
          "2024-12-01T00:00:00.000000000",
          "2024-12-02T00:00:00.000000000",
          "2024-12-03T00:00:00.000000000",
          "2024-12-04T00:00:00.000000000",
          "2024-12-05T00:00:00.000000000",
          "2024-12-06T00:00:00.000000000",
          "2024-12-07T00:00:00.000000000",
          "2024-12-08T00:00:00.000000000",
          "2024-12-09T00:00:00.000000000",
          "2024-12-10T00:00:00.000000000",
          "2024-12-11T00:00:00.000000000",
          "2024-12-12T00:00:00.000000000",
          "2024-12-13T00:00:00.000000000",
          "2024-12-14T00:00:00.000000000",
          "2024-12-15T00:00:00.000000000",
          "2024-12-16T00:00:00.000000000",
          "2024-12-17T00:00:00.000000000",
          "2024-12-18T00:00:00.000000000",
          "2024-12-19T00:00:00.000000000",
          "2024-12-20T00:00:00.000000000",
          "2024-12-21T00:00:00.000000000",
          "2024-12-22T00:00:00.000000000",
          "2024-12-23T00:00:00.000000000",
          "2024-12-24T00:00:00.000000000",
          "2024-12-25T00:00:00.000000000",
          "2024-12-26T00:00:00.000000000",
          "2024-12-27T00:00:00.000000000",
          "2024-12-28T00:00:00.000000000",
          "2024-12-29T00:00:00.000000000",
          "2024-12-30T00:00:00.000000000"
         ],
         "y": {
          "bdata": "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",
          "dtype": "f8"
         }
        },
        {
         "fill": "tonexty",
         "fillcolor": "rgba(128, 128, 128, 0.1)",
         "line": {
          "color": "gray",
          "dash": "dot"
         },
         "name": "Lower Volatility Band",
         "showlegend": false,
         "type": "scatter",
         "x": [
          "2024-01-01T00:00:00.000000000",
          "2024-01-02T00:00:00.000000000",
          "2024-01-03T00:00:00.000000000",
          "2024-01-04T00:00:00.000000000",
          "2024-01-05T00:00:00.000000000",
          "2024-01-06T00:00:00.000000000",
          "2024-01-07T00:00:00.000000000",
          "2024-01-08T00:00:00.000000000",
          "2024-01-09T00:00:00.000000000",
          "2024-01-10T00:00:00.000000000",
          "2024-01-11T00:00:00.000000000",
          "2024-01-12T00:00:00.000000000",
          "2024-01-13T00:00:00.000000000",
          "2024-01-14T00:00:00.000000000",
          "2024-01-15T00:00:00.000000000",
          "2024-01-16T00:00:00.000000000",
          "2024-01-17T00:00:00.000000000",
          "2024-01-18T00:00:00.000000000",
          "2024-01-19T00:00:00.000000000",
          "2024-01-20T00:00:00.000000000",
          "2024-01-21T00:00:00.000000000",
          "2024-01-22T00:00:00.000000000",
          "2024-01-23T00:00:00.000000000",
          "2024-01-24T00:00:00.000000000",
          "2024-01-25T00:00:00.000000000",
          "2024-01-26T00:00:00.000000000",
          "2024-01-27T00:00:00.000000000",
          "2024-01-28T00:00:00.000000000",
          "2024-01-29T00:00:00.000000000",
          "2024-01-30T00:00:00.000000000",
          "2024-01-31T00:00:00.000000000",
          "2024-02-01T00:00:00.000000000",
          "2024-02-02T00:00:00.000000000",
          "2024-02-03T00:00:00.000000000",
          "2024-02-04T00:00:00.000000000",
          "2024-02-05T00:00:00.000000000",
          "2024-02-06T00:00:00.000000000",
          "2024-02-07T00:00:00.000000000",
          "2024-02-08T00:00:00.000000000",
          "2024-02-09T00:00:00.000000000",
          "2024-02-10T00:00:00.000000000",
          "2024-02-11T00:00:00.000000000",
          "2024-02-12T00:00:00.000000000",
          "2024-02-13T00:00:00.000000000",
          "2024-02-14T00:00:00.000000000",
          "2024-02-15T00:00:00.000000000",
          "2024-02-16T00:00:00.000000000",
          "2024-02-17T00:00:00.000000000",
          "2024-02-18T00:00:00.000000000",
          "2024-02-19T00:00:00.000000000",
          "2024-02-20T00:00:00.000000000",
          "2024-02-21T00:00:00.000000000",
          "2024-02-22T00:00:00.000000000",
          "2024-02-23T00:00:00.000000000",
          "2024-02-24T00:00:00.000000000",
          "2024-02-25T00:00:00.000000000",
          "2024-02-26T00:00:00.000000000",
          "2024-02-27T00:00:00.000000000",
          "2024-02-28T00:00:00.000000000",
          "2024-02-29T00:00:00.000000000",
          "2024-03-01T00:00:00.000000000",
          "2024-03-02T00:00:00.000000000",
          "2024-03-03T00:00:00.000000000",
          "2024-03-04T00:00:00.000000000",
          "2024-03-05T00:00:00.000000000",
          "2024-03-06T00:00:00.000000000",
          "2024-03-07T00:00:00.000000000",
          "2024-03-08T00:00:00.000000000",
          "2024-03-09T00:00:00.000000000",
          "2024-03-10T00:00:00.000000000",
          "2024-03-11T00:00:00.000000000",
          "2024-03-12T00:00:00.000000000",
          "2024-03-13T00:00:00.000000000",
          "2024-03-14T00:00:00.000000000",
          "2024-03-15T00:00:00.000000000",
          "2024-03-16T00:00:00.000000000",
          "2024-03-17T00:00:00.000000000",
          "2024-03-18T00:00:00.000000000",
          "2024-03-19T00:00:00.000000000",
          "2024-03-20T00:00:00.000000000",
          "2024-03-21T00:00:00.000000000",
          "2024-03-22T00:00:00.000000000",
          "2024-03-23T00:00:00.000000000",
          "2024-03-24T00:00:00.000000000",
          "2024-03-25T00:00:00.000000000",
          "2024-03-26T00:00:00.000000000",
          "2024-03-27T00:00:00.000000000",
          "2024-03-28T00:00:00.000000000",
          "2024-03-29T00:00:00.000000000",
          "2024-03-30T00:00:00.000000000",
          "2024-03-31T00:00:00.000000000",
          "2024-04-01T00:00:00.000000000",
          "2024-04-02T00:00:00.000000000",
          "2024-04-03T00:00:00.000000000",
          "2024-04-04T00:00:00.000000000",
          "2024-04-05T00:00:00.000000000",
          "2024-04-06T00:00:00.000000000",
          "2024-04-07T00:00:00.000000000",
          "2024-04-08T00:00:00.000000000",
          "2024-04-09T00:00:00.000000000",
          "2024-04-10T00:00:00.000000000",
          "2024-04-11T00:00:00.000000000",
          "2024-04-12T00:00:00.000000000",
          "2024-04-13T00:00:00.000000000",
          "2024-04-14T00:00:00.000000000",
          "2024-04-15T00:00:00.000000000",
          "2024-04-16T00:00:00.000000000",
          "2024-04-17T00:00:00.000000000",
          "2024-04-18T00:00:00.000000000",
          "2024-04-19T00:00:00.000000000",
          "2024-04-20T00:00:00.000000000",
          "2024-04-21T00:00:00.000000000",
          "2024-04-22T00:00:00.000000000",
          "2024-04-23T00:00:00.000000000",
          "2024-04-24T00:00:00.000000000",
          "2024-04-25T00:00:00.000000000",
          "2024-04-26T00:00:00.000000000",
          "2024-04-27T00:00:00.000000000",
          "2024-04-28T00:00:00.000000000",
          "2024-04-29T00:00:00.000000000",
          "2024-04-30T00:00:00.000000000",
          "2024-05-01T00:00:00.000000000",
          "2024-05-02T00:00:00.000000000",
          "2024-05-03T00:00:00.000000000",
          "2024-05-04T00:00:00.000000000",
          "2024-05-05T00:00:00.000000000",
          "2024-05-06T00:00:00.000000000",
          "2024-05-07T00:00:00.000000000",
          "2024-05-08T00:00:00.000000000",
          "2024-05-09T00:00:00.000000000",
          "2024-05-10T00:00:00.000000000",
          "2024-05-11T00:00:00.000000000",
          "2024-05-12T00:00:00.000000000",
          "2024-05-13T00:00:00.000000000",
          "2024-05-14T00:00:00.000000000",
          "2024-05-15T00:00:00.000000000",
          "2024-05-16T00:00:00.000000000",
          "2024-05-17T00:00:00.000000000",
          "2024-05-18T00:00:00.000000000",
          "2024-05-19T00:00:00.000000000",
          "2024-05-20T00:00:00.000000000",
          "2024-05-21T00:00:00.000000000",
          "2024-05-22T00:00:00.000000000",
          "2024-05-23T00:00:00.000000000",
          "2024-05-24T00:00:00.000000000",
          "2024-05-25T00:00:00.000000000",
          "2024-05-26T00:00:00.000000000",
          "2024-05-27T00:00:00.000000000",
          "2024-05-28T00:00:00.000000000",
          "2024-05-29T00:00:00.000000000",
          "2024-05-30T00:00:00.000000000",
          "2024-05-31T00:00:00.000000000",
          "2024-06-01T00:00:00.000000000",
          "2024-06-02T00:00:00.000000000",
          "2024-06-03T00:00:00.000000000",
          "2024-06-04T00:00:00.000000000",
          "2024-06-05T00:00:00.000000000",
          "2024-06-06T00:00:00.000000000",
          "2024-06-07T00:00:00.000000000",
          "2024-06-08T00:00:00.000000000",
          "2024-06-09T00:00:00.000000000",
          "2024-06-10T00:00:00.000000000",
          "2024-06-11T00:00:00.000000000",
          "2024-06-12T00:00:00.000000000",
          "2024-06-13T00:00:00.000000000",
          "2024-06-14T00:00:00.000000000",
          "2024-06-15T00:00:00.000000000",
          "2024-06-16T00:00:00.000000000",
          "2024-06-17T00:00:00.000000000",
          "2024-06-18T00:00:00.000000000",
          "2024-06-19T00:00:00.000000000",
          "2024-06-20T00:00:00.000000000",
          "2024-06-21T00:00:00.000000000",
          "2024-06-22T00:00:00.000000000",
          "2024-06-23T00:00:00.000000000",
          "2024-06-24T00:00:00.000000000",
          "2024-06-25T00:00:00.000000000",
          "2024-06-26T00:00:00.000000000",
          "2024-06-27T00:00:00.000000000",
          "2024-06-28T00:00:00.000000000",
          "2024-06-29T00:00:00.000000000",
          "2024-06-30T00:00:00.000000000",
          "2024-07-01T00:00:00.000000000",
          "2024-07-02T00:00:00.000000000",
          "2024-07-03T00:00:00.000000000",
          "2024-07-04T00:00:00.000000000",
          "2024-07-05T00:00:00.000000000",
          "2024-07-06T00:00:00.000000000",
          "2024-07-07T00:00:00.000000000",
          "2024-07-08T00:00:00.000000000",
          "2024-07-09T00:00:00.000000000",
          "2024-07-10T00:00:00.000000000",
          "2024-07-11T00:00:00.000000000",
          "2024-07-12T00:00:00.000000000",
          "2024-07-13T00:00:00.000000000",
          "2024-07-14T00:00:00.000000000",
          "2024-07-15T00:00:00.000000000",
          "2024-07-16T00:00:00.000000000",
          "2024-07-17T00:00:00.000000000",
          "2024-07-18T00:00:00.000000000",
          "2024-07-19T00:00:00.000000000",
          "2024-07-20T00:00:00.000000000",
          "2024-07-21T00:00:00.000000000",
          "2024-07-22T00:00:00.000000000",
          "2024-07-23T00:00:00.000000000",
          "2024-07-24T00:00:00.000000000",
          "2024-07-25T00:00:00.000000000",
          "2024-07-26T00:00:00.000000000",
          "2024-07-27T00:00:00.000000000",
          "2024-07-28T00:00:00.000000000",
          "2024-07-29T00:00:00.000000000",
          "2024-07-30T00:00:00.000000000",
          "2024-07-31T00:00:00.000000000",
          "2024-08-01T00:00:00.000000000",
          "2024-08-02T00:00:00.000000000",
          "2024-08-03T00:00:00.000000000",
          "2024-08-04T00:00:00.000000000",
          "2024-08-05T00:00:00.000000000",
          "2024-08-06T00:00:00.000000000",
          "2024-08-07T00:00:00.000000000",
          "2024-08-08T00:00:00.000000000",
          "2024-08-09T00:00:00.000000000",
          "2024-08-10T00:00:00.000000000",
          "2024-08-11T00:00:00.000000000",
          "2024-08-12T00:00:00.000000000",
          "2024-08-13T00:00:00.000000000",
          "2024-08-14T00:00:00.000000000",
          "2024-08-15T00:00:00.000000000",
          "2024-08-16T00:00:00.000000000",
          "2024-08-17T00:00:00.000000000",
          "2024-08-18T00:00:00.000000000",
          "2024-08-19T00:00:00.000000000",
          "2024-08-20T00:00:00.000000000",
          "2024-08-21T00:00:00.000000000",
          "2024-08-22T00:00:00.000000000",
          "2024-08-23T00:00:00.000000000",
          "2024-08-24T00:00:00.000000000",
          "2024-08-25T00:00:00.000000000",
          "2024-08-26T00:00:00.000000000",
          "2024-08-27T00:00:00.000000000",
          "2024-08-28T00:00:00.000000000",
          "2024-08-29T00:00:00.000000000",
          "2024-08-30T00:00:00.000000000",
          "2024-08-31T00:00:00.000000000",
          "2024-09-01T00:00:00.000000000",
          "2024-09-02T00:00:00.000000000",
          "2024-09-03T00:00:00.000000000",
          "2024-09-04T00:00:00.000000000",
          "2024-09-05T00:00:00.000000000",
          "2024-09-06T00:00:00.000000000",
          "2024-09-07T00:00:00.000000000",
          "2024-09-08T00:00:00.000000000",
          "2024-09-09T00:00:00.000000000",
          "2024-09-10T00:00:00.000000000",
          "2024-09-11T00:00:00.000000000",
          "2024-09-12T00:00:00.000000000",
          "2024-09-13T00:00:00.000000000",
          "2024-09-14T00:00:00.000000000",
          "2024-09-15T00:00:00.000000000",
          "2024-09-16T00:00:00.000000000",
          "2024-09-17T00:00:00.000000000",
          "2024-09-18T00:00:00.000000000",
          "2024-09-19T00:00:00.000000000",
          "2024-09-20T00:00:00.000000000",
          "2024-09-21T00:00:00.000000000",
          "2024-09-22T00:00:00.000000000",
          "2024-09-23T00:00:00.000000000",
          "2024-09-24T00:00:00.000000000",
          "2024-09-25T00:00:00.000000000",
          "2024-09-26T00:00:00.000000000",
          "2024-09-27T00:00:00.000000000",
          "2024-09-28T00:00:00.000000000",
          "2024-09-29T00:00:00.000000000",
          "2024-09-30T00:00:00.000000000",
          "2024-10-01T00:00:00.000000000",
          "2024-10-02T00:00:00.000000000",
          "2024-10-03T00:00:00.000000000",
          "2024-10-04T00:00:00.000000000",
          "2024-10-05T00:00:00.000000000",
          "2024-10-06T00:00:00.000000000",
          "2024-10-07T00:00:00.000000000",
          "2024-10-08T00:00:00.000000000",
          "2024-10-09T00:00:00.000000000",
          "2024-10-10T00:00:00.000000000",
          "2024-10-11T00:00:00.000000000",
          "2024-10-12T00:00:00.000000000",
          "2024-10-13T00:00:00.000000000",
          "2024-10-14T00:00:00.000000000",
          "2024-10-15T00:00:00.000000000",
          "2024-10-16T00:00:00.000000000",
          "2024-10-17T00:00:00.000000000",
          "2024-10-18T00:00:00.000000000",
          "2024-10-19T00:00:00.000000000",
          "2024-10-20T00:00:00.000000000",
          "2024-10-21T00:00:00.000000000",
          "2024-10-22T00:00:00.000000000",
          "2024-10-23T00:00:00.000000000",
          "2024-10-24T00:00:00.000000000",
          "2024-10-25T00:00:00.000000000",
          "2024-10-26T00:00:00.000000000",
          "2024-10-27T00:00:00.000000000",
          "2024-10-28T00:00:00.000000000",
          "2024-10-29T00:00:00.000000000",
          "2024-10-30T00:00:00.000000000",
          "2024-10-31T00:00:00.000000000",
          "2024-11-01T00:00:00.000000000",
          "2024-11-02T00:00:00.000000000",
          "2024-11-03T00:00:00.000000000",
          "2024-11-04T00:00:00.000000000",
          "2024-11-05T00:00:00.000000000",
          "2024-11-06T00:00:00.000000000",
          "2024-11-07T00:00:00.000000000",
          "2024-11-08T00:00:00.000000000",
          "2024-11-09T00:00:00.000000000",
          "2024-11-10T00:00:00.000000000",
          "2024-11-11T00:00:00.000000000",
          "2024-11-12T00:00:00.000000000",
          "2024-11-13T00:00:00.000000000",
          "2024-11-14T00:00:00.000000000",
          "2024-11-15T00:00:00.000000000",
          "2024-11-16T00:00:00.000000000",
          "2024-11-17T00:00:00.000000000",
          "2024-11-18T00:00:00.000000000",
          "2024-11-19T00:00:00.000000000",
          "2024-11-20T00:00:00.000000000",
          "2024-11-21T00:00:00.000000000",
          "2024-11-22T00:00:00.000000000",
          "2024-11-23T00:00:00.000000000",
          "2024-11-24T00:00:00.000000000",
          "2024-11-25T00:00:00.000000000",
          "2024-11-26T00:00:00.000000000",
          "2024-11-27T00:00:00.000000000",
          "2024-11-28T00:00:00.000000000",
          "2024-11-29T00:00:00.000000000",
          "2024-11-30T00:00:00.000000000",
          "2024-12-01T00:00:00.000000000",
          "2024-12-02T00:00:00.000000000",
          "2024-12-03T00:00:00.000000000",
          "2024-12-04T00:00:00.000000000",
          "2024-12-05T00:00:00.000000000",
          "2024-12-06T00:00:00.000000000",
          "2024-12-07T00:00:00.000000000",
          "2024-12-08T00:00:00.000000000",
          "2024-12-09T00:00:00.000000000",
          "2024-12-10T00:00:00.000000000",
          "2024-12-11T00:00:00.000000000",
          "2024-12-12T00:00:00.000000000",
          "2024-12-13T00:00:00.000000000",
          "2024-12-14T00:00:00.000000000",
          "2024-12-15T00:00:00.000000000",
          "2024-12-16T00:00:00.000000000",
          "2024-12-17T00:00:00.000000000",
          "2024-12-18T00:00:00.000000000",
          "2024-12-19T00:00:00.000000000",
          "2024-12-20T00:00:00.000000000",
          "2024-12-21T00:00:00.000000000",
          "2024-12-22T00:00:00.000000000",
          "2024-12-23T00:00:00.000000000",
          "2024-12-24T00:00:00.000000000",
          "2024-12-25T00:00:00.000000000",
          "2024-12-26T00:00:00.000000000",
          "2024-12-27T00:00:00.000000000",
          "2024-12-28T00:00:00.000000000",
          "2024-12-29T00:00:00.000000000",
          "2024-12-30T00:00:00.000000000"
         ],
         "y": {
          "bdata": "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",
          "dtype": "f8"
         }
        }
       ],
       "layout": {
        "hovermode": "x unified",
        "template": {
         "data": {
          "bar": [
           {
            "error_x": {
             "color": "#2a3f5f"
            },
            "error_y": {
             "color": "#2a3f5f"
            },
            "marker": {
             "line": {
              "color": "#E5ECF6",
              "width": 0.5
             },
             "pattern": {
              "fillmode": "overlay",
              "size": 10,
              "solidity": 0.2
             }
            },
            "type": "bar"
           }
          ],
          "barpolar": [
           {
            "marker": {
             "line": {
              "color": "#E5ECF6",
              "width": 0.5
             },
             "pattern": {
              "fillmode": "overlay",
              "size": 10,
              "solidity": 0.2
             }
            },
            "type": "barpolar"
           }
          ],
          "carpet": [
           {
            "aaxis": {
             "endlinecolor": "#2a3f5f",
             "gridcolor": "white",
             "linecolor": "white",
             "minorgridcolor": "white",
             "startlinecolor": "#2a3f5f"
            },
            "baxis": {
             "endlinecolor": "#2a3f5f",
             "gridcolor": "white",
             "linecolor": "white",
             "minorgridcolor": "white",
             "startlinecolor": "#2a3f5f"
            },
            "type": "carpet"
           }
          ],
          "choropleth": [
           {
            "colorbar": {
             "outlinewidth": 0,
             "ticks": ""
            },
            "type": "choropleth"
           }
          ],
          "contour": [
           {
            "colorbar": {
             "outlinewidth": 0,
             "ticks": ""
            },
            "colorscale": [
             [
              0,
              "#0d0887"
             ],
             [
              0.1111111111111111,
              "#46039f"
             ],
             [
              0.2222222222222222,
              "#7201a8"
             ],
             [
              0.3333333333333333,
              "#9c179e"
             ],
             [
              0.4444444444444444,
              "#bd3786"
             ],
             [
              0.5555555555555556,
              "#d8576b"
             ],
             [
              0.6666666666666666,
              "#ed7953"
             ],
             [
              0.7777777777777778,
              "#fb9f3a"
             ],
             [
              0.8888888888888888,
              "#fdca26"
             ],
             [
              1,
              "#f0f921"
             ]
            ],
            "type": "contour"
           }
          ],
          "contourcarpet": [
           {
            "colorbar": {
             "outlinewidth": 0,
             "ticks": ""
            },
            "type": "contourcarpet"
           }
          ],
          "heatmap": [
           {
            "colorbar": {
             "outlinewidth": 0,
             "ticks": ""
            },
            "colorscale": [
             [
              0,
              "#0d0887"
             ],
             [
              0.1111111111111111,
              "#46039f"
             ],
             [
              0.2222222222222222,
              "#7201a8"
             ],
             [
              0.3333333333333333,
              "#9c179e"
             ],
             [
              0.4444444444444444,
              "#bd3786"
             ],
             [
              0.5555555555555556,
              "#d8576b"
             ],
             [
              0.6666666666666666,
              "#ed7953"
             ],
             [
              0.7777777777777778,
              "#fb9f3a"
             ],
             [
              0.8888888888888888,
              "#fdca26"
             ],
             [
              1,
              "#f0f921"
             ]
            ],
            "type": "heatmap"
           }
          ],
          "histogram": [
           {
            "marker": {
             "pattern": {
              "fillmode": "overlay",
              "size": 10,
              "solidity": 0.2
             }
            },
            "type": "histogram"
           }
          ],
          "histogram2d": [
           {
            "colorbar": {
             "outlinewidth": 0,
             "ticks": ""
            },
            "colorscale": [
             [
              0,
              "#0d0887"
             ],
             [
              0.1111111111111111,
              "#46039f"
             ],
             [
              0.2222222222222222,
              "#7201a8"
             ],
             [
              0.3333333333333333,
              "#9c179e"
             ],
             [
              0.4444444444444444,
              "#bd3786"
             ],
             [
              0.5555555555555556,
              "#d8576b"
             ],
             [
              0.6666666666666666,
              "#ed7953"
             ],
             [
              0.7777777777777778,
              "#fb9f3a"
             ],
             [
              0.8888888888888888,
              "#fdca26"
             ],
             [
              1,
              "#f0f921"
             ]
            ],
            "type": "histogram2d"
           }
          ],
          "histogram2dcontour": [
           {
            "colorbar": {
             "outlinewidth": 0,
             "ticks": ""
            },
            "colorscale": [
             [
              0,
              "#0d0887"
             ],
             [
              0.1111111111111111,
              "#46039f"
             ],
             [
              0.2222222222222222,
              "#7201a8"
             ],
             [
              0.3333333333333333,
              "#9c179e"
             ],
             [
              0.4444444444444444,
              "#bd3786"
             ],
             [
              0.5555555555555556,
              "#d8576b"
             ],
             [
              0.6666666666666666,
              "#ed7953"
             ],
             [
              0.7777777777777778,
              "#fb9f3a"
             ],
             [
              0.8888888888888888,
              "#fdca26"
             ],
             [
              1,
              "#f0f921"
             ]
            ],
            "type": "histogram2dcontour"
           }
          ],
          "mesh3d": [
           {
            "colorbar": {
             "outlinewidth": 0,
             "ticks": ""
            },
            "type": "mesh3d"
           }
          ],
          "parcoords": [
           {
            "line": {
             "colorbar": {
              "outlinewidth": 0,
              "ticks": ""
             }
            },
            "type": "parcoords"
           }
          ],
          "pie": [
           {
            "automargin": true,
            "type": "pie"
           }
          ],
          "scatter": [
           {
            "fillpattern": {
             "fillmode": "overlay",
             "size": 10,
             "solidity": 0.2
            },
            "type": "scatter"
           }
          ],
          "scatter3d": [
           {
            "line": {
             "colorbar": {
              "outlinewidth": 0,
              "ticks": ""
             }
            },
            "marker": {
             "colorbar": {
              "outlinewidth": 0,
              "ticks": ""
             }
            },
            "type": "scatter3d"
           }
          ],
          "scattercarpet": [
           {
            "marker": {
             "colorbar": {
              "outlinewidth": 0,
              "ticks": ""
             }
            },
            "type": "scattercarpet"
           }
          ],
          "scattergeo": [
           {
            "marker": {
             "colorbar": {
              "outlinewidth": 0,
              "ticks": ""
             }
            },
            "type": "scattergeo"
           }
          ],
          "scattergl": [
           {
            "marker": {
             "colorbar": {
              "outlinewidth": 0,
              "ticks": ""
             }
            },
            "type": "scattergl"
           }
          ],
          "scattermap": [
           {
            "marker": {
             "colorbar": {
              "outlinewidth": 0,
              "ticks": ""
             }
            },
            "type": "scattermap"
           }
          ],
          "scattermapbox": [
           {
            "marker": {
             "colorbar": {
              "outlinewidth": 0,
              "ticks": ""
             }
            },
            "type": "scattermapbox"
           }
          ],
          "scatterpolar": [
           {
            "marker": {
             "colorbar": {
              "outlinewidth": 0,
              "ticks": ""
             }
            },
            "type": "scatterpolar"
           }
          ],
          "scatterpolargl": [
           {
            "marker": {
             "colorbar": {
              "outlinewidth": 0,
              "ticks": ""
             }
            },
            "type": "scatterpolargl"
           }
          ],
          "scatterternary": [
           {
            "marker": {
             "colorbar": {
              "outlinewidth": 0,
              "ticks": ""
             }
            },
            "type": "scatterternary"
           }
          ],
          "surface": [
           {
            "colorbar": {
             "outlinewidth": 0,
             "ticks": ""
            },
            "colorscale": [
             [
              0,
              "#0d0887"
             ],
             [
              0.1111111111111111,
              "#46039f"
             ],
             [
              0.2222222222222222,
              "#7201a8"
             ],
             [
              0.3333333333333333,
              "#9c179e"
             ],
             [
              0.4444444444444444,
              "#bd3786"
             ],
             [
              0.5555555555555556,
              "#d8576b"
             ],
             [
              0.6666666666666666,
              "#ed7953"
             ],
             [
              0.7777777777777778,
              "#fb9f3a"
             ],
             [
              0.8888888888888888,
              "#fdca26"
             ],
             [
              1,
              "#f0f921"
             ]
            ],
            "type": "surface"
           }
          ],
          "table": [
           {
            "cells": {
             "fill": {
              "color": "#EBF0F8"
             },
             "line": {
              "color": "white"
             }
            },
            "header": {
             "fill": {
              "color": "#C8D4E3"
             },
             "line": {
              "color": "white"
             }
            },
            "type": "table"
           }
          ]
         },
         "layout": {
          "annotationdefaults": {
           "arrowcolor": "#2a3f5f",
           "arrowhead": 0,
           "arrowwidth": 1
          },
          "autotypenumbers": "strict",
          "coloraxis": {
           "colorbar": {
            "outlinewidth": 0,
            "ticks": ""
           }
          },
          "colorscale": {
           "diverging": [
            [
             0,
             "#8e0152"
            ],
            [
             0.1,
             "#c51b7d"
            ],
            [
             0.2,
             "#de77ae"
            ],
            [
             0.3,
             "#f1b6da"
            ],
            [
             0.4,
             "#fde0ef"
            ],
            [
             0.5,
             "#f7f7f7"
            ],
            [
             0.6,
             "#e6f5d0"
            ],
            [
             0.7,
             "#b8e186"
            ],
            [
             0.8,
             "#7fbc41"
            ],
            [
             0.9,
             "#4d9221"
            ],
            [
             1,
             "#276419"
            ]
           ],
           "sequential": [
            [
             0,
             "#0d0887"
            ],
            [
             0.1111111111111111,
             "#46039f"
            ],
            [
             0.2222222222222222,
             "#7201a8"
            ],
            [
             0.3333333333333333,
             "#9c179e"
            ],
            [
             0.4444444444444444,
             "#bd3786"
            ],
            [
             0.5555555555555556,
             "#d8576b"
            ],
            [
             0.6666666666666666,
             "#ed7953"
            ],
            [
             0.7777777777777778,
             "#fb9f3a"
            ],
            [
             0.8888888888888888,
             "#fdca26"
            ],
            [
             1,
             "#f0f921"
            ]
           ],
           "sequentialminus": [
            [
             0,
             "#0d0887"
            ],
            [
             0.1111111111111111,
             "#46039f"
            ],
            [
             0.2222222222222222,
             "#7201a8"
            ],
            [
             0.3333333333333333,
             "#9c179e"
            ],
            [
             0.4444444444444444,
             "#bd3786"
            ],
            [
             0.5555555555555556,
             "#d8576b"
            ],
            [
             0.6666666666666666,
             "#ed7953"
            ],
            [
             0.7777777777777778,
             "#fb9f3a"
            ],
            [
             0.8888888888888888,
             "#fdca26"
            ],
            [
             1,
             "#f0f921"
            ]
           ]
          },
          "colorway": [
           "#636efa",
           "#EF553B",
           "#00cc96",
           "#ab63fa",
           "#FFA15A",
           "#19d3f3",
           "#FF6692",
           "#B6E880",
           "#FF97FF",
           "#FECB52"
          ],
          "font": {
           "color": "#2a3f5f"
          },
          "geo": {
           "bgcolor": "white",
           "lakecolor": "white",
           "landcolor": "#E5ECF6",
           "showlakes": true,
           "showland": true,
           "subunitcolor": "white"
          },
          "hoverlabel": {
           "align": "left"
          },
          "hovermode": "closest",
          "mapbox": {
           "style": "light"
          },
          "paper_bgcolor": "white",
          "plot_bgcolor": "#E5ECF6",
          "polar": {
           "angularaxis": {
            "gridcolor": "white",
            "linecolor": "white",
            "ticks": ""
           },
           "bgcolor": "#E5ECF6",
           "radialaxis": {
            "gridcolor": "white",
            "linecolor": "white",
            "ticks": ""
           }
          },
          "scene": {
           "xaxis": {
            "backgroundcolor": "#E5ECF6",
            "gridcolor": "white",
            "gridwidth": 2,
            "linecolor": "white",
            "showbackground": true,
            "ticks": "",
            "zerolinecolor": "white"
           },
           "yaxis": {
            "backgroundcolor": "#E5ECF6",
            "gridcolor": "white",
            "gridwidth": 2,
            "linecolor": "white",
            "showbackground": true,
            "ticks": "",
            "zerolinecolor": "white"
           },
           "zaxis": {
            "backgroundcolor": "#E5ECF6",
            "gridcolor": "white",
            "gridwidth": 2,
            "linecolor": "white",
            "showbackground": true,
            "ticks": "",
            "zerolinecolor": "white"
           }
          },
          "shapedefaults": {
           "line": {
            "color": "#2a3f5f"
           }
          },
          "ternary": {
           "aaxis": {
            "gridcolor": "white",
            "linecolor": "white",
            "ticks": ""
           },
           "baxis": {
            "gridcolor": "white",
            "linecolor": "white",
            "ticks": ""
           },
           "bgcolor": "#E5ECF6",
           "caxis": {
            "gridcolor": "white",
            "linecolor": "white",
            "ticks": ""
           }
          },
          "title": {
           "x": 0.05
          },
          "xaxis": {
           "automargin": true,
           "gridcolor": "white",
           "linecolor": "white",
           "ticks": "",
           "title": {
            "standoff": 15
           },
           "zerolinecolor": "white",
           "zerolinewidth": 2
          },
          "yaxis": {
           "automargin": true,
           "gridcolor": "white",
           "linecolor": "white",
           "ticks": "",
           "title": {
            "standoff": 15
           },
           "zerolinecolor": "white",
           "zerolinewidth": 2
          }
         }
        },
        "title": {
         "text": "Price Trends with Confidence Bands"
        },
        "xaxis": {
         "title": {
          "text": "Date"
         }
        },
        "yaxis": {
         "title": {
          "text": "Price (₹/Quintal)"
         }
        }
       }
      }
     },
     "metadata": {},
     "output_type": "display_data"
    },
    {
     "data": {
      "application/vnd.plotly.v1+json": {
       "config": {
        "plotlyServerURL": "https://plot.ly"
       },
       "data": [
        {
         "line": {
          "color": "blue"
         },
         "name": "Average Price",
         "type": "scatter",
         "x": {
          "bdata": "AQAAAAIAAAADAAAABAAAAAUAAAAGAAAABwAAAAgAAAAJAAAACgAAAAsAAAAMAAAA",
          "dtype": "i4"
         },
         "y": {
          "bdata": "A+QwRGDnQ0DW93AUFHZEQIM+dRe6DUVAkYUYUhh0RUCd/id2IsFFQEXSctTxqUZACkvwRL0BR0CJ+NMzqjBHQJTAydoWX0dAq5Vub4UvSEA5+AumkslIQMK8/c1mq0hA",
          "dtype": "f8"
         }
        },
        {
         "line": {
          "color": "gray",
          "dash": "dot"
         },
         "name": "Price Range",
         "showlegend": false,
         "type": "scatter",
         "x": {
          "bdata": "AQAAAAIAAAADAAAABAAAAAUAAAAGAAAABwAAAAgAAAAJAAAACgAAAAsAAAAMAAAA",
          "dtype": "i4"
         },
         "y": {
          "bdata": "3cREiljiR0AaVGTg2whIQKyi9MNlCElA089tiWzfSEBJYLnuQ3pJQD3G9WTcd0pAy7GyMZSnSkAYCEhNpgxLQHoihIp9vEtAGbryVRv4S0C61OLTAZpMQHRtfuY2VExA",
          "dtype": "f8"
         }
        },
        {
         "fill": "tonexty",
         "fillcolor": "rgba(128, 128, 128, 0.1)",
         "line": {
          "color": "gray",
          "dash": "dot"
         },
         "name": "Price Range",
         "showlegend": false,
         "type": "scatter",
         "x": {
          "bdata": "AQAAAAIAAAADAAAABAAAAAUAAAAGAAAABwAAAAgAAAAJAAAACgAAAAsAAAAMAAAA",
          "dtype": "i4"
         },
         "y": {
          "bdata": "UwY6/M/YP0CSm31ITONAQFra9WoOE0FATzvDGsQIQkDxnJb9AAhCQE3e70MH3EJASeQtWOZbQ0D66F8arlRDQK5eDyuwAUNAPXHqiO9mREC4GzV4I/lEQBAMfbWWAkVA",
          "dtype": "f8"
         }
        }
       ],
       "layout": {
        "template": {
         "data": {
          "bar": [
           {
            "error_x": {
             "color": "#2a3f5f"
            },
            "error_y": {
             "color": "#2a3f5f"
            },
            "marker": {
             "line": {
              "color": "#E5ECF6",
              "width": 0.5
             },
             "pattern": {
              "fillmode": "overlay",
              "size": 10,
              "solidity": 0.2
             }
            },
            "type": "bar"
           }
          ],
          "barpolar": [
           {
            "marker": {
             "line": {
              "color": "#E5ECF6",
              "width": 0.5
             },
             "pattern": {
              "fillmode": "overlay",
              "size": 10,
              "solidity": 0.2
             }
            },
            "type": "barpolar"
           }
          ],
          "carpet": [
           {
            "aaxis": {
             "endlinecolor": "#2a3f5f",
             "gridcolor": "white",
             "linecolor": "white",
             "minorgridcolor": "white",
             "startlinecolor": "#2a3f5f"
            },
            "baxis": {
             "endlinecolor": "#2a3f5f",
             "gridcolor": "white",
             "linecolor": "white",
             "minorgridcolor": "white",
             "startlinecolor": "#2a3f5f"
            },
            "type": "carpet"
           }
          ],
          "choropleth": [
           {
            "colorbar": {
             "outlinewidth": 0,
             "ticks": ""
            },
            "type": "choropleth"
           }
          ],
          "contour": [
           {
            "colorbar": {
             "outlinewidth": 0,
             "ticks": ""
            },
            "colorscale": [
             [
              0,
              "#0d0887"
             ],
             [
              0.1111111111111111,
              "#46039f"
             ],
             [
              0.2222222222222222,
              "#7201a8"
             ],
             [
              0.3333333333333333,
              "#9c179e"
             ],
             [
              0.4444444444444444,
              "#bd3786"
             ],
             [
              0.5555555555555556,
              "#d8576b"
             ],
             [
              0.6666666666666666,
              "#ed7953"
             ],
             [
              0.7777777777777778,
              "#fb9f3a"
             ],
             [
              0.8888888888888888,
              "#fdca26"
             ],
             [
              1,
              "#f0f921"
             ]
            ],
            "type": "contour"
           }
          ],
          "contourcarpet": [
           {
            "colorbar": {
             "outlinewidth": 0,
             "ticks": ""
            },
            "type": "contourcarpet"
           }
          ],
          "heatmap": [
           {
            "colorbar": {
             "outlinewidth": 0,
             "ticks": ""
            },
            "colorscale": [
             [
              0,
              "#0d0887"
             ],
             [
              0.1111111111111111,
              "#46039f"
             ],
             [
              0.2222222222222222,
              "#7201a8"
             ],
             [
              0.3333333333333333,
              "#9c179e"
             ],
             [
              0.4444444444444444,
              "#bd3786"
             ],
             [
              0.5555555555555556,
              "#d8576b"
             ],
             [
              0.6666666666666666,
              "#ed7953"
             ],
             [
              0.7777777777777778,
              "#fb9f3a"
             ],
             [
              0.8888888888888888,
              "#fdca26"
             ],
             [
              1,
              "#f0f921"
             ]
            ],
            "type": "heatmap"
           }
          ],
          "histogram": [
           {
            "marker": {
             "pattern": {
              "fillmode": "overlay",
              "size": 10,
              "solidity": 0.2
             }
            },
            "type": "histogram"
           }
          ],
          "histogram2d": [
           {
            "colorbar": {
             "outlinewidth": 0,
             "ticks": ""
            },
            "colorscale": [
             [
              0,
              "#0d0887"
             ],
             [
              0.1111111111111111,
              "#46039f"
             ],
             [
              0.2222222222222222,
              "#7201a8"
             ],
             [
              0.3333333333333333,
              "#9c179e"
             ],
             [
              0.4444444444444444,
              "#bd3786"
             ],
             [
              0.5555555555555556,
              "#d8576b"
             ],
             [
              0.6666666666666666,
              "#ed7953"
             ],
             [
              0.7777777777777778,
              "#fb9f3a"
             ],
             [
              0.8888888888888888,
              "#fdca26"
             ],
             [
              1,
              "#f0f921"
             ]
            ],
            "type": "histogram2d"
           }
          ],
          "histogram2dcontour": [
           {
            "colorbar": {
             "outlinewidth": 0,
             "ticks": ""
            },
            "colorscale": [
             [
              0,
              "#0d0887"
             ],
             [
              0.1111111111111111,
              "#46039f"
             ],
             [
              0.2222222222222222,
              "#7201a8"
             ],
             [
              0.3333333333333333,
              "#9c179e"
             ],
             [
              0.4444444444444444,
              "#bd3786"
             ],
             [
              0.5555555555555556,
              "#d8576b"
             ],
             [
              0.6666666666666666,
              "#ed7953"
             ],
             [
              0.7777777777777778,
              "#fb9f3a"
             ],
             [
              0.8888888888888888,
              "#fdca26"
             ],
             [
              1,
              "#f0f921"
             ]
            ],
            "type": "histogram2dcontour"
           }
          ],
          "mesh3d": [
           {
            "colorbar": {
             "outlinewidth": 0,
             "ticks": ""
            },
            "type": "mesh3d"
           }
          ],
          "parcoords": [
           {
            "line": {
             "colorbar": {
              "outlinewidth": 0,
              "ticks": ""
             }
            },
            "type": "parcoords"
           }
          ],
          "pie": [
           {
            "automargin": true,
            "type": "pie"
           }
          ],
          "scatter": [
           {
            "fillpattern": {
             "fillmode": "overlay",
             "size": 10,
             "solidity": 0.2
            },
            "type": "scatter"
           }
          ],
          "scatter3d": [
           {
            "line": {
             "colorbar": {
              "outlinewidth": 0,
              "ticks": ""
             }
            },
            "marker": {
             "colorbar": {
              "outlinewidth": 0,
              "ticks": ""
             }
            },
            "type": "scatter3d"
           }
          ],
          "scattercarpet": [
           {
            "marker": {
             "colorbar": {
              "outlinewidth": 0,
              "ticks": ""
             }
            },
            "type": "scattercarpet"
           }
          ],
          "scattergeo": [
           {
            "marker": {
             "colorbar": {
              "outlinewidth": 0,
              "ticks": ""
             }
            },
            "type": "scattergeo"
           }
          ],
          "scattergl": [
           {
            "marker": {
             "colorbar": {
              "outlinewidth": 0,
              "ticks": ""
             }
            },
            "type": "scattergl"
           }
          ],
          "scattermap": [
           {
            "marker": {
             "colorbar": {
              "outlinewidth": 0,
              "ticks": ""
             }
            },
            "type": "scattermap"
           }
          ],
          "scattermapbox": [
           {
            "marker": {
             "colorbar": {
              "outlinewidth": 0,
              "ticks": ""
             }
            },
            "type": "scattermapbox"
           }
          ],
          "scatterpolar": [
           {
            "marker": {
             "colorbar": {
              "outlinewidth": 0,
              "ticks": ""
             }
            },
            "type": "scatterpolar"
           }
          ],
          "scatterpolargl": [
           {
            "marker": {
             "colorbar": {
              "outlinewidth": 0,
              "ticks": ""
             }
            },
            "type": "scatterpolargl"
           }
          ],
          "scatterternary": [
           {
            "marker": {
             "colorbar": {
              "outlinewidth": 0,
              "ticks": ""
             }
            },
            "type": "scatterternary"
           }
          ],
          "surface": [
           {
            "colorbar": {
             "outlinewidth": 0,
             "ticks": ""
            },
            "colorscale": [
             [
              0,
              "#0d0887"
             ],
             [
              0.1111111111111111,
              "#46039f"
             ],
             [
              0.2222222222222222,
              "#7201a8"
             ],
             [
              0.3333333333333333,
              "#9c179e"
             ],
             [
              0.4444444444444444,
              "#bd3786"
             ],
             [
              0.5555555555555556,
              "#d8576b"
             ],
             [
              0.6666666666666666,
              "#ed7953"
             ],
             [
              0.7777777777777778,
              "#fb9f3a"
             ],
             [
              0.8888888888888888,
              "#fdca26"
             ],
             [
              1,
              "#f0f921"
             ]
            ],
            "type": "surface"
           }
          ],
          "table": [
           {
            "cells": {
             "fill": {
              "color": "#EBF0F8"
             },
             "line": {
              "color": "white"
             }
            },
            "header": {
             "fill": {
              "color": "#C8D4E3"
             },
             "line": {
              "color": "white"
             }
            },
            "type": "table"
           }
          ]
         },
         "layout": {
          "annotationdefaults": {
           "arrowcolor": "#2a3f5f",
           "arrowhead": 0,
           "arrowwidth": 1
          },
          "autotypenumbers": "strict",
          "coloraxis": {
           "colorbar": {
            "outlinewidth": 0,
            "ticks": ""
           }
          },
          "colorscale": {
           "diverging": [
            [
             0,
             "#8e0152"
            ],
            [
             0.1,
             "#c51b7d"
            ],
            [
             0.2,
             "#de77ae"
            ],
            [
             0.3,
             "#f1b6da"
            ],
            [
             0.4,
             "#fde0ef"
            ],
            [
             0.5,
             "#f7f7f7"
            ],
            [
             0.6,
             "#e6f5d0"
            ],
            [
             0.7,
             "#b8e186"
            ],
            [
             0.8,
             "#7fbc41"
            ],
            [
             0.9,
             "#4d9221"
            ],
            [
             1,
             "#276419"
            ]
           ],
           "sequential": [
            [
             0,
             "#0d0887"
            ],
            [
             0.1111111111111111,
             "#46039f"
            ],
            [
             0.2222222222222222,
             "#7201a8"
            ],
            [
             0.3333333333333333,
             "#9c179e"
            ],
            [
             0.4444444444444444,
             "#bd3786"
            ],
            [
             0.5555555555555556,
             "#d8576b"
            ],
            [
             0.6666666666666666,
             "#ed7953"
            ],
            [
             0.7777777777777778,
             "#fb9f3a"
            ],
            [
             0.8888888888888888,
             "#fdca26"
            ],
            [
             1,
             "#f0f921"
            ]
           ],
           "sequentialminus": [
            [
             0,
             "#0d0887"
            ],
            [
             0.1111111111111111,
             "#46039f"
            ],
            [
             0.2222222222222222,
             "#7201a8"
            ],
            [
             0.3333333333333333,
             "#9c179e"
            ],
            [
             0.4444444444444444,
             "#bd3786"
            ],
            [
             0.5555555555555556,
             "#d8576b"
            ],
            [
             0.6666666666666666,
             "#ed7953"
            ],
            [
             0.7777777777777778,
             "#fb9f3a"
            ],
            [
             0.8888888888888888,
             "#fdca26"
            ],
            [
             1,
             "#f0f921"
            ]
           ]
          },
          "colorway": [
           "#636efa",
           "#EF553B",
           "#00cc96",
           "#ab63fa",
           "#FFA15A",
           "#19d3f3",
           "#FF6692",
           "#B6E880",
           "#FF97FF",
           "#FECB52"
          ],
          "font": {
           "color": "#2a3f5f"
          },
          "geo": {
           "bgcolor": "white",
           "lakecolor": "white",
           "landcolor": "#E5ECF6",
           "showlakes": true,
           "showland": true,
           "subunitcolor": "white"
          },
          "hoverlabel": {
           "align": "left"
          },
          "hovermode": "closest",
          "mapbox": {
           "style": "light"
          },
          "paper_bgcolor": "white",
          "plot_bgcolor": "#E5ECF6",
          "polar": {
           "angularaxis": {
            "gridcolor": "white",
            "linecolor": "white",
            "ticks": ""
           },
           "bgcolor": "#E5ECF6",
           "radialaxis": {
            "gridcolor": "white",
            "linecolor": "white",
            "ticks": ""
           }
          },
          "scene": {
           "xaxis": {
            "backgroundcolor": "#E5ECF6",
            "gridcolor": "white",
            "gridwidth": 2,
            "linecolor": "white",
            "showbackground": true,
            "ticks": "",
            "zerolinecolor": "white"
           },
           "yaxis": {
            "backgroundcolor": "#E5ECF6",
            "gridcolor": "white",
            "gridwidth": 2,
            "linecolor": "white",
            "showbackground": true,
            "ticks": "",
            "zerolinecolor": "white"
           },
           "zaxis": {
            "backgroundcolor": "#E5ECF6",
            "gridcolor": "white",
            "gridwidth": 2,
            "linecolor": "white",
            "showbackground": true,
            "ticks": "",
            "zerolinecolor": "white"
           }
          },
          "shapedefaults": {
           "line": {
            "color": "#2a3f5f"
           }
          },
          "ternary": {
           "aaxis": {
            "gridcolor": "white",
            "linecolor": "white",
            "ticks": ""
           },
           "baxis": {
            "gridcolor": "white",
            "linecolor": "white",
            "ticks": ""
           },
           "bgcolor": "#E5ECF6",
           "caxis": {
            "gridcolor": "white",
            "linecolor": "white",
            "ticks": ""
           }
          },
          "title": {
           "x": 0.05
          },
          "xaxis": {
           "automargin": true,
           "gridcolor": "white",
           "linecolor": "white",
           "ticks": "",
           "title": {
            "standoff": 15
           },
           "zerolinecolor": "white",
           "zerolinewidth": 2
          },
          "yaxis": {
           "automargin": true,
           "gridcolor": "white",
           "linecolor": "white",
           "ticks": "",
           "title": {
            "standoff": 15
           },
           "zerolinecolor": "white",
           "zerolinewidth": 2
          }
         }
        },
        "title": {
         "text": "Seasonal Price Patterns"
        },
        "xaxis": {
         "tickmode": "array",
         "ticktext": [
          "Jan",
          "Feb",
          "Mar",
          "Apr",
          "May",
          "Jun",
          "Jul",
          "Aug",
          "Sep",
          "Oct",
          "Nov",
          "Dec"
         ],
         "tickvals": [
          1,
          2,
          3,
          4,
          5,
          6,
          7,
          8,
          9,
          10,
          11,
          12
         ],
         "title": {
          "text": "Month"
         }
        },
        "yaxis": {
         "title": {
          "text": "Price (₹/Quintal)"
         }
        }
       }
      }
     },
     "metadata": {},
     "output_type": "display_data"
    },
    {
     "data": {
      "application/vnd.plotly.v1+json": {
       "config": {
        "plotlyServerURL": "https://plot.ly"
       },
       "data": [
        {
         "gauge": {
          "axis": {
           "range": [
            0,
            100
           ]
          },
          "bar": {
           "color": "red"
          },
          "steps": [
           {
            "color": "green",
            "range": [
             0,
             33
            ]
           },
           {
            "color": "yellow",
            "range": [
             33,
             66
            ]
           },
           {
            "color": "red",
            "range": [
             66,
             100
            ]
           }
          ],
          "threshold": {
           "line": {
            "color": "black",
            "width": 4
           },
           "thickness": 0.75,
           "value": 46.666666666666664
          }
         },
         "mode": "gauge+number",
         "title": {
          "text": "Market Supply Pressure"
         },
         "type": "indicator",
         "value": 46.666666666666664
        }
       ],
       "layout": {
        "template": {
         "data": {
          "bar": [
           {
            "error_x": {
             "color": "#2a3f5f"
            },
            "error_y": {
             "color": "#2a3f5f"
            },
            "marker": {
             "line": {
              "color": "#E5ECF6",
              "width": 0.5
             },
             "pattern": {
              "fillmode": "overlay",
              "size": 10,
              "solidity": 0.2
             }
            },
            "type": "bar"
           }
          ],
          "barpolar": [
           {
            "marker": {
             "line": {
              "color": "#E5ECF6",
              "width": 0.5
             },
             "pattern": {
              "fillmode": "overlay",
              "size": 10,
              "solidity": 0.2
             }
            },
            "type": "barpolar"
           }
          ],
          "carpet": [
           {
            "aaxis": {
             "endlinecolor": "#2a3f5f",
             "gridcolor": "white",
             "linecolor": "white",
             "minorgridcolor": "white",
             "startlinecolor": "#2a3f5f"
            },
            "baxis": {
             "endlinecolor": "#2a3f5f",
             "gridcolor": "white",
             "linecolor": "white",
             "minorgridcolor": "white",
             "startlinecolor": "#2a3f5f"
            },
            "type": "carpet"
           }
          ],
          "choropleth": [
           {
            "colorbar": {
             "outlinewidth": 0,
             "ticks": ""
            },
            "type": "choropleth"
           }
          ],
          "contour": [
           {
            "colorbar": {
             "outlinewidth": 0,
             "ticks": ""
            },
            "colorscale": [
             [
              0,
              "#0d0887"
             ],
             [
              0.1111111111111111,
              "#46039f"
             ],
             [
              0.2222222222222222,
              "#7201a8"
             ],
             [
              0.3333333333333333,
              "#9c179e"
             ],
             [
              0.4444444444444444,
              "#bd3786"
             ],
             [
              0.5555555555555556,
              "#d8576b"
             ],
             [
              0.6666666666666666,
              "#ed7953"
             ],
             [
              0.7777777777777778,
              "#fb9f3a"
             ],
             [
              0.8888888888888888,
              "#fdca26"
             ],
             [
              1,
              "#f0f921"
             ]
            ],
            "type": "contour"
           }
          ],
          "contourcarpet": [
           {
            "colorbar": {
             "outlinewidth": 0,
             "ticks": ""
            },
            "type": "contourcarpet"
           }
          ],
          "heatmap": [
           {
            "colorbar": {
             "outlinewidth": 0,
             "ticks": ""
            },
            "colorscale": [
             [
              0,
              "#0d0887"
             ],
             [
              0.1111111111111111,
              "#46039f"
             ],
             [
              0.2222222222222222,
              "#7201a8"
             ],
             [
              0.3333333333333333,
              "#9c179e"
             ],
             [
              0.4444444444444444,
              "#bd3786"
             ],
             [
              0.5555555555555556,
              "#d8576b"
             ],
             [
              0.6666666666666666,
              "#ed7953"
             ],
             [
              0.7777777777777778,
              "#fb9f3a"
             ],
             [
              0.8888888888888888,
              "#fdca26"
             ],
             [
              1,
              "#f0f921"
             ]
            ],
            "type": "heatmap"
           }
          ],
          "histogram": [
           {
            "marker": {
             "pattern": {
              "fillmode": "overlay",
              "size": 10,
              "solidity": 0.2
             }
            },
            "type": "histogram"
           }
          ],
          "histogram2d": [
           {
            "colorbar": {
             "outlinewidth": 0,
             "ticks": ""
            },
            "colorscale": [
             [
              0,
              "#0d0887"
             ],
             [
              0.1111111111111111,
              "#46039f"
             ],
             [
              0.2222222222222222,
              "#7201a8"
             ],
             [
              0.3333333333333333,
              "#9c179e"
             ],
             [
              0.4444444444444444,
              "#bd3786"
             ],
             [
              0.5555555555555556,
              "#d8576b"
             ],
             [
              0.6666666666666666,
              "#ed7953"
             ],
             [
              0.7777777777777778,
              "#fb9f3a"
             ],
             [
              0.8888888888888888,
              "#fdca26"
             ],
             [
              1,
              "#f0f921"
             ]
            ],
            "type": "histogram2d"
           }
          ],
          "histogram2dcontour": [
           {
            "colorbar": {
             "outlinewidth": 0,
             "ticks": ""
            },
            "colorscale": [
             [
              0,
              "#0d0887"
             ],
             [
              0.1111111111111111,
              "#46039f"
             ],
             [
              0.2222222222222222,
              "#7201a8"
             ],
             [
              0.3333333333333333,
              "#9c179e"
             ],
             [
              0.4444444444444444,
              "#bd3786"
             ],
             [
              0.5555555555555556,
              "#d8576b"
             ],
             [
              0.6666666666666666,
              "#ed7953"
             ],
             [
              0.7777777777777778,
              "#fb9f3a"
             ],
             [
              0.8888888888888888,
              "#fdca26"
             ],
             [
              1,
              "#f0f921"
             ]
            ],
            "type": "histogram2dcontour"
           }
          ],
          "mesh3d": [
           {
            "colorbar": {
             "outlinewidth": 0,
             "ticks": ""
            },
            "type": "mesh3d"
           }
          ],
          "parcoords": [
           {
            "line": {
             "colorbar": {
              "outlinewidth": 0,
              "ticks": ""
             }
            },
            "type": "parcoords"
           }
          ],
          "pie": [
           {
            "automargin": true,
            "type": "pie"
           }
          ],
          "scatter": [
           {
            "fillpattern": {
             "fillmode": "overlay",
             "size": 10,
             "solidity": 0.2
            },
            "type": "scatter"
           }
          ],
          "scatter3d": [
           {
            "line": {
             "colorbar": {
              "outlinewidth": 0,
              "ticks": ""
             }
            },
            "marker": {
             "colorbar": {
              "outlinewidth": 0,
              "ticks": ""
             }
            },
            "type": "scatter3d"
           }
          ],
          "scattercarpet": [
           {
            "marker": {
             "colorbar": {
              "outlinewidth": 0,
              "ticks": ""
             }
            },
            "type": "scattercarpet"
           }
          ],
          "scattergeo": [
           {
            "marker": {
             "colorbar": {
              "outlinewidth": 0,
              "ticks": ""
             }
            },
            "type": "scattergeo"
           }
          ],
          "scattergl": [
           {
            "marker": {
             "colorbar": {
              "outlinewidth": 0,
              "ticks": ""
             }
            },
            "type": "scattergl"
           }
          ],
          "scattermap": [
           {
            "marker": {
             "colorbar": {
              "outlinewidth": 0,
              "ticks": ""
             }
            },
            "type": "scattermap"
           }
          ],
          "scattermapbox": [
           {
            "marker": {
             "colorbar": {
              "outlinewidth": 0,
              "ticks": ""
             }
            },
            "type": "scattermapbox"
           }
          ],
          "scatterpolar": [
           {
            "marker": {
             "colorbar": {
              "outlinewidth": 0,
              "ticks": ""
             }
            },
            "type": "scatterpolar"
           }
          ],
          "scatterpolargl": [
           {
            "marker": {
             "colorbar": {
              "outlinewidth": 0,
              "ticks": ""
             }
            },
            "type": "scatterpolargl"
           }
          ],
          "scatterternary": [
           {
            "marker": {
             "colorbar": {
              "outlinewidth": 0,
              "ticks": ""
             }
            },
            "type": "scatterternary"
           }
          ],
          "surface": [
           {
            "colorbar": {
             "outlinewidth": 0,
             "ticks": ""
            },
            "colorscale": [
             [
              0,
              "#0d0887"
             ],
             [
              0.1111111111111111,
              "#46039f"
             ],
             [
              0.2222222222222222,
              "#7201a8"
             ],
             [
              0.3333333333333333,
              "#9c179e"
             ],
             [
              0.4444444444444444,
              "#bd3786"
             ],
             [
              0.5555555555555556,
              "#d8576b"
             ],
             [
              0.6666666666666666,
              "#ed7953"
             ],
             [
              0.7777777777777778,
              "#fb9f3a"
             ],
             [
              0.8888888888888888,
              "#fdca26"
             ],
             [
              1,
              "#f0f921"
             ]
            ],
            "type": "surface"
           }
          ],
          "table": [
           {
            "cells": {
             "fill": {
              "color": "#EBF0F8"
             },
             "line": {
              "color": "white"
             }
            },
            "header": {
             "fill": {
              "color": "#C8D4E3"
             },
             "line": {
              "color": "white"
             }
            },
            "type": "table"
           }
          ]
         },
         "layout": {
          "annotationdefaults": {
           "arrowcolor": "#2a3f5f",
           "arrowhead": 0,
           "arrowwidth": 1
          },
          "autotypenumbers": "strict",
          "coloraxis": {
           "colorbar": {
            "outlinewidth": 0,
            "ticks": ""
           }
          },
          "colorscale": {
           "diverging": [
            [
             0,
             "#8e0152"
            ],
            [
             0.1,
             "#c51b7d"
            ],
            [
             0.2,
             "#de77ae"
            ],
            [
             0.3,
             "#f1b6da"
            ],
            [
             0.4,
             "#fde0ef"
            ],
            [
             0.5,
             "#f7f7f7"
            ],
            [
             0.6,
             "#e6f5d0"
            ],
            [
             0.7,
             "#b8e186"
            ],
            [
             0.8,
             "#7fbc41"
            ],
            [
             0.9,
             "#4d9221"
            ],
            [
             1,
             "#276419"
            ]
           ],
           "sequential": [
            [
             0,
             "#0d0887"
            ],
            [
             0.1111111111111111,
             "#46039f"
            ],
            [
             0.2222222222222222,
             "#7201a8"
            ],
            [
             0.3333333333333333,
             "#9c179e"
            ],
            [
             0.4444444444444444,
             "#bd3786"
            ],
            [
             0.5555555555555556,
             "#d8576b"
            ],
            [
             0.6666666666666666,
             "#ed7953"
            ],
            [
             0.7777777777777778,
             "#fb9f3a"
            ],
            [
             0.8888888888888888,
             "#fdca26"
            ],
            [
             1,
             "#f0f921"
            ]
           ],
           "sequentialminus": [
            [
             0,
             "#0d0887"
            ],
            [
             0.1111111111111111,
             "#46039f"
            ],
            [
             0.2222222222222222,
             "#7201a8"
            ],
            [
             0.3333333333333333,
             "#9c179e"
            ],
            [
             0.4444444444444444,
             "#bd3786"
            ],
            [
             0.5555555555555556,
             "#d8576b"
            ],
            [
             0.6666666666666666,
             "#ed7953"
            ],
            [
             0.7777777777777778,
             "#fb9f3a"
            ],
            [
             0.8888888888888888,
             "#fdca26"
            ],
            [
             1,
             "#f0f921"
            ]
           ]
          },
          "colorway": [
           "#636efa",
           "#EF553B",
           "#00cc96",
           "#ab63fa",
           "#FFA15A",
           "#19d3f3",
           "#FF6692",
           "#B6E880",
           "#FF97FF",
           "#FECB52"
          ],
          "font": {
           "color": "#2a3f5f"
          },
          "geo": {
           "bgcolor": "white",
           "lakecolor": "white",
           "landcolor": "#E5ECF6",
           "showlakes": true,
           "showland": true,
           "subunitcolor": "white"
          },
          "hoverlabel": {
           "align": "left"
          },
          "hovermode": "closest",
          "mapbox": {
           "style": "light"
          },
          "paper_bgcolor": "white",
          "plot_bgcolor": "#E5ECF6",
          "polar": {
           "angularaxis": {
            "gridcolor": "white",
            "linecolor": "white",
            "ticks": ""
           },
           "bgcolor": "#E5ECF6",
           "radialaxis": {
            "gridcolor": "white",
            "linecolor": "white",
            "ticks": ""
           }
          },
          "scene": {
           "xaxis": {
            "backgroundcolor": "#E5ECF6",
            "gridcolor": "white",
            "gridwidth": 2,
            "linecolor": "white",
            "showbackground": true,
            "ticks": "",
            "zerolinecolor": "white"
           },
           "yaxis": {
            "backgroundcolor": "#E5ECF6",
            "gridcolor": "white",
            "gridwidth": 2,
            "linecolor": "white",
            "showbackground": true,
            "ticks": "",
            "zerolinecolor": "white"
           },
           "zaxis": {
            "backgroundcolor": "#E5ECF6",
            "gridcolor": "white",
            "gridwidth": 2,
            "linecolor": "white",
            "showbackground": true,
            "ticks": "",
            "zerolinecolor": "white"
           }
          },
          "shapedefaults": {
           "line": {
            "color": "#2a3f5f"
           }
          },
          "ternary": {
           "aaxis": {
            "gridcolor": "white",
            "linecolor": "white",
            "ticks": ""
           },
           "baxis": {
            "gridcolor": "white",
            "linecolor": "white",
            "ticks": ""
           },
           "bgcolor": "#E5ECF6",
           "caxis": {
            "gridcolor": "white",
            "linecolor": "white",
            "ticks": ""
           }
          },
          "title": {
           "x": 0.05
          },
          "xaxis": {
           "automargin": true,
           "gridcolor": "white",
           "linecolor": "white",
           "ticks": "",
           "title": {
            "standoff": 15
           },
           "zerolinecolor": "white",
           "zerolinewidth": 2
          },
          "yaxis": {
           "automargin": true,
           "gridcolor": "white",
           "linecolor": "white",
           "ticks": "",
           "title": {
            "standoff": 15
           },
           "zerolinecolor": "white",
           "zerolinewidth": 2
          }
         }
        }
       }
      }
     },
     "metadata": {},
     "output_type": "display_data"
    }
   ],
   "source": [
    "# Interactive Market Analysis Dashboard\n",
    "\n",
    "def create_market_dashboard(region_data, current_date=None):\n",
    "    \"\"\"\n",
    "    Create interactive visualizations for market analysis\n",
    "    \"\"\"\n",
    "    if current_date is None:\n",
    "        current_date = region_data['date'].max()\n",
    "    \n",
    "    # 1. Price Trends with Confidence Intervals\n",
    "    fig = go.Figure()\n",
    "    \n",
    "    # Historical prices\n",
    "    fig.add_trace(\n",
    "        go.Scatter(\n",
    "            x=region_data['date'],\n",
    "            y=region_data['price'],\n",
    "            name='Actual Price',\n",
    "            line=dict(color='blue')\n",
    "        )\n",
    "    )\n",
    "    \n",
    "    # Add moving averages\n",
    "    fig.add_trace(\n",
    "        go.Scatter(\n",
    "            x=region_data['date'],\n",
    "            y=region_data['price_ma_30'],\n",
    "            name='30-Day Trend',\n",
    "            line=dict(color='red', dash='dash')\n",
    "        )\n",
    "    )\n",
    "    \n",
    "    # Add volatility bands\n",
    "    fig.add_trace(\n",
    "        go.Scatter(\n",
    "            x=region_data['date'],\n",
    "            y=region_data['price_ma_30'] + 2*region_data['price_volatility_30d'],\n",
    "            name='Upper Volatility Band',\n",
    "            line=dict(color='gray', dash='dot'),\n",
    "            showlegend=False\n",
    "        )\n",
    "    )\n",
    "    \n",
    "    fig.add_trace(\n",
    "        go.Scatter(\n",
    "            x=region_data['date'],\n",
    "            y=region_data['price_ma_30'] - 2*region_data['price_volatility_30d'],\n",
    "            name='Lower Volatility Band',\n",
    "            line=dict(color='gray', dash='dot'),\n",
    "            fill='tonexty',\n",
    "            fillcolor='rgba(128, 128, 128, 0.1)',\n",
    "            showlegend=False\n",
    "        )\n",
    "    )\n",
    "    \n",
    "    fig.update_layout(\n",
    "        title='Price Trends with Confidence Bands',\n",
    "        xaxis_title='Date',\n",
    "        yaxis_title='Price (₹/Quintal)',\n",
    "        hovermode='x unified'\n",
    "    )\n",
    "    \n",
    "    # 2. Create seasonal pattern visualization\n",
    "    season_fig = go.Figure()\n",
    "    \n",
    "    monthly_stats = region_data.groupby('month').agg({\n",
    "        'price': ['mean', 'std']\n",
    "    }).reset_index()\n",
    "    \n",
    "    season_fig.add_trace(\n",
    "        go.Scatter(\n",
    "            x=monthly_stats['month'],\n",
    "            y=monthly_stats['price']['mean'],\n",
    "            name='Average Price',\n",
    "            line=dict(color='blue')\n",
    "        )\n",
    "    )\n",
    "    \n",
    "    # Add confidence bands\n",
    "    season_fig.add_trace(\n",
    "        go.Scatter(\n",
    "            x=monthly_stats['month'],\n",
    "            y=monthly_stats['price']['mean'] + monthly_stats['price']['std'],\n",
    "            name='Price Range',\n",
    "            line=dict(color='gray', dash='dot'),\n",
    "            showlegend=False\n",
    "        )\n",
    "    )\n",
    "    \n",
    "    season_fig.add_trace(\n",
    "        go.Scatter(\n",
    "            x=monthly_stats['month'],\n",
    "            y=monthly_stats['price']['mean'] - monthly_stats['price']['std'],\n",
    "            name='Price Range',\n",
    "            fill='tonexty',\n",
    "            fillcolor='rgba(128, 128, 128, 0.1)',\n",
    "            line=dict(color='gray', dash='dot'),\n",
    "            showlegend=False\n",
    "        )\n",
    "    )\n",
    "    \n",
    "    season_fig.update_layout(\n",
    "        title='Seasonal Price Patterns',\n",
    "        xaxis_title='Month',\n",
    "        yaxis_title='Price (₹/Quintal)',\n",
    "        xaxis=dict(tickmode='array', ticktext=['Jan', 'Feb', 'Mar', 'Apr', 'May', 'Jun', \n",
    "                                             'Jul', 'Aug', 'Sep', 'Oct', 'Nov', 'Dec'],\n",
    "                  tickvals=list(range(1, 13)))\n",
    "    )\n",
    "    \n",
    "    # 3. Create supply-demand pressure gauge\n",
    "    recent_data = region_data[region_data['date'] <= current_date].tail(30)\n",
    "    supply_pressure = recent_data['supply_pressure'].mean()\n",
    "    \n",
    "    gauge_fig = go.Figure(go.Indicator(\n",
    "        mode=\"gauge+number\",\n",
    "        value=supply_pressure * 100,\n",
    "        title={'text': \"Market Supply Pressure\"},\n",
    "        gauge={\n",
    "            'axis': {'range': [0, 100]},\n",
    "            'bar': {'color': \"red\"},\n",
    "            'steps': [\n",
    "                {'range': [0, 33], 'color': \"green\"},\n",
    "                {'range': [33, 66], 'color': \"yellow\"},\n",
    "                {'range': [66, 100], 'color': \"red\"}\n",
    "            ],\n",
    "            'threshold': {\n",
    "                'line': {'color': \"black\", 'width': 4},\n",
    "                'thickness': 0.75,\n",
    "                'value': supply_pressure * 100\n",
    "            }\n",
    "        }\n",
    "    ))\n",
    "    \n",
    "    return fig, season_fig, gauge_fig\n",
    "\n",
    "# Generate and display the dashboard\n",
    "price_trend_fig, seasonal_fig, pressure_gauge = create_market_dashboard(data)\n",
    "\n",
    "print(\"Displaying interactive market analysis dashboard...\")\n",
    "price_trend_fig.show()\n",
    "seasonal_fig.show()\n",
    "pressure_gauge.show()"
   ]
  }
 ],
 "metadata": {
  "kernelspec": {
   "display_name": "venv",
   "language": "python",
   "name": "python3"
  },
  "language_info": {
   "codemirror_mode": {
    "name": "ipython",
    "version": 3
   },
   "file_extension": ".py",
   "mimetype": "text/x-python",
   "name": "python",
   "nbconvert_exporter": "python",
   "pygments_lexer": "ipython3",
   "version": "3.13.0"
  }
 },
 "nbformat": 4,
 "nbformat_minor": 5
}
